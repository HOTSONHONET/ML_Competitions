{
 "cells": [
  {
   "cell_type": "code",
   "execution_count": 1,
   "metadata": {
    "colab": {},
    "colab_type": "code",
    "id": "xIXdga_7KSg4"
   },
   "outputs": [],
   "source": [
    "from zipfile import ZipFile"
   ]
  },
  {
   "cell_type": "code",
   "execution_count": 2,
   "metadata": {
    "colab": {
     "base_uri": "https://localhost:8080/",
     "height": 34
    },
    "colab_type": "code",
    "id": "XsCbzLRYiu2g",
    "outputId": "498d6e1f-341c-44c3-c57f-10d1b77e744c"
   },
   "outputs": [
    {
     "name": "stdout",
     "output_type": "stream",
     "text": [
      "Done Extracting\n"
     ]
    }
   ],
   "source": [
    "with ZipFile(\"Data.zip\", \"r\") as file:\n",
    "  file.extractall()\n",
    "  print(\"Done Extracting\")"
   ]
  },
  {
   "cell_type": "code",
   "execution_count": 3,
   "metadata": {
    "colab": {
     "base_uri": "https://localhost:8080/",
     "height": 107
    },
    "colab_type": "code",
    "id": "CFVrMFoklHe-",
    "outputId": "a9ec8415-37bc-4a11-cf0f-d8aebc4d432b"
   },
   "outputs": [
    {
     "name": "stderr",
     "output_type": "stream",
     "text": [
      "/usr/local/lib/python3.6/dist-packages/sklearn/externals/six.py:31: FutureWarning: The module is deprecated in version 0.21 and will be removed in version 0.23 since we've dropped support for Python 2.7. Please rely on the official version of six (https://pypi.org/project/six/).\n",
      "  \"(https://pypi.org/project/six/).\", FutureWarning)\n",
      "/usr/local/lib/python3.6/dist-packages/sklearn/utils/deprecation.py:144: FutureWarning: The sklearn.neighbors.base module is  deprecated in version 0.22 and will be removed in version 0.24. The corresponding classes / functions should instead be imported from sklearn.neighbors. Anything that cannot be imported from sklearn.neighbors is now part of the private API.\n",
      "  warnings.warn(message, FutureWarning)\n"
     ]
    }
   ],
   "source": [
    "import pandas as pd\n",
    "import numpy as np\n",
    "from tensorflow.keras.models import Sequential\n",
    "from tensorflow.keras.layers import Dense, Activation\n",
    "from tensorflow.keras.utils import to_categorical\n",
    "import matplotlib.pyplot as plt\n",
    "from imblearn.over_sampling import SMOTE\n",
    "\n",
    "%matplotlib inline\n"
   ]
  },
  {
   "cell_type": "code",
   "execution_count": 4,
   "metadata": {
    "colab": {},
    "colab_type": "code",
    "id": "UpiG3bslmLsL"
   },
   "outputs": [],
   "source": [
    "train_data = pd.read_csv(\"./Dataset/train.csv\")\n",
    "test_data = pd.read_csv(\"./Dataset/test.csv\")"
   ]
  },
  {
   "cell_type": "code",
   "execution_count": 5,
   "metadata": {
    "colab": {
     "base_uri": "https://localhost:8080/",
     "height": 197
    },
    "colab_type": "code",
    "id": "LiyMBnsBmZwt",
    "outputId": "c29c6f80-e854-4083-fcb2-ab4d3864da8c"
   },
   "outputs": [
    {
     "data": {
      "text/html": [
       "<div>\n",
       "<style scoped>\n",
       "    .dataframe tbody tr th:only-of-type {\n",
       "        vertical-align: middle;\n",
       "    }\n",
       "\n",
       "    .dataframe tbody tr th {\n",
       "        vertical-align: top;\n",
       "    }\n",
       "\n",
       "    .dataframe thead th {\n",
       "        text-align: right;\n",
       "    }\n",
       "</style>\n",
       "<table border=\"1\" class=\"dataframe\">\n",
       "  <thead>\n",
       "    <tr style=\"text-align: right;\">\n",
       "      <th></th>\n",
       "      <th>pet_id</th>\n",
       "      <th>issue_date</th>\n",
       "      <th>listing_date</th>\n",
       "      <th>condition</th>\n",
       "      <th>color_type</th>\n",
       "      <th>length(m)</th>\n",
       "      <th>height(cm)</th>\n",
       "      <th>X1</th>\n",
       "      <th>X2</th>\n",
       "      <th>breed_category</th>\n",
       "      <th>pet_category</th>\n",
       "    </tr>\n",
       "  </thead>\n",
       "  <tbody>\n",
       "    <tr>\n",
       "      <th>0</th>\n",
       "      <td>ANSL_69903</td>\n",
       "      <td>2016-07-10 00:00:00</td>\n",
       "      <td>2016-09-21 16:25:00</td>\n",
       "      <td>2.0</td>\n",
       "      <td>Brown Tabby</td>\n",
       "      <td>0.80</td>\n",
       "      <td>7.78</td>\n",
       "      <td>13</td>\n",
       "      <td>9</td>\n",
       "      <td>0.0</td>\n",
       "      <td>1</td>\n",
       "    </tr>\n",
       "    <tr>\n",
       "      <th>1</th>\n",
       "      <td>ANSL_66892</td>\n",
       "      <td>2013-11-21 00:00:00</td>\n",
       "      <td>2018-12-27 17:47:00</td>\n",
       "      <td>1.0</td>\n",
       "      <td>White</td>\n",
       "      <td>0.72</td>\n",
       "      <td>14.19</td>\n",
       "      <td>13</td>\n",
       "      <td>9</td>\n",
       "      <td>0.0</td>\n",
       "      <td>2</td>\n",
       "    </tr>\n",
       "    <tr>\n",
       "      <th>2</th>\n",
       "      <td>ANSL_69750</td>\n",
       "      <td>2014-09-28 00:00:00</td>\n",
       "      <td>2016-10-19 08:24:00</td>\n",
       "      <td>NaN</td>\n",
       "      <td>Brown</td>\n",
       "      <td>0.15</td>\n",
       "      <td>40.90</td>\n",
       "      <td>15</td>\n",
       "      <td>4</td>\n",
       "      <td>2.0</td>\n",
       "      <td>4</td>\n",
       "    </tr>\n",
       "    <tr>\n",
       "      <th>3</th>\n",
       "      <td>ANSL_71623</td>\n",
       "      <td>2016-12-31 00:00:00</td>\n",
       "      <td>2019-01-25 18:30:00</td>\n",
       "      <td>1.0</td>\n",
       "      <td>White</td>\n",
       "      <td>0.62</td>\n",
       "      <td>17.82</td>\n",
       "      <td>0</td>\n",
       "      <td>1</td>\n",
       "      <td>0.0</td>\n",
       "      <td>2</td>\n",
       "    </tr>\n",
       "    <tr>\n",
       "      <th>4</th>\n",
       "      <td>ANSL_57969</td>\n",
       "      <td>2017-09-28 00:00:00</td>\n",
       "      <td>2017-11-19 09:38:00</td>\n",
       "      <td>2.0</td>\n",
       "      <td>Black</td>\n",
       "      <td>0.50</td>\n",
       "      <td>11.06</td>\n",
       "      <td>18</td>\n",
       "      <td>4</td>\n",
       "      <td>0.0</td>\n",
       "      <td>1</td>\n",
       "    </tr>\n",
       "  </tbody>\n",
       "</table>\n",
       "</div>"
      ],
      "text/plain": [
       "       pet_id           issue_date  ... breed_category  pet_category\n",
       "0  ANSL_69903  2016-07-10 00:00:00  ...            0.0             1\n",
       "1  ANSL_66892  2013-11-21 00:00:00  ...            0.0             2\n",
       "2  ANSL_69750  2014-09-28 00:00:00  ...            2.0             4\n",
       "3  ANSL_71623  2016-12-31 00:00:00  ...            0.0             2\n",
       "4  ANSL_57969  2017-09-28 00:00:00  ...            0.0             1\n",
       "\n",
       "[5 rows x 11 columns]"
      ]
     },
     "execution_count": 5,
     "metadata": {
      "tags": []
     },
     "output_type": "execute_result"
    }
   ],
   "source": [
    "train_data.head()"
   ]
  },
  {
   "cell_type": "code",
   "execution_count": 6,
   "metadata": {
    "colab": {
     "base_uri": "https://localhost:8080/",
     "height": 137
    },
    "colab_type": "code",
    "id": "JFkJRK0qm7x8",
    "outputId": "2b1e17bb-d3b1-4422-97a8-eecdc582607a"
   },
   "outputs": [
    {
     "data": {
      "text/html": [
       "<div>\n",
       "<style scoped>\n",
       "    .dataframe tbody tr th:only-of-type {\n",
       "        vertical-align: middle;\n",
       "    }\n",
       "\n",
       "    .dataframe tbody tr th {\n",
       "        vertical-align: top;\n",
       "    }\n",
       "\n",
       "    .dataframe thead th {\n",
       "        text-align: right;\n",
       "    }\n",
       "</style>\n",
       "<table border=\"1\" class=\"dataframe\">\n",
       "  <thead>\n",
       "    <tr style=\"text-align: right;\">\n",
       "      <th></th>\n",
       "      <th>pet_id</th>\n",
       "      <th>issue_date</th>\n",
       "      <th>listing_date</th>\n",
       "      <th>condition</th>\n",
       "      <th>color_type</th>\n",
       "      <th>length(m)</th>\n",
       "      <th>height(cm)</th>\n",
       "      <th>X1</th>\n",
       "      <th>X2</th>\n",
       "    </tr>\n",
       "  </thead>\n",
       "  <tbody>\n",
       "    <tr>\n",
       "      <th>0</th>\n",
       "      <td>ANSL_75005</td>\n",
       "      <td>2005-08-17 00:00:00</td>\n",
       "      <td>2017-09-07 15:35:00</td>\n",
       "      <td>0.0</td>\n",
       "      <td>Black</td>\n",
       "      <td>0.87</td>\n",
       "      <td>42.73</td>\n",
       "      <td>0</td>\n",
       "      <td>7</td>\n",
       "    </tr>\n",
       "    <tr>\n",
       "      <th>1</th>\n",
       "      <td>ANSL_76663</td>\n",
       "      <td>2018-11-15 00:00:00</td>\n",
       "      <td>2019-05-08 17:24:00</td>\n",
       "      <td>1.0</td>\n",
       "      <td>Orange Tabby</td>\n",
       "      <td>0.06</td>\n",
       "      <td>6.71</td>\n",
       "      <td>0</td>\n",
       "      <td>1</td>\n",
       "    </tr>\n",
       "    <tr>\n",
       "      <th>2</th>\n",
       "      <td>ANSL_58259</td>\n",
       "      <td>2012-10-11 00:00:00</td>\n",
       "      <td>2018-04-02 16:51:00</td>\n",
       "      <td>1.0</td>\n",
       "      <td>Black</td>\n",
       "      <td>0.24</td>\n",
       "      <td>41.21</td>\n",
       "      <td>0</td>\n",
       "      <td>7</td>\n",
       "    </tr>\n",
       "  </tbody>\n",
       "</table>\n",
       "</div>"
      ],
      "text/plain": [
       "       pet_id           issue_date         listing_date  ...  height(cm) X1  X2\n",
       "0  ANSL_75005  2005-08-17 00:00:00  2017-09-07 15:35:00  ...       42.73  0   7\n",
       "1  ANSL_76663  2018-11-15 00:00:00  2019-05-08 17:24:00  ...        6.71  0   1\n",
       "2  ANSL_58259  2012-10-11 00:00:00  2018-04-02 16:51:00  ...       41.21  0   7\n",
       "\n",
       "[3 rows x 9 columns]"
      ]
     },
     "execution_count": 6,
     "metadata": {
      "tags": []
     },
     "output_type": "execute_result"
    }
   ],
   "source": [
    "test_data.head(3)"
   ]
  },
  {
   "cell_type": "code",
   "execution_count": 7,
   "metadata": {
    "colab": {
     "base_uri": "https://localhost:8080/",
     "height": 336
    },
    "colab_type": "code",
    "id": "Sy-7kzyRnOGh",
    "outputId": "c96ba11b-71b7-49c6-c324-35d6c7c955d2"
   },
   "outputs": [
    {
     "name": "stdout",
     "output_type": "stream",
     "text": [
      "<class 'pandas.core.frame.DataFrame'>\n",
      "RangeIndex: 18834 entries, 0 to 18833\n",
      "Data columns (total 11 columns):\n",
      " #   Column          Non-Null Count  Dtype  \n",
      "---  ------          --------------  -----  \n",
      " 0   pet_id          18834 non-null  object \n",
      " 1   issue_date      18834 non-null  object \n",
      " 2   listing_date    18834 non-null  object \n",
      " 3   condition       17357 non-null  float64\n",
      " 4   color_type      18834 non-null  object \n",
      " 5   length(m)       18834 non-null  float64\n",
      " 6   height(cm)      18834 non-null  float64\n",
      " 7   X1              18834 non-null  int64  \n",
      " 8   X2              18834 non-null  int64  \n",
      " 9   breed_category  18834 non-null  float64\n",
      " 10  pet_category    18834 non-null  int64  \n",
      "dtypes: float64(4), int64(3), object(4)\n",
      "memory usage: 1.6+ MB\n"
     ]
    }
   ],
   "source": [
    "train_data.info()"
   ]
  },
  {
   "cell_type": "code",
   "execution_count": 8,
   "metadata": {
    "colab": {
     "base_uri": "https://localhost:8080/",
     "height": 105
    },
    "colab_type": "code",
    "id": "i-b_IcomsCCP",
    "outputId": "1b0f813f-6e89-4ffd-e0e3-b5815384c803"
   },
   "outputs": [
    {
     "data": {
      "text/plain": [
       "2    10621\n",
       "1     7184\n",
       "4      941\n",
       "0       88\n",
       "Name: pet_category, dtype: int64"
      ]
     },
     "execution_count": 8,
     "metadata": {
      "tags": []
     },
     "output_type": "execute_result"
    }
   ],
   "source": [
    "train_data.pet_category.value_counts()"
   ]
  },
  {
   "cell_type": "code",
   "execution_count": 9,
   "metadata": {
    "colab": {
     "base_uri": "https://localhost:8080/",
     "height": 197
    },
    "colab_type": "code",
    "id": "tqNH1sdZuD6i",
    "outputId": "b4910ef9-ff32-4246-8f92-3e63b7e74ff7"
   },
   "outputs": [
    {
     "data": {
      "text/html": [
       "<div>\n",
       "<style scoped>\n",
       "    .dataframe tbody tr th:only-of-type {\n",
       "        vertical-align: middle;\n",
       "    }\n",
       "\n",
       "    .dataframe tbody tr th {\n",
       "        vertical-align: top;\n",
       "    }\n",
       "\n",
       "    .dataframe thead th {\n",
       "        text-align: right;\n",
       "    }\n",
       "</style>\n",
       "<table border=\"1\" class=\"dataframe\">\n",
       "  <thead>\n",
       "    <tr style=\"text-align: right;\">\n",
       "      <th></th>\n",
       "      <th>pet_id</th>\n",
       "      <th>issue_date</th>\n",
       "      <th>listing_date</th>\n",
       "      <th>condition</th>\n",
       "      <th>color_type</th>\n",
       "      <th>length(m)</th>\n",
       "      <th>height(cm)</th>\n",
       "      <th>X1</th>\n",
       "      <th>X2</th>\n",
       "      <th>breed_category</th>\n",
       "      <th>pet_category</th>\n",
       "    </tr>\n",
       "  </thead>\n",
       "  <tbody>\n",
       "    <tr>\n",
       "      <th>0</th>\n",
       "      <td>ANSL_69903</td>\n",
       "      <td>2016-07-10 00:00:00</td>\n",
       "      <td>2016-09-21 16:25:00</td>\n",
       "      <td>2.0</td>\n",
       "      <td>Brown Tabby</td>\n",
       "      <td>0.80</td>\n",
       "      <td>7.78</td>\n",
       "      <td>13</td>\n",
       "      <td>9</td>\n",
       "      <td>0.0</td>\n",
       "      <td>1</td>\n",
       "    </tr>\n",
       "    <tr>\n",
       "      <th>1</th>\n",
       "      <td>ANSL_66892</td>\n",
       "      <td>2013-11-21 00:00:00</td>\n",
       "      <td>2018-12-27 17:47:00</td>\n",
       "      <td>1.0</td>\n",
       "      <td>White</td>\n",
       "      <td>0.72</td>\n",
       "      <td>14.19</td>\n",
       "      <td>13</td>\n",
       "      <td>9</td>\n",
       "      <td>0.0</td>\n",
       "      <td>2</td>\n",
       "    </tr>\n",
       "    <tr>\n",
       "      <th>2</th>\n",
       "      <td>ANSL_69750</td>\n",
       "      <td>2014-09-28 00:00:00</td>\n",
       "      <td>2016-10-19 08:24:00</td>\n",
       "      <td>1.0</td>\n",
       "      <td>Brown</td>\n",
       "      <td>0.15</td>\n",
       "      <td>40.90</td>\n",
       "      <td>15</td>\n",
       "      <td>4</td>\n",
       "      <td>2.0</td>\n",
       "      <td>4</td>\n",
       "    </tr>\n",
       "    <tr>\n",
       "      <th>3</th>\n",
       "      <td>ANSL_71623</td>\n",
       "      <td>2016-12-31 00:00:00</td>\n",
       "      <td>2019-01-25 18:30:00</td>\n",
       "      <td>1.0</td>\n",
       "      <td>White</td>\n",
       "      <td>0.62</td>\n",
       "      <td>17.82</td>\n",
       "      <td>0</td>\n",
       "      <td>1</td>\n",
       "      <td>0.0</td>\n",
       "      <td>2</td>\n",
       "    </tr>\n",
       "    <tr>\n",
       "      <th>4</th>\n",
       "      <td>ANSL_57969</td>\n",
       "      <td>2017-09-28 00:00:00</td>\n",
       "      <td>2017-11-19 09:38:00</td>\n",
       "      <td>2.0</td>\n",
       "      <td>Black</td>\n",
       "      <td>0.50</td>\n",
       "      <td>11.06</td>\n",
       "      <td>18</td>\n",
       "      <td>4</td>\n",
       "      <td>0.0</td>\n",
       "      <td>1</td>\n",
       "    </tr>\n",
       "  </tbody>\n",
       "</table>\n",
       "</div>"
      ],
      "text/plain": [
       "       pet_id           issue_date  ... breed_category  pet_category\n",
       "0  ANSL_69903  2016-07-10 00:00:00  ...            0.0             1\n",
       "1  ANSL_66892  2013-11-21 00:00:00  ...            0.0             2\n",
       "2  ANSL_69750  2014-09-28 00:00:00  ...            2.0             4\n",
       "3  ANSL_71623  2016-12-31 00:00:00  ...            0.0             2\n",
       "4  ANSL_57969  2017-09-28 00:00:00  ...            0.0             1\n",
       "\n",
       "[5 rows x 11 columns]"
      ]
     },
     "execution_count": 9,
     "metadata": {
      "tags": []
     },
     "output_type": "execute_result"
    }
   ],
   "source": [
    "cond_mode = train_data.condition.mode().tolist()\n",
    "train_data_final = train_data.fillna(cond_mode[0])\n",
    "train_data_final.head()"
   ]
  },
  {
   "cell_type": "code",
   "execution_count": 10,
   "metadata": {
    "colab": {
     "base_uri": "https://localhost:8080/",
     "height": 336
    },
    "colab_type": "code",
    "id": "B-b3Li4oovht",
    "outputId": "61b76651-be96-4a29-f927-bb67703305d2"
   },
   "outputs": [
    {
     "name": "stdout",
     "output_type": "stream",
     "text": [
      "<class 'pandas.core.frame.DataFrame'>\n",
      "RangeIndex: 18834 entries, 0 to 18833\n",
      "Data columns (total 11 columns):\n",
      " #   Column          Non-Null Count  Dtype  \n",
      "---  ------          --------------  -----  \n",
      " 0   pet_id          18834 non-null  object \n",
      " 1   issue_date      18834 non-null  object \n",
      " 2   listing_date    18834 non-null  object \n",
      " 3   condition       18834 non-null  float64\n",
      " 4   color_type      18834 non-null  object \n",
      " 5   length(m)       18834 non-null  float64\n",
      " 6   height(cm)      18834 non-null  float64\n",
      " 7   X1              18834 non-null  int64  \n",
      " 8   X2              18834 non-null  int64  \n",
      " 9   breed_category  18834 non-null  float64\n",
      " 10  pet_category    18834 non-null  int64  \n",
      "dtypes: float64(4), int64(3), object(4)\n",
      "memory usage: 1.6+ MB\n"
     ]
    }
   ],
   "source": [
    "train_data_final.info()"
   ]
  },
  {
   "cell_type": "code",
   "execution_count": 17,
   "metadata": {
    "colab": {
     "base_uri": "https://localhost:8080/",
     "height": 197
    },
    "colab_type": "code",
    "id": "q2AwtB10vFSp",
    "outputId": "6f8f3552-49ec-409e-9e58-3fff5329404e"
   },
   "outputs": [
    {
     "data": {
      "text/html": [
       "<div>\n",
       "<style scoped>\n",
       "    .dataframe tbody tr th:only-of-type {\n",
       "        vertical-align: middle;\n",
       "    }\n",
       "\n",
       "    .dataframe tbody tr th {\n",
       "        vertical-align: top;\n",
       "    }\n",
       "\n",
       "    .dataframe thead th {\n",
       "        text-align: right;\n",
       "    }\n",
       "</style>\n",
       "<table border=\"1\" class=\"dataframe\">\n",
       "  <thead>\n",
       "    <tr style=\"text-align: right;\">\n",
       "      <th></th>\n",
       "      <th>pet_id</th>\n",
       "      <th>issue_date</th>\n",
       "      <th>listing_date</th>\n",
       "      <th>condition</th>\n",
       "      <th>color_type</th>\n",
       "      <th>length(m)</th>\n",
       "      <th>height(cm)</th>\n",
       "      <th>X1</th>\n",
       "      <th>X2</th>\n",
       "      <th>breed_category</th>\n",
       "      <th>pet_category</th>\n",
       "      <th>days</th>\n",
       "      <th>total_days_stayed</th>\n",
       "    </tr>\n",
       "  </thead>\n",
       "  <tbody>\n",
       "    <tr>\n",
       "      <th>0</th>\n",
       "      <td>ANSL_69903</td>\n",
       "      <td>2016-07-10</td>\n",
       "      <td>2016-09-21 16:25:00</td>\n",
       "      <td>2.0</td>\n",
       "      <td>Brown Tabby</td>\n",
       "      <td>0.80</td>\n",
       "      <td>7.78</td>\n",
       "      <td>13</td>\n",
       "      <td>9</td>\n",
       "      <td>0.0</td>\n",
       "      <td>1</td>\n",
       "      <td>73 days 16:25:00</td>\n",
       "      <td>73</td>\n",
       "    </tr>\n",
       "    <tr>\n",
       "      <th>1</th>\n",
       "      <td>ANSL_66892</td>\n",
       "      <td>2013-11-21</td>\n",
       "      <td>2018-12-27 17:47:00</td>\n",
       "      <td>1.0</td>\n",
       "      <td>White</td>\n",
       "      <td>0.72</td>\n",
       "      <td>14.19</td>\n",
       "      <td>13</td>\n",
       "      <td>9</td>\n",
       "      <td>0.0</td>\n",
       "      <td>2</td>\n",
       "      <td>1862 days 17:47:00</td>\n",
       "      <td>1862</td>\n",
       "    </tr>\n",
       "    <tr>\n",
       "      <th>2</th>\n",
       "      <td>ANSL_69750</td>\n",
       "      <td>2014-09-28</td>\n",
       "      <td>2016-10-19 08:24:00</td>\n",
       "      <td>1.0</td>\n",
       "      <td>Brown</td>\n",
       "      <td>0.15</td>\n",
       "      <td>40.90</td>\n",
       "      <td>15</td>\n",
       "      <td>4</td>\n",
       "      <td>2.0</td>\n",
       "      <td>4</td>\n",
       "      <td>752 days 08:24:00</td>\n",
       "      <td>752</td>\n",
       "    </tr>\n",
       "    <tr>\n",
       "      <th>3</th>\n",
       "      <td>ANSL_71623</td>\n",
       "      <td>2016-12-31</td>\n",
       "      <td>2019-01-25 18:30:00</td>\n",
       "      <td>1.0</td>\n",
       "      <td>White</td>\n",
       "      <td>0.62</td>\n",
       "      <td>17.82</td>\n",
       "      <td>0</td>\n",
       "      <td>1</td>\n",
       "      <td>0.0</td>\n",
       "      <td>2</td>\n",
       "      <td>755 days 18:30:00</td>\n",
       "      <td>755</td>\n",
       "    </tr>\n",
       "    <tr>\n",
       "      <th>4</th>\n",
       "      <td>ANSL_57969</td>\n",
       "      <td>2017-09-28</td>\n",
       "      <td>2017-11-19 09:38:00</td>\n",
       "      <td>2.0</td>\n",
       "      <td>Black</td>\n",
       "      <td>0.50</td>\n",
       "      <td>11.06</td>\n",
       "      <td>18</td>\n",
       "      <td>4</td>\n",
       "      <td>0.0</td>\n",
       "      <td>1</td>\n",
       "      <td>52 days 09:38:00</td>\n",
       "      <td>52</td>\n",
       "    </tr>\n",
       "  </tbody>\n",
       "</table>\n",
       "</div>"
      ],
      "text/plain": [
       "       pet_id issue_date  ...               days  total_days_stayed\n",
       "0  ANSL_69903 2016-07-10  ...   73 days 16:25:00                 73\n",
       "1  ANSL_66892 2013-11-21  ... 1862 days 17:47:00               1862\n",
       "2  ANSL_69750 2014-09-28  ...  752 days 08:24:00                752\n",
       "3  ANSL_71623 2016-12-31  ...  755 days 18:30:00                755\n",
       "4  ANSL_57969 2017-09-28  ...   52 days 09:38:00                 52\n",
       "\n",
       "[5 rows x 13 columns]"
      ]
     },
     "execution_count": 17,
     "metadata": {
      "tags": []
     },
     "output_type": "execute_result"
    }
   ],
   "source": [
    "train_data_final[\"issue_date\"]=pd.to_datetime(train_data_final[\"issue_date\"],format='%Y-%m-%d')\n",
    "train_data_final[\"listing_date\"]=pd.to_datetime(train_data_final[\"listing_date\"],format='%Y-%m-%d')\n",
    "train_data_final[\"days\"] = train_data_final[\"listing_date\"] - train_data_final[\"issue_date\"]\n",
    "train_data_final[\"total_days_stayed\"]=train_data_final[\"days\"].dt.days\n",
    "train_data_final.head()"
   ]
  },
  {
   "cell_type": "code",
   "execution_count": 18,
   "metadata": {
    "colab": {
     "base_uri": "https://localhost:8080/",
     "height": 197
    },
    "colab_type": "code",
    "id": "2jj43TSDvsGg",
    "outputId": "ff10c481-65da-4966-a50d-ab5ae5442a1c"
   },
   "outputs": [
    {
     "data": {
      "text/html": [
       "<div>\n",
       "<style scoped>\n",
       "    .dataframe tbody tr th:only-of-type {\n",
       "        vertical-align: middle;\n",
       "    }\n",
       "\n",
       "    .dataframe tbody tr th {\n",
       "        vertical-align: top;\n",
       "    }\n",
       "\n",
       "    .dataframe thead th {\n",
       "        text-align: right;\n",
       "    }\n",
       "</style>\n",
       "<table border=\"1\" class=\"dataframe\">\n",
       "  <thead>\n",
       "    <tr style=\"text-align: right;\">\n",
       "      <th></th>\n",
       "      <th>pet_id</th>\n",
       "      <th>issue_date</th>\n",
       "      <th>listing_date</th>\n",
       "      <th>condition</th>\n",
       "      <th>color_type</th>\n",
       "      <th>length(m)</th>\n",
       "      <th>height(cm)</th>\n",
       "      <th>X1</th>\n",
       "      <th>X2</th>\n",
       "      <th>breed_category</th>\n",
       "      <th>pet_category</th>\n",
       "      <th>days</th>\n",
       "      <th>total_days_stayed</th>\n",
       "    </tr>\n",
       "  </thead>\n",
       "  <tbody>\n",
       "    <tr>\n",
       "      <th>0</th>\n",
       "      <td>ANSL_69903</td>\n",
       "      <td>2016-07-10</td>\n",
       "      <td>2016-09-21 16:25:00</td>\n",
       "      <td>2.0</td>\n",
       "      <td>18</td>\n",
       "      <td>0.80</td>\n",
       "      <td>7.78</td>\n",
       "      <td>13</td>\n",
       "      <td>9</td>\n",
       "      <td>0.0</td>\n",
       "      <td>1</td>\n",
       "      <td>73 days 16:25:00</td>\n",
       "      <td>73</td>\n",
       "    </tr>\n",
       "    <tr>\n",
       "      <th>1</th>\n",
       "      <td>ANSL_66892</td>\n",
       "      <td>2013-11-21</td>\n",
       "      <td>2018-12-27 17:47:00</td>\n",
       "      <td>1.0</td>\n",
       "      <td>53</td>\n",
       "      <td>0.72</td>\n",
       "      <td>14.19</td>\n",
       "      <td>13</td>\n",
       "      <td>9</td>\n",
       "      <td>0.0</td>\n",
       "      <td>2</td>\n",
       "      <td>1862 days 17:47:00</td>\n",
       "      <td>1862</td>\n",
       "    </tr>\n",
       "    <tr>\n",
       "      <th>2</th>\n",
       "      <td>ANSL_69750</td>\n",
       "      <td>2014-09-28</td>\n",
       "      <td>2016-10-19 08:24:00</td>\n",
       "      <td>1.0</td>\n",
       "      <td>15</td>\n",
       "      <td>0.15</td>\n",
       "      <td>40.90</td>\n",
       "      <td>15</td>\n",
       "      <td>4</td>\n",
       "      <td>2.0</td>\n",
       "      <td>4</td>\n",
       "      <td>752 days 08:24:00</td>\n",
       "      <td>752</td>\n",
       "    </tr>\n",
       "    <tr>\n",
       "      <th>3</th>\n",
       "      <td>ANSL_71623</td>\n",
       "      <td>2016-12-31</td>\n",
       "      <td>2019-01-25 18:30:00</td>\n",
       "      <td>1.0</td>\n",
       "      <td>53</td>\n",
       "      <td>0.62</td>\n",
       "      <td>17.82</td>\n",
       "      <td>0</td>\n",
       "      <td>1</td>\n",
       "      <td>0.0</td>\n",
       "      <td>2</td>\n",
       "      <td>755 days 18:30:00</td>\n",
       "      <td>755</td>\n",
       "    </tr>\n",
       "    <tr>\n",
       "      <th>4</th>\n",
       "      <td>ANSL_57969</td>\n",
       "      <td>2017-09-28</td>\n",
       "      <td>2017-11-19 09:38:00</td>\n",
       "      <td>2.0</td>\n",
       "      <td>2</td>\n",
       "      <td>0.50</td>\n",
       "      <td>11.06</td>\n",
       "      <td>18</td>\n",
       "      <td>4</td>\n",
       "      <td>0.0</td>\n",
       "      <td>1</td>\n",
       "      <td>52 days 09:38:00</td>\n",
       "      <td>52</td>\n",
       "    </tr>\n",
       "  </tbody>\n",
       "</table>\n",
       "</div>"
      ],
      "text/plain": [
       "       pet_id issue_date  ...               days  total_days_stayed\n",
       "0  ANSL_69903 2016-07-10  ...   73 days 16:25:00                 73\n",
       "1  ANSL_66892 2013-11-21  ... 1862 days 17:47:00               1862\n",
       "2  ANSL_69750 2014-09-28  ...  752 days 08:24:00                752\n",
       "3  ANSL_71623 2016-12-31  ...  755 days 18:30:00                755\n",
       "4  ANSL_57969 2017-09-28  ...   52 days 09:38:00                 52\n",
       "\n",
       "[5 rows x 13 columns]"
      ]
     },
     "execution_count": 18,
     "metadata": {
      "tags": []
     },
     "output_type": "execute_result"
    }
   ],
   "source": [
    "from sklearn.preprocessing import LabelEncoder\n",
    "enc = LabelEncoder()\n",
    "train_data_final.loc[:, [\"color_type\"]] = train_data_final.loc[:, [\"color_type\"]].apply(enc.fit_transform)\n",
    "train_data_final.head()"
   ]
  },
  {
   "cell_type": "code",
   "execution_count": 19,
   "metadata": {
    "colab": {
     "base_uri": "https://localhost:8080/",
     "height": 422
    },
    "colab_type": "code",
    "id": "Z7xS3AEOw52A",
    "outputId": "83006aff-ac20-4fe1-ab2b-2da142b0b6d0"
   },
   "outputs": [
    {
     "name": "stderr",
     "output_type": "stream",
     "text": [
      "/usr/local/lib/python3.6/dist-packages/statsmodels/tools/_testing.py:19: FutureWarning: pandas.util.testing is deprecated. Use the functions in the public API at pandas.testing instead.\n",
      "  import pandas.util.testing as tm\n"
     ]
    },
    {
     "data": {
      "text/plain": [
       "<matplotlib.axes._subplots.AxesSubplot at 0x7f97cfc942b0>"
      ]
     },
     "execution_count": 19,
     "metadata": {
      "tags": []
     },
     "output_type": "execute_result"
    },
    {
     "data": {
      "image/png": "[encoded data removed]",
      "text/plain": [
       "<Figure size 432x288 with 2 Axes>"
      ]
     },
     "metadata": {
      "needs_background": "light",
      "tags": []
     },
     "output_type": "display_data"
    }
   ],
   "source": [
    "import seaborn as sns\n",
    "sns.heatmap(train_data_final.corr(), annot = True)"
   ]
  },
  {
   "cell_type": "code",
   "execution_count": 20,
   "metadata": {
    "colab": {
     "base_uri": "https://localhost:8080/",
     "height": 34
    },
    "colab_type": "code",
    "id": "noLm19Djw845",
    "outputId": "36c705c4-8be9-4de1-e3fd-27c2d022f7aa"
   },
   "outputs": [
    {
     "data": {
      "text/plain": [
       "array([0., 2., 1.])"
      ]
     },
     "execution_count": 20,
     "metadata": {
      "tags": []
     },
     "output_type": "execute_result"
    }
   ],
   "source": [
    "train_data_final.breed_category.unique()"
   ]
  },
  {
   "cell_type": "code",
   "execution_count": 21,
   "metadata": {
    "colab": {
     "base_uri": "https://localhost:8080/",
     "height": 34
    },
    "colab_type": "code",
    "id": "2ovISbAPAImt",
    "outputId": "74a0d41c-ce60-4255-926d-da856f398ee1"
   },
   "outputs": [
    {
     "data": {
      "text/plain": [
       "array([1, 2, 4, 0])"
      ]
     },
     "execution_count": 21,
     "metadata": {
      "tags": []
     },
     "output_type": "execute_result"
    }
   ],
   "source": [
    "train_data_final.pet_category.unique()"
   ]
  },
  {
   "cell_type": "code",
   "execution_count": 22,
   "metadata": {
    "colab": {
     "base_uri": "https://localhost:8080/",
     "height": 197
    },
    "colab_type": "code",
    "id": "14W8UsplASoM",
    "outputId": "a32ae56a-1ee9-4173-d79c-9411a07767bf"
   },
   "outputs": [
    {
     "data": {
      "text/html": [
       "<div>\n",
       "<style scoped>\n",
       "    .dataframe tbody tr th:only-of-type {\n",
       "        vertical-align: middle;\n",
       "    }\n",
       "\n",
       "    .dataframe tbody tr th {\n",
       "        vertical-align: top;\n",
       "    }\n",
       "\n",
       "    .dataframe thead th {\n",
       "        text-align: right;\n",
       "    }\n",
       "</style>\n",
       "<table border=\"1\" class=\"dataframe\">\n",
       "  <thead>\n",
       "    <tr style=\"text-align: right;\">\n",
       "      <th></th>\n",
       "      <th>pet_id</th>\n",
       "      <th>issue_date</th>\n",
       "      <th>listing_date</th>\n",
       "      <th>condition</th>\n",
       "      <th>color_type</th>\n",
       "      <th>length(m)</th>\n",
       "      <th>height(cm)</th>\n",
       "      <th>X1</th>\n",
       "      <th>X2</th>\n",
       "      <th>breed_category</th>\n",
       "      <th>pet_category</th>\n",
       "      <th>days</th>\n",
       "      <th>total_days_stayed</th>\n",
       "    </tr>\n",
       "  </thead>\n",
       "  <tbody>\n",
       "    <tr>\n",
       "      <th>0</th>\n",
       "      <td>ANSL_69903</td>\n",
       "      <td>2016-07-10</td>\n",
       "      <td>2016-09-21 16:25:00</td>\n",
       "      <td>2.0</td>\n",
       "      <td>18</td>\n",
       "      <td>0.80</td>\n",
       "      <td>7.78</td>\n",
       "      <td>13</td>\n",
       "      <td>9</td>\n",
       "      <td>0.0</td>\n",
       "      <td>1</td>\n",
       "      <td>73 days 16:25:00</td>\n",
       "      <td>73</td>\n",
       "    </tr>\n",
       "    <tr>\n",
       "      <th>1</th>\n",
       "      <td>ANSL_66892</td>\n",
       "      <td>2013-11-21</td>\n",
       "      <td>2018-12-27 17:47:00</td>\n",
       "      <td>1.0</td>\n",
       "      <td>53</td>\n",
       "      <td>0.72</td>\n",
       "      <td>14.19</td>\n",
       "      <td>13</td>\n",
       "      <td>9</td>\n",
       "      <td>0.0</td>\n",
       "      <td>2</td>\n",
       "      <td>1862 days 17:47:00</td>\n",
       "      <td>1862</td>\n",
       "    </tr>\n",
       "    <tr>\n",
       "      <th>2</th>\n",
       "      <td>ANSL_69750</td>\n",
       "      <td>2014-09-28</td>\n",
       "      <td>2016-10-19 08:24:00</td>\n",
       "      <td>1.0</td>\n",
       "      <td>15</td>\n",
       "      <td>0.15</td>\n",
       "      <td>40.90</td>\n",
       "      <td>15</td>\n",
       "      <td>4</td>\n",
       "      <td>2.0</td>\n",
       "      <td>3</td>\n",
       "      <td>752 days 08:24:00</td>\n",
       "      <td>752</td>\n",
       "    </tr>\n",
       "    <tr>\n",
       "      <th>3</th>\n",
       "      <td>ANSL_71623</td>\n",
       "      <td>2016-12-31</td>\n",
       "      <td>2019-01-25 18:30:00</td>\n",
       "      <td>1.0</td>\n",
       "      <td>53</td>\n",
       "      <td>0.62</td>\n",
       "      <td>17.82</td>\n",
       "      <td>0</td>\n",
       "      <td>1</td>\n",
       "      <td>0.0</td>\n",
       "      <td>2</td>\n",
       "      <td>755 days 18:30:00</td>\n",
       "      <td>755</td>\n",
       "    </tr>\n",
       "    <tr>\n",
       "      <th>4</th>\n",
       "      <td>ANSL_57969</td>\n",
       "      <td>2017-09-28</td>\n",
       "      <td>2017-11-19 09:38:00</td>\n",
       "      <td>2.0</td>\n",
       "      <td>2</td>\n",
       "      <td>0.50</td>\n",
       "      <td>11.06</td>\n",
       "      <td>18</td>\n",
       "      <td>4</td>\n",
       "      <td>0.0</td>\n",
       "      <td>1</td>\n",
       "      <td>52 days 09:38:00</td>\n",
       "      <td>52</td>\n",
       "    </tr>\n",
       "  </tbody>\n",
       "</table>\n",
       "</div>"
      ],
      "text/plain": [
       "       pet_id issue_date  ...               days  total_days_stayed\n",
       "0  ANSL_69903 2016-07-10  ...   73 days 16:25:00                 73\n",
       "1  ANSL_66892 2013-11-21  ... 1862 days 17:47:00               1862\n",
       "2  ANSL_69750 2014-09-28  ...  752 days 08:24:00                752\n",
       "3  ANSL_71623 2016-12-31  ...  755 days 18:30:00                755\n",
       "4  ANSL_57969 2017-09-28  ...   52 days 09:38:00                 52\n",
       "\n",
       "[5 rows x 13 columns]"
      ]
     },
     "execution_count": 22,
     "metadata": {
      "tags": []
     },
     "output_type": "execute_result"
    }
   ],
   "source": [
    "train_data_final.loc[:, [\"pet_category\"]] = train_data_final.loc[:, [\"pet_category\"]].replace(4, 3)\n",
    "train_data_final.head()"
   ]
  },
  {
   "cell_type": "code",
   "execution_count": 23,
   "metadata": {
    "colab": {
     "base_uri": "https://localhost:8080/",
     "height": 87
    },
    "colab_type": "code",
    "id": "-r-3mpMVmm_k",
    "outputId": "3edd4a88-b24d-41d3-8bc9-b3415001b5bd"
   },
   "outputs": [
    {
     "data": {
      "text/plain": [
       "0.0    9000\n",
       "1.0    8357\n",
       "2.0    1477\n",
       "Name: breed_category, dtype: int64"
      ]
     },
     "execution_count": 23,
     "metadata": {
      "tags": []
     },
     "output_type": "execute_result"
    }
   ],
   "source": [
    "train_data_final.breed_category.value_counts()"
   ]
  },
  {
   "cell_type": "code",
   "execution_count": 24,
   "metadata": {
    "colab": {
     "base_uri": "https://localhost:8080/",
     "height": 105
    },
    "colab_type": "code",
    "id": "6o0hP5ACQGHt",
    "outputId": "139204bf-62c0-4dee-c1b6-b3fe3560d24c"
   },
   "outputs": [
    {
     "data": {
      "text/plain": [
       "2    10621\n",
       "1     7184\n",
       "3      941\n",
       "0       88\n",
       "Name: pet_category, dtype: int64"
      ]
     },
     "execution_count": 24,
     "metadata": {
      "tags": []
     },
     "output_type": "execute_result"
    }
   ],
   "source": [
    "train_data_final.pet_category.value_counts()"
   ]
  },
  {
   "cell_type": "code",
   "execution_count": 27,
   "metadata": {
    "colab": {
     "base_uri": "https://localhost:8080/",
     "height": 197
    },
    "colab_type": "code",
    "id": "dPHKq6XVA4Vr",
    "outputId": "0e83df43-cbe4-4f3b-9557-2e2751acfeba"
   },
   "outputs": [
    {
     "data": {
      "text/html": [
       "<div>\n",
       "<style scoped>\n",
       "    .dataframe tbody tr th:only-of-type {\n",
       "        vertical-align: middle;\n",
       "    }\n",
       "\n",
       "    .dataframe tbody tr th {\n",
       "        vertical-align: top;\n",
       "    }\n",
       "\n",
       "    .dataframe thead th {\n",
       "        text-align: right;\n",
       "    }\n",
       "</style>\n",
       "<table border=\"1\" class=\"dataframe\">\n",
       "  <thead>\n",
       "    <tr style=\"text-align: right;\">\n",
       "      <th></th>\n",
       "      <th>condition</th>\n",
       "      <th>length(m)</th>\n",
       "      <th>color_type</th>\n",
       "      <th>height(cm)</th>\n",
       "      <th>X1</th>\n",
       "      <th>X2</th>\n",
       "      <th>total_days_stayed</th>\n",
       "    </tr>\n",
       "  </thead>\n",
       "  <tbody>\n",
       "    <tr>\n",
       "      <th>0</th>\n",
       "      <td>2.0</td>\n",
       "      <td>0.80</td>\n",
       "      <td>18</td>\n",
       "      <td>7.78</td>\n",
       "      <td>13</td>\n",
       "      <td>9</td>\n",
       "      <td>73</td>\n",
       "    </tr>\n",
       "    <tr>\n",
       "      <th>1</th>\n",
       "      <td>1.0</td>\n",
       "      <td>0.72</td>\n",
       "      <td>53</td>\n",
       "      <td>14.19</td>\n",
       "      <td>13</td>\n",
       "      <td>9</td>\n",
       "      <td>1862</td>\n",
       "    </tr>\n",
       "    <tr>\n",
       "      <th>2</th>\n",
       "      <td>1.0</td>\n",
       "      <td>0.15</td>\n",
       "      <td>15</td>\n",
       "      <td>40.90</td>\n",
       "      <td>15</td>\n",
       "      <td>4</td>\n",
       "      <td>752</td>\n",
       "    </tr>\n",
       "    <tr>\n",
       "      <th>3</th>\n",
       "      <td>1.0</td>\n",
       "      <td>0.62</td>\n",
       "      <td>53</td>\n",
       "      <td>17.82</td>\n",
       "      <td>0</td>\n",
       "      <td>1</td>\n",
       "      <td>755</td>\n",
       "    </tr>\n",
       "    <tr>\n",
       "      <th>4</th>\n",
       "      <td>2.0</td>\n",
       "      <td>0.50</td>\n",
       "      <td>2</td>\n",
       "      <td>11.06</td>\n",
       "      <td>18</td>\n",
       "      <td>4</td>\n",
       "      <td>52</td>\n",
       "    </tr>\n",
       "  </tbody>\n",
       "</table>\n",
       "</div>"
      ],
      "text/plain": [
       "   condition  length(m)  color_type  height(cm)  X1  X2  total_days_stayed\n",
       "0        2.0       0.80          18        7.78  13   9                 73\n",
       "1        1.0       0.72          53       14.19  13   9               1862\n",
       "2        1.0       0.15          15       40.90  15   4                752\n",
       "3        1.0       0.62          53       17.82   0   1                755\n",
       "4        2.0       0.50           2       11.06  18   4                 52"
      ]
     },
     "execution_count": 27,
     "metadata": {
      "tags": []
     },
     "output_type": "execute_result"
    }
   ],
   "source": [
    "x = train_data_final[[\"condition\", \"length(m)\", \"color_type\", \"height(cm)\", \"X1\", \"X2\", \"total_days_stayed\"]]\n",
    "x.head()"
   ]
  },
  {
   "cell_type": "code",
   "execution_count": 37,
   "metadata": {
    "colab": {
     "base_uri": "https://localhost:8080/",
     "height": 304
    },
    "colab_type": "code",
    "id": "nqsTBROrbTTU",
    "outputId": "18bd294a-1b37-4d21-807b-605e7a8db9d1"
   },
   "outputs": [
    {
     "name": "stderr",
     "output_type": "stream",
     "text": [
      "/usr/local/lib/python3.6/dist-packages/ipykernel_launcher.py:3: SettingWithCopyWarning: \n",
      "A value is trying to be set on a copy of a slice from a DataFrame.\n",
      "Try using .loc[row_indexer,col_indexer] = value instead\n",
      "\n",
      "See the caveats in the documentation: https://pandas.pydata.org/pandas-docs/stable/user_guide/indexing.html#returning-a-view-versus-a-copy\n",
      "  This is separate from the ipykernel package so we can avoid doing imports until\n"
     ]
    },
    {
     "data": {
      "text/html": [
       "<div>\n",
       "<style scoped>\n",
       "    .dataframe tbody tr th:only-of-type {\n",
       "        vertical-align: middle;\n",
       "    }\n",
       "\n",
       "    .dataframe tbody tr th {\n",
       "        vertical-align: top;\n",
       "    }\n",
       "\n",
       "    .dataframe thead th {\n",
       "        text-align: right;\n",
       "    }\n",
       "</style>\n",
       "<table border=\"1\" class=\"dataframe\">\n",
       "  <thead>\n",
       "    <tr style=\"text-align: right;\">\n",
       "      <th></th>\n",
       "      <th>condition</th>\n",
       "      <th>length(m)</th>\n",
       "      <th>color_type</th>\n",
       "      <th>height(cm)</th>\n",
       "      <th>X1</th>\n",
       "      <th>X2</th>\n",
       "      <th>total_days_stayed</th>\n",
       "    </tr>\n",
       "  </thead>\n",
       "  <tbody>\n",
       "    <tr>\n",
       "      <th>0</th>\n",
       "      <td>1.496028</td>\n",
       "      <td>1.029994</td>\n",
       "      <td>-0.337615</td>\n",
       "      <td>-1.510688</td>\n",
       "      <td>1.160983</td>\n",
       "      <td>1.257246</td>\n",
       "      <td>-0.713344</td>\n",
       "    </tr>\n",
       "    <tr>\n",
       "      <th>1</th>\n",
       "      <td>0.145170</td>\n",
       "      <td>0.752894</td>\n",
       "      <td>1.463537</td>\n",
       "      <td>-1.018361</td>\n",
       "      <td>1.160983</td>\n",
       "      <td>1.257246</td>\n",
       "      <td>0.917950</td>\n",
       "    </tr>\n",
       "    <tr>\n",
       "      <th>2</th>\n",
       "      <td>0.145170</td>\n",
       "      <td>-1.221439</td>\n",
       "      <td>-0.491999</td>\n",
       "      <td>1.033133</td>\n",
       "      <td>1.465287</td>\n",
       "      <td>-0.164112</td>\n",
       "      <td>-0.094200</td>\n",
       "    </tr>\n",
       "    <tr>\n",
       "      <th>3</th>\n",
       "      <td>0.145170</td>\n",
       "      <td>0.406520</td>\n",
       "      <td>1.463537</td>\n",
       "      <td>-0.739554</td>\n",
       "      <td>-0.816996</td>\n",
       "      <td>-1.016927</td>\n",
       "      <td>-0.091464</td>\n",
       "    </tr>\n",
       "    <tr>\n",
       "      <th>4</th>\n",
       "      <td>1.496028</td>\n",
       "      <td>-0.009129</td>\n",
       "      <td>-1.160998</td>\n",
       "      <td>-1.258764</td>\n",
       "      <td>1.921744</td>\n",
       "      <td>-0.164112</td>\n",
       "      <td>-0.732493</td>\n",
       "    </tr>\n",
       "  </tbody>\n",
       "</table>\n",
       "</div>"
      ],
      "text/plain": [
       "   condition  length(m)  color_type  ...        X1        X2  total_days_stayed\n",
       "0   1.496028   1.029994   -0.337615  ...  1.160983  1.257246          -0.713344\n",
       "1   0.145170   0.752894    1.463537  ...  1.160983  1.257246           0.917950\n",
       "2   0.145170  -1.221439   -0.491999  ...  1.465287 -0.164112          -0.094200\n",
       "3   0.145170   0.406520    1.463537  ... -0.816996 -1.016927          -0.091464\n",
       "4   1.496028  -0.009129   -1.160998  ...  1.921744 -0.164112          -0.732493\n",
       "\n",
       "[5 rows x 7 columns]"
      ]
     },
     "execution_count": 37,
     "metadata": {
      "tags": []
     },
     "output_type": "execute_result"
    }
   ],
   "source": [
    "cols = x.columns.tolist()\n",
    "for col in cols:\n",
    "  x[col] = (x[col] - x[col].mean())/x[col].std()\n",
    "x.head()  "
   ]
  },
  {
   "cell_type": "code",
   "execution_count": 38,
   "metadata": {
    "colab": {
     "base_uri": "https://localhost:8080/",
     "height": 107
    },
    "colab_type": "code",
    "id": "6lcezJ1CE8Ct",
    "outputId": "422f5beb-6984-4d34-ec23-669558bd08b3"
   },
   "outputs": [
    {
     "name": "stderr",
     "output_type": "stream",
     "text": [
      "/usr/local/lib/python3.6/dist-packages/sklearn/utils/deprecation.py:87: FutureWarning: Function safe_indexing is deprecated; safe_indexing is deprecated in version 0.22 and will be removed in version 0.24.\n",
      "  warnings.warn(msg, category=FutureWarning)\n",
      "/usr/local/lib/python3.6/dist-packages/sklearn/utils/deprecation.py:87: FutureWarning: Function safe_indexing is deprecated; safe_indexing is deprecated in version 0.22 and will be removed in version 0.24.\n",
      "  warnings.warn(msg, category=FutureWarning)\n"
     ]
    }
   ],
   "source": [
    "breed = train_data_final[\"breed_category\"]\n",
    "breed_smote = SMOTE()\n",
    "x_breed, y_breed = breed_smote.fit_sample(x.astype(\"float\"), breed)"
   ]
  },
  {
   "cell_type": "code",
   "execution_count": 39,
   "metadata": {
    "colab": {
     "base_uri": "https://localhost:8080/",
     "height": 34
    },
    "colab_type": "code",
    "id": "XTWZ-DvgIBhS",
    "outputId": "2f310616-63a2-4f8a-e7ba-b0dcac5fb1e3"
   },
   "outputs": [
    {
     "data": {
      "text/plain": [
       "Counter({0.0: 9000, 1.0: 9000, 2.0: 9000})"
      ]
     },
     "execution_count": 39,
     "metadata": {
      "tags": []
     },
     "output_type": "execute_result"
    }
   ],
   "source": [
    "from collections import Counter\n",
    "Counter(y_breed)"
   ]
  },
  {
   "cell_type": "code",
   "execution_count": 40,
   "metadata": {
    "colab": {
     "base_uri": "https://localhost:8080/",
     "height": 141
    },
    "colab_type": "code",
    "id": "MXeWLtWe08Xh",
    "outputId": "0411014e-b042-41f6-abeb-89e429692119"
   },
   "outputs": [
    {
     "data": {
      "text/plain": [
       "array([[1., 0., 0.],\n",
       "       [1., 0., 0.],\n",
       "       [0., 0., 1.],\n",
       "       ...,\n",
       "       [0., 0., 1.],\n",
       "       [0., 0., 1.],\n",
       "       [0., 0., 1.]], dtype=float32)"
      ]
     },
     "execution_count": 40,
     "metadata": {
      "tags": []
     },
     "output_type": "execute_result"
    }
   ],
   "source": [
    "y_breed = to_categorical(y_breed, num_classes=3)\n",
    "y_breed"
   ]
  },
  {
   "cell_type": "code",
   "execution_count": 41,
   "metadata": {
    "colab": {},
    "colab_type": "code",
    "id": "xau3wB9iFfZl"
   },
   "outputs": [],
   "source": [
    "from sklearn.model_selection import train_test_split\n",
    "x_breed_train, x_breed_valid, y_breed_train, y_breed_valid = train_test_split(x_breed, y_breed, test_size = 0.2, random_state = 10)"
   ]
  },
  {
   "cell_type": "code",
   "execution_count": 42,
   "metadata": {
    "colab": {
     "base_uri": "https://localhost:8080/",
     "height": 443
    },
    "colab_type": "code",
    "id": "skNiS-DdGIFa",
    "outputId": "b3879374-128a-4e08-b095-501fe5c9f4cc"
   },
   "outputs": [
    {
     "name": "stdout",
     "output_type": "stream",
     "text": [
      "Model: \"sequential_1\"\n",
      "_________________________________________________________________\n",
      "Layer (type)                 Output Shape              Param #   \n",
      "=================================================================\n",
      "dense_4 (Dense)              (None, 27000, 7)          56        \n",
      "_________________________________________________________________\n",
      "activation_4 (Activation)    (None, 27000, 7)          0         \n",
      "_________________________________________________________________\n",
      "dense_5 (Dense)              (None, 27000, 21)         168       \n",
      "_________________________________________________________________\n",
      "activation_5 (Activation)    (None, 27000, 21)         0         \n",
      "_________________________________________________________________\n",
      "dense_6 (Dense)              (None, 27000, 21)         462       \n",
      "_________________________________________________________________\n",
      "activation_6 (Activation)    (None, 27000, 21)         0         \n",
      "_________________________________________________________________\n",
      "dense_7 (Dense)              (None, 27000, 3)          66        \n",
      "_________________________________________________________________\n",
      "activation_7 (Activation)    (None, 27000, 3)          0         \n",
      "=================================================================\n",
      "Total params: 752\n",
      "Trainable params: 752\n",
      "Non-trainable params: 0\n",
      "_________________________________________________________________\n"
     ]
    }
   ],
   "source": [
    "breed_model = Sequential()\n",
    "breed_model.add(Dense(7, input_shape = (x_breed.shape)))\n",
    "breed_model.add(Activation(\"relu\"))\n",
    "\n",
    "breed_model.add(Dense(21))\n",
    "breed_model.add(Activation(\"relu\"))\n",
    "breed_model.add(Dense(21))\n",
    "breed_model.add(Activation(\"relu\"))\n",
    "\n",
    "breed_model.add(Dense(3))\n",
    "breed_model.add(Activation(\"softmax\"))\n",
    "\n",
    "breed_model.compile(optimizer = \"adam\", loss = \"categorical_crossentropy\", metrics = \"accuracy\")\n",
    "breed_model.summary()"
   ]
  },
  {
   "cell_type": "code",
   "execution_count": 43,
   "metadata": {
    "colab": {
     "base_uri": "https://localhost:8080/",
     "height": 1000
    },
    "colab_type": "code",
    "id": "Q24fjeQaHFa1",
    "outputId": "f6c69bf0-78ec-489b-cda2-62a98776b363"
   },
   "outputs": [
    {
     "name": "stdout",
     "output_type": "stream",
     "text": [
      "Epoch 1/50\n",
      "WARNING:tensorflow:Model was constructed with shape (None, 27000, 7) for input Tensor(\"dense_4_input:0\", shape=(None, 27000, 7), dtype=float32), but it was called on an input with incompatible shape (32, 7).\n",
      "WARNING:tensorflow:Model was constructed with shape (None, 27000, 7) for input Tensor(\"dense_4_input:0\", shape=(None, 27000, 7), dtype=float32), but it was called on an input with incompatible shape (32, 7).\n",
      "664/675 [============================>.] - ETA: 0s - loss: 0.5958 - accuracy: 0.7596WARNING:tensorflow:Model was constructed with shape (None, 27000, 7) for input Tensor(\"dense_4_input:0\", shape=(None, 27000, 7), dtype=float32), but it was called on an input with incompatible shape (None, 7).\n",
      "675/675 [==============================] - 2s 3ms/step - loss: 0.5908 - accuracy: 0.7617 - val_loss: 0.3205 - val_accuracy: 0.8580\n",
      "Epoch 2/50\n",
      "675/675 [==============================] - 2s 3ms/step - loss: 0.2829 - accuracy: 0.8662 - val_loss: 0.2683 - val_accuracy: 0.8665\n",
      "Epoch 3/50\n",
      "675/675 [==============================] - 2s 3ms/step - loss: 0.2405 - accuracy: 0.8781 - val_loss: 0.2499 - val_accuracy: 0.8759\n",
      "Epoch 4/50\n",
      "675/675 [==============================] - 2s 3ms/step - loss: 0.2225 - accuracy: 0.8821 - val_loss: 0.2318 - val_accuracy: 0.8826\n",
      "Epoch 5/50\n",
      "675/675 [==============================] - 2s 3ms/step - loss: 0.2161 - accuracy: 0.8865 - val_loss: 0.2222 - val_accuracy: 0.8789\n",
      "Epoch 6/50\n",
      "675/675 [==============================] - 2s 3ms/step - loss: 0.2129 - accuracy: 0.8855 - val_loss: 0.2187 - val_accuracy: 0.8846\n",
      "Epoch 7/50\n",
      "675/675 [==============================] - 2s 3ms/step - loss: 0.2097 - accuracy: 0.8896 - val_loss: 0.2183 - val_accuracy: 0.8839\n",
      "Epoch 8/50\n",
      "675/675 [==============================] - 2s 3ms/step - loss: 0.2082 - accuracy: 0.8874 - val_loss: 0.2131 - val_accuracy: 0.8876\n",
      "Epoch 9/50\n",
      "675/675 [==============================] - 2s 3ms/step - loss: 0.2063 - accuracy: 0.8898 - val_loss: 0.2145 - val_accuracy: 0.8831\n",
      "Epoch 10/50\n",
      "675/675 [==============================] - 2s 3ms/step - loss: 0.2045 - accuracy: 0.8899 - val_loss: 0.2136 - val_accuracy: 0.8891\n",
      "Epoch 11/50\n",
      "675/675 [==============================] - 2s 3ms/step - loss: 0.2028 - accuracy: 0.8910 - val_loss: 0.2165 - val_accuracy: 0.8861\n",
      "Epoch 12/50\n",
      "675/675 [==============================] - 2s 3ms/step - loss: 0.2026 - accuracy: 0.8923 - val_loss: 0.2237 - val_accuracy: 0.8844\n",
      "Epoch 13/50\n",
      "675/675 [==============================] - 2s 3ms/step - loss: 0.2016 - accuracy: 0.8910 - val_loss: 0.2096 - val_accuracy: 0.8874\n",
      "Epoch 14/50\n",
      "675/675 [==============================] - 2s 3ms/step - loss: 0.2000 - accuracy: 0.8926 - val_loss: 0.2104 - val_accuracy: 0.8861\n",
      "Epoch 15/50\n",
      "675/675 [==============================] - 2s 3ms/step - loss: 0.1993 - accuracy: 0.8931 - val_loss: 0.2086 - val_accuracy: 0.8865\n",
      "Epoch 16/50\n",
      "675/675 [==============================] - 2s 3ms/step - loss: 0.1993 - accuracy: 0.8929 - val_loss: 0.2066 - val_accuracy: 0.8887\n",
      "Epoch 17/50\n",
      "675/675 [==============================] - 2s 3ms/step - loss: 0.1983 - accuracy: 0.8921 - val_loss: 0.2122 - val_accuracy: 0.8852\n",
      "Epoch 18/50\n",
      "675/675 [==============================] - 2s 3ms/step - loss: 0.1985 - accuracy: 0.8918 - val_loss: 0.2121 - val_accuracy: 0.8852\n",
      "Epoch 19/50\n",
      "675/675 [==============================] - 2s 3ms/step - loss: 0.1980 - accuracy: 0.8915 - val_loss: 0.2082 - val_accuracy: 0.8881\n",
      "Epoch 20/50\n",
      "675/675 [==============================] - 2s 3ms/step - loss: 0.1966 - accuracy: 0.8931 - val_loss: 0.2072 - val_accuracy: 0.8872\n",
      "Epoch 21/50\n",
      "675/675 [==============================] - 2s 3ms/step - loss: 0.1962 - accuracy: 0.8938 - val_loss: 0.2065 - val_accuracy: 0.8843\n",
      "Epoch 22/50\n",
      "675/675 [==============================] - 2s 4ms/step - loss: 0.1956 - accuracy: 0.8955 - val_loss: 0.2076 - val_accuracy: 0.8915\n",
      "Epoch 23/50\n",
      "675/675 [==============================] - 2s 3ms/step - loss: 0.1955 - accuracy: 0.8929 - val_loss: 0.2043 - val_accuracy: 0.8880\n",
      "Epoch 24/50\n",
      "675/675 [==============================] - 2s 3ms/step - loss: 0.1950 - accuracy: 0.8951 - val_loss: 0.2046 - val_accuracy: 0.8889\n",
      "Epoch 25/50\n",
      "675/675 [==============================] - 2s 3ms/step - loss: 0.1938 - accuracy: 0.8950 - val_loss: 0.2056 - val_accuracy: 0.8856\n",
      "Epoch 26/50\n",
      "675/675 [==============================] - 2s 3ms/step - loss: 0.1938 - accuracy: 0.8945 - val_loss: 0.2034 - val_accuracy: 0.8889\n",
      "Epoch 27/50\n",
      "675/675 [==============================] - 2s 3ms/step - loss: 0.1943 - accuracy: 0.8947 - val_loss: 0.2054 - val_accuracy: 0.8889\n",
      "Epoch 28/50\n",
      "675/675 [==============================] - 2s 3ms/step - loss: 0.1928 - accuracy: 0.8956 - val_loss: 0.2047 - val_accuracy: 0.8896\n",
      "Epoch 29/50\n",
      "675/675 [==============================] - 2s 3ms/step - loss: 0.1933 - accuracy: 0.8963 - val_loss: 0.2080 - val_accuracy: 0.8883\n",
      "Epoch 30/50\n",
      "675/675 [==============================] - 2s 3ms/step - loss: 0.1926 - accuracy: 0.8955 - val_loss: 0.2036 - val_accuracy: 0.8919\n",
      "Epoch 31/50\n",
      "675/675 [==============================] - 2s 3ms/step - loss: 0.1926 - accuracy: 0.8975 - val_loss: 0.2043 - val_accuracy: 0.8865\n",
      "Epoch 32/50\n",
      "675/675 [==============================] - 2s 3ms/step - loss: 0.1924 - accuracy: 0.8955 - val_loss: 0.2034 - val_accuracy: 0.8902\n",
      "Epoch 33/50\n",
      "675/675 [==============================] - 2s 3ms/step - loss: 0.1923 - accuracy: 0.8956 - val_loss: 0.2036 - val_accuracy: 0.8833\n",
      "Epoch 34/50\n",
      "675/675 [==============================] - 2s 3ms/step - loss: 0.1919 - accuracy: 0.8954 - val_loss: 0.2041 - val_accuracy: 0.8870\n",
      "Epoch 35/50\n",
      "675/675 [==============================] - 2s 3ms/step - loss: 0.1916 - accuracy: 0.8965 - val_loss: 0.2029 - val_accuracy: 0.8885\n",
      "Epoch 36/50\n",
      "675/675 [==============================] - 2s 3ms/step - loss: 0.1915 - accuracy: 0.8956 - val_loss: 0.2026 - val_accuracy: 0.8902\n",
      "Epoch 37/50\n",
      "675/675 [==============================] - 2s 3ms/step - loss: 0.1910 - accuracy: 0.8962 - val_loss: 0.2033 - val_accuracy: 0.8919\n",
      "Epoch 38/50\n",
      "675/675 [==============================] - 2s 3ms/step - loss: 0.1909 - accuracy: 0.8965 - val_loss: 0.2055 - val_accuracy: 0.8893\n",
      "Epoch 39/50\n",
      "675/675 [==============================] - 2s 3ms/step - loss: 0.1904 - accuracy: 0.8955 - val_loss: 0.2095 - val_accuracy: 0.8900\n",
      "Epoch 40/50\n",
      "675/675 [==============================] - 2s 3ms/step - loss: 0.1895 - accuracy: 0.8980 - val_loss: 0.2070 - val_accuracy: 0.8878\n",
      "Epoch 41/50\n",
      "675/675 [==============================] - 2s 3ms/step - loss: 0.1898 - accuracy: 0.8988 - val_loss: 0.2045 - val_accuracy: 0.8870\n",
      "Epoch 42/50\n",
      "675/675 [==============================] - 2s 3ms/step - loss: 0.1891 - accuracy: 0.8981 - val_loss: 0.2017 - val_accuracy: 0.8909\n",
      "Epoch 43/50\n",
      "675/675 [==============================] - 2s 3ms/step - loss: 0.1893 - accuracy: 0.8961 - val_loss: 0.2040 - val_accuracy: 0.8859\n",
      "Epoch 44/50\n",
      "675/675 [==============================] - 2s 3ms/step - loss: 0.1894 - accuracy: 0.8970 - val_loss: 0.2012 - val_accuracy: 0.8894\n",
      "Epoch 45/50\n",
      "675/675 [==============================] - 2s 3ms/step - loss: 0.1890 - accuracy: 0.8969 - val_loss: 0.2029 - val_accuracy: 0.8891\n",
      "Epoch 46/50\n",
      "675/675 [==============================] - 2s 3ms/step - loss: 0.1884 - accuracy: 0.8974 - val_loss: 0.1989 - val_accuracy: 0.8906\n",
      "Epoch 47/50\n",
      "675/675 [==============================] - 2s 3ms/step - loss: 0.1888 - accuracy: 0.8971 - val_loss: 0.2051 - val_accuracy: 0.8846\n",
      "Epoch 48/50\n",
      "675/675 [==============================] - 2s 3ms/step - loss: 0.1882 - accuracy: 0.8979 - val_loss: 0.2034 - val_accuracy: 0.8876\n",
      "Epoch 49/50\n",
      "675/675 [==============================] - 2s 3ms/step - loss: 0.1875 - accuracy: 0.8977 - val_loss: 0.1993 - val_accuracy: 0.8894\n",
      "Epoch 50/50\n",
      "675/675 [==============================] - 2s 3ms/step - loss: 0.1877 - accuracy: 0.8987 - val_loss: 0.1987 - val_accuracy: 0.8887\n"
     ]
    }
   ],
   "source": [
    "breed_epochs = 50\n",
    "breed_history = breed_model.fit(x_breed_train, \n",
    "                                y_breed_train,\n",
    "                                epochs = breed_epochs,\n",
    "                                validation_data = (x_breed_valid, y_breed_valid))"
   ]
  },
  {
   "cell_type": "code",
   "execution_count": 44,
   "metadata": {
    "colab": {
     "base_uri": "https://localhost:8080/",
     "height": 281
    },
    "colab_type": "code",
    "id": "CayK_6lXwEmo",
    "outputId": "b23b058b-bf52-4083-ea1c-d9ec35516968"
   },
   "outputs": [
    {
     "data": {
      "image/png": "[encoded data removed]",
      "text/plain": [
       "<Figure size 432x288 with 1 Axes>"
      ]
     },
     "metadata": {
      "needs_background": "light",
      "tags": []
     },
     "output_type": "display_data"
    }
   ],
   "source": [
    "epochs = [i for i in range(1, breed_epochs + 1)]\n",
    "loss = breed_history.history['loss']\n",
    "acc = breed_history.history['accuracy']\n",
    "val_acc = breed_history.history['val_accuracy']\n",
    "val_loss = breed_history.history['val_loss']\n",
    "plt.plot(epochs, loss, val_loss)\n",
    "plt.legend([\"Training\", \"Validation\"])\n",
    "plt.title(\"LOSS V/S EPOCHS\")\n",
    "plt.show()\n"
   ]
  },
  {
   "cell_type": "code",
   "execution_count": 45,
   "metadata": {
    "colab": {
     "base_uri": "https://localhost:8080/",
     "height": 281
    },
    "colab_type": "code",
    "id": "Jg2o7PonxdOn",
    "outputId": "569507c9-6035-454c-eacd-554f6b24b70c"
   },
   "outputs": [
    {
     "data": {
      "image/png": "[encoded data removed]",
      "text/plain": [
       "<Figure size 432x288 with 1 Axes>"
      ]
     },
     "metadata": {
      "needs_background": "light",
      "tags": []
     },
     "output_type": "display_data"
    }
   ],
   "source": [
    "plt.plot(epochs, acc, val_acc)\n",
    "plt.legend([\"Training\", \"Validation\"])\n",
    "plt.title(\"ACCURACY V/S EPOCHS\")\n",
    "plt.show()"
   ]
  },
  {
   "cell_type": "markdown",
   "metadata": {
    "colab_type": "text",
    "id": "lsWbo9b2IOyJ"
   },
   "source": [
    "##PET MODEL"
   ]
  },
  {
   "cell_type": "code",
   "execution_count": 46,
   "metadata": {
    "colab": {
     "base_uri": "https://localhost:8080/",
     "height": 105
    },
    "colab_type": "code",
    "id": "bWMMgoywqbjW",
    "outputId": "95d30d07-e05f-403b-c0fc-05942a537ad1"
   },
   "outputs": [
    {
     "data": {
      "text/plain": [
       "2    10621\n",
       "1     7184\n",
       "3      941\n",
       "0       88\n",
       "Name: pet_category, dtype: int64"
      ]
     },
     "execution_count": 46,
     "metadata": {
      "tags": []
     },
     "output_type": "execute_result"
    }
   ],
   "source": [
    "train_data_final.pet_category.value_counts()"
   ]
  },
  {
   "cell_type": "code",
   "execution_count": 47,
   "metadata": {
    "colab": {
     "base_uri": "https://localhost:8080/",
     "height": 143
    },
    "colab_type": "code",
    "id": "SPMPNhT4ShdJ",
    "outputId": "72ea4d86-59f7-4221-cdfa-e8e62693d2b5"
   },
   "outputs": [
    {
     "name": "stderr",
     "output_type": "stream",
     "text": [
      "/usr/local/lib/python3.6/dist-packages/sklearn/utils/deprecation.py:87: FutureWarning: Function safe_indexing is deprecated; safe_indexing is deprecated in version 0.22 and will be removed in version 0.24.\n",
      "  warnings.warn(msg, category=FutureWarning)\n",
      "/usr/local/lib/python3.6/dist-packages/sklearn/utils/deprecation.py:87: FutureWarning: Function safe_indexing is deprecated; safe_indexing is deprecated in version 0.22 and will be removed in version 0.24.\n",
      "  warnings.warn(msg, category=FutureWarning)\n",
      "/usr/local/lib/python3.6/dist-packages/sklearn/utils/deprecation.py:87: FutureWarning: Function safe_indexing is deprecated; safe_indexing is deprecated in version 0.22 and will be removed in version 0.24.\n",
      "  warnings.warn(msg, category=FutureWarning)\n"
     ]
    }
   ],
   "source": [
    "pet = train_data_final[\"pet_category\"]\n",
    "pet_smote = SMOTE()\n",
    "x_pet, y_pet = pet_smote.fit_sample(x.astype(\"float\"), pet)"
   ]
  },
  {
   "cell_type": "code",
   "execution_count": 48,
   "metadata": {
    "colab": {
     "base_uri": "https://localhost:8080/",
     "height": 34
    },
    "colab_type": "code",
    "id": "i0fdToZrWse-",
    "outputId": "21dc9c68-0e9f-419d-9d58-70a9795d71a2"
   },
   "outputs": [
    {
     "data": {
      "text/plain": [
       "Counter({0: 10621, 1: 10621, 2: 10621, 3: 10621})"
      ]
     },
     "execution_count": 48,
     "metadata": {
      "tags": []
     },
     "output_type": "execute_result"
    }
   ],
   "source": [
    "from collections import Counter\n",
    "Counter(y_pet)"
   ]
  },
  {
   "cell_type": "code",
   "execution_count": 49,
   "metadata": {
    "colab": {
     "base_uri": "https://localhost:8080/",
     "height": 34
    },
    "colab_type": "code",
    "id": "_MdWZIqfHtnt",
    "outputId": "6f640793-a0cc-41c4-d1e3-25592376ccc3"
   },
   "outputs": [
    {
     "data": {
      "text/plain": [
       "(42484, 4)"
      ]
     },
     "execution_count": 49,
     "metadata": {
      "tags": []
     },
     "output_type": "execute_result"
    }
   ],
   "source": [
    "y_pet = to_categorical(y_pet, dtype = \"float\")\n",
    "y_pet.shape"
   ]
  },
  {
   "cell_type": "code",
   "execution_count": 50,
   "metadata": {
    "colab": {
     "base_uri": "https://localhost:8080/",
     "height": 34
    },
    "colab_type": "code",
    "id": "8zaFeS4BKXy1",
    "outputId": "5d98aeb8-81ee-498a-bf6e-c79e83e4b1c2"
   },
   "outputs": [
    {
     "data": {
      "text/plain": [
       "(33987, 4)"
      ]
     },
     "execution_count": 50,
     "metadata": {
      "tags": []
     },
     "output_type": "execute_result"
    }
   ],
   "source": [
    "x_pet_train, x_pet_valid, y_pet_train, y_pet_valid = train_test_split(x_pet, y_pet, test_size = 0.2, random_state = 10)\n",
    "y_pet_train.shape"
   ]
  },
  {
   "cell_type": "code",
   "execution_count": 53,
   "metadata": {
    "colab": {
     "base_uri": "https://localhost:8080/",
     "height": 407
    },
    "colab_type": "code",
    "id": "nwR8_31gJypB",
    "outputId": "354c0b94-3e68-4ecf-bbe8-58bc2581c448"
   },
   "outputs": [
    {
     "name": "stdout",
     "output_type": "stream",
     "text": [
      "Model: \"sequential_3\"\n",
      "_________________________________________________________________\n",
      "Layer (type)                 Output Shape              Param #   \n",
      "=================================================================\n",
      "dense_12 (Dense)             (None, 33987, 7)          56        \n",
      "_________________________________________________________________\n",
      "activation_11 (Activation)   (None, 33987, 7)          0         \n",
      "_________________________________________________________________\n",
      "dense_13 (Dense)             (None, 33987, 21)         168       \n",
      "_________________________________________________________________\n",
      "activation_12 (Activation)   (None, 33987, 21)         0         \n",
      "_________________________________________________________________\n",
      "dense_14 (Dense)             (None, 33987, 21)         462       \n",
      "_________________________________________________________________\n",
      "dense_15 (Dense)             (None, 33987, 4)          88        \n",
      "_________________________________________________________________\n",
      "activation_13 (Activation)   (None, 33987, 4)          0         \n",
      "=================================================================\n",
      "Total params: 774\n",
      "Trainable params: 774\n",
      "Non-trainable params: 0\n",
      "_________________________________________________________________\n"
     ]
    }
   ],
   "source": [
    "pet_model = Sequential()\n",
    "pet_model.add(Dense(7, input_shape = (x_pet_train.shape)))\n",
    "pet_model.add(Activation(\"relu\"))\n",
    "\n",
    "pet_model.add(Dense(21))\n",
    "pet_model.add(Activation(\"relu\"))\n",
    "pet_model.add(Dense(21))\n",
    "\n",
    "pet_model.add(Dense(4))\n",
    "pet_model.add(Activation(\"softmax\"))\n",
    "\n",
    "pet_model.compile(optimizer = \"adam\", loss = \"categorical_crossentropy\", metrics = \"accuracy\")\n",
    "pet_model.summary()"
   ]
  },
  {
   "cell_type": "code",
   "execution_count": 54,
   "metadata": {
    "colab": {
     "base_uri": "https://localhost:8080/",
     "height": 1000
    },
    "colab_type": "code",
    "id": "hIklNXXhKKwi",
    "outputId": "1de25367-933f-47a3-ded3-cff65198310e"
   },
   "outputs": [
    {
     "name": "stdout",
     "output_type": "stream",
     "text": [
      "Epoch 1/50\n",
      "WARNING:tensorflow:Model was constructed with shape (None, 33987, 7) for input Tensor(\"dense_12_input:0\", shape=(None, 33987, 7), dtype=float32), but it was called on an input with incompatible shape (None, 7).\n",
      "WARNING:tensorflow:Model was constructed with shape (None, 33987, 7) for input Tensor(\"dense_12_input:0\", shape=(None, 33987, 7), dtype=float32), but it was called on an input with incompatible shape (None, 7).\n",
      "1059/1063 [============================>.] - ETA: 0s - loss: 1.0181 - accuracy: 0.5671WARNING:tensorflow:Model was constructed with shape (None, 33987, 7) for input Tensor(\"dense_12_input:0\", shape=(None, 33987, 7), dtype=float32), but it was called on an input with incompatible shape (None, 7).\n",
      "1063/1063 [==============================] - 4s 4ms/step - loss: 1.0177 - accuracy: 0.5673 - val_loss: 0.8933 - val_accuracy: 0.6163\n",
      "Epoch 2/50\n",
      "1063/1063 [==============================] - 4s 4ms/step - loss: 0.8439 - accuracy: 0.6472 - val_loss: 0.8315 - val_accuracy: 0.6641\n",
      "Epoch 3/50\n",
      "1063/1063 [==============================] - 4s 4ms/step - loss: 0.7857 - accuracy: 0.6850 - val_loss: 0.7948 - val_accuracy: 0.6849\n",
      "Epoch 4/50\n",
      "1063/1063 [==============================] - 4s 4ms/step - loss: 0.7329 - accuracy: 0.7070 - val_loss: 0.7378 - val_accuracy: 0.7031\n",
      "Epoch 5/50\n",
      "1063/1063 [==============================] - 4s 4ms/step - loss: 0.6892 - accuracy: 0.7257 - val_loss: 0.6962 - val_accuracy: 0.7223\n",
      "Epoch 6/50\n",
      "1063/1063 [==============================] - 4s 4ms/step - loss: 0.6652 - accuracy: 0.7334 - val_loss: 0.6848 - val_accuracy: 0.7277\n",
      "Epoch 7/50\n",
      "1063/1063 [==============================] - 4s 4ms/step - loss: 0.6501 - accuracy: 0.7377 - val_loss: 0.6748 - val_accuracy: 0.7271\n",
      "Epoch 8/50\n",
      "1063/1063 [==============================] - 4s 4ms/step - loss: 0.6398 - accuracy: 0.7421 - val_loss: 0.6532 - val_accuracy: 0.7378\n",
      "Epoch 9/50\n",
      "1063/1063 [==============================] - 4s 4ms/step - loss: 0.6306 - accuracy: 0.7456 - val_loss: 0.6461 - val_accuracy: 0.7400\n",
      "Epoch 10/50\n",
      "1063/1063 [==============================] - 4s 4ms/step - loss: 0.6236 - accuracy: 0.7487 - val_loss: 0.6376 - val_accuracy: 0.7385\n",
      "Epoch 11/50\n",
      "1063/1063 [==============================] - 4s 4ms/step - loss: 0.6181 - accuracy: 0.7491 - val_loss: 0.6418 - val_accuracy: 0.7416\n",
      "Epoch 12/50\n",
      "1063/1063 [==============================] - 4s 4ms/step - loss: 0.6148 - accuracy: 0.7498 - val_loss: 0.6297 - val_accuracy: 0.7459\n",
      "Epoch 13/50\n",
      "1063/1063 [==============================] - 4s 4ms/step - loss: 0.6086 - accuracy: 0.7521 - val_loss: 0.6317 - val_accuracy: 0.7407\n",
      "Epoch 14/50\n",
      "1063/1063 [==============================] - 4s 4ms/step - loss: 0.6074 - accuracy: 0.7541 - val_loss: 0.6276 - val_accuracy: 0.7492\n",
      "Epoch 15/50\n",
      "1063/1063 [==============================] - 4s 4ms/step - loss: 0.6049 - accuracy: 0.7530 - val_loss: 0.6215 - val_accuracy: 0.7446\n",
      "Epoch 16/50\n",
      "1063/1063 [==============================] - 4s 4ms/step - loss: 0.6011 - accuracy: 0.7567 - val_loss: 0.6248 - val_accuracy: 0.7473\n",
      "Epoch 17/50\n",
      "1063/1063 [==============================] - 4s 4ms/step - loss: 0.5990 - accuracy: 0.7561 - val_loss: 0.6160 - val_accuracy: 0.7491\n",
      "Epoch 18/50\n",
      "1063/1063 [==============================] - 4s 4ms/step - loss: 0.5964 - accuracy: 0.7570 - val_loss: 0.6188 - val_accuracy: 0.7511\n",
      "Epoch 19/50\n",
      "1063/1063 [==============================] - 4s 4ms/step - loss: 0.5938 - accuracy: 0.7580 - val_loss: 0.6167 - val_accuracy: 0.7473\n",
      "Epoch 20/50\n",
      "1063/1063 [==============================] - 4s 4ms/step - loss: 0.5913 - accuracy: 0.7561 - val_loss: 0.6176 - val_accuracy: 0.7471\n",
      "Epoch 21/50\n",
      "1063/1063 [==============================] - 4s 4ms/step - loss: 0.5907 - accuracy: 0.7588 - val_loss: 0.6098 - val_accuracy: 0.7490\n",
      "Epoch 22/50\n",
      "1063/1063 [==============================] - 4s 4ms/step - loss: 0.5903 - accuracy: 0.7590 - val_loss: 0.6104 - val_accuracy: 0.7507\n",
      "Epoch 23/50\n",
      "1063/1063 [==============================] - 4s 4ms/step - loss: 0.5887 - accuracy: 0.7589 - val_loss: 0.6234 - val_accuracy: 0.7444\n",
      "Epoch 24/50\n",
      "1063/1063 [==============================] - 4s 4ms/step - loss: 0.5878 - accuracy: 0.7585 - val_loss: 0.6225 - val_accuracy: 0.7440\n",
      "Epoch 25/50\n",
      "1063/1063 [==============================] - 4s 4ms/step - loss: 0.5858 - accuracy: 0.7622 - val_loss: 0.6120 - val_accuracy: 0.7489\n",
      "Epoch 26/50\n",
      "1063/1063 [==============================] - 4s 4ms/step - loss: 0.5848 - accuracy: 0.7613 - val_loss: 0.6063 - val_accuracy: 0.7478\n",
      "Epoch 27/50\n",
      "1063/1063 [==============================] - 4s 4ms/step - loss: 0.5853 - accuracy: 0.7609 - val_loss: 0.6127 - val_accuracy: 0.7527\n",
      "Epoch 28/50\n",
      "1063/1063 [==============================] - 4s 4ms/step - loss: 0.5832 - accuracy: 0.7607 - val_loss: 0.6256 - val_accuracy: 0.7411\n",
      "Epoch 29/50\n",
      "1063/1063 [==============================] - 4s 4ms/step - loss: 0.5838 - accuracy: 0.7626 - val_loss: 0.5989 - val_accuracy: 0.7572\n",
      "Epoch 30/50\n",
      "1063/1063 [==============================] - 4s 4ms/step - loss: 0.5828 - accuracy: 0.7626 - val_loss: 0.6110 - val_accuracy: 0.7494\n",
      "Epoch 31/50\n",
      "1063/1063 [==============================] - 4s 4ms/step - loss: 0.5814 - accuracy: 0.7630 - val_loss: 0.6017 - val_accuracy: 0.7561\n",
      "Epoch 32/50\n",
      "1063/1063 [==============================] - 4s 4ms/step - loss: 0.5815 - accuracy: 0.7634 - val_loss: 0.6002 - val_accuracy: 0.7536\n",
      "Epoch 33/50\n",
      "1063/1063 [==============================] - 4s 4ms/step - loss: 0.5786 - accuracy: 0.7651 - val_loss: 0.6024 - val_accuracy: 0.7485\n",
      "Epoch 34/50\n",
      "1063/1063 [==============================] - 4s 4ms/step - loss: 0.5802 - accuracy: 0.7626 - val_loss: 0.5988 - val_accuracy: 0.7557\n",
      "Epoch 35/50\n",
      "1063/1063 [==============================] - 4s 4ms/step - loss: 0.5797 - accuracy: 0.7636 - val_loss: 0.5973 - val_accuracy: 0.7584\n",
      "Epoch 36/50\n",
      "1063/1063 [==============================] - 4s 4ms/step - loss: 0.5770 - accuracy: 0.7659 - val_loss: 0.5956 - val_accuracy: 0.7525\n",
      "Epoch 37/50\n",
      "1063/1063 [==============================] - 4s 4ms/step - loss: 0.5771 - accuracy: 0.7632 - val_loss: 0.5986 - val_accuracy: 0.7577\n",
      "Epoch 38/50\n",
      "1063/1063 [==============================] - 4s 4ms/step - loss: 0.5772 - accuracy: 0.7636 - val_loss: 0.5942 - val_accuracy: 0.7540\n",
      "Epoch 39/50\n",
      "1063/1063 [==============================] - 4s 4ms/step - loss: 0.5748 - accuracy: 0.7652 - val_loss: 0.5978 - val_accuracy: 0.7529\n",
      "Epoch 40/50\n",
      "1063/1063 [==============================] - 4s 4ms/step - loss: 0.5751 - accuracy: 0.7668 - val_loss: 0.6044 - val_accuracy: 0.7493\n",
      "Epoch 41/50\n",
      "1063/1063 [==============================] - 4s 4ms/step - loss: 0.5734 - accuracy: 0.7666 - val_loss: 0.5970 - val_accuracy: 0.7559\n",
      "Epoch 42/50\n",
      "1063/1063 [==============================] - 4s 4ms/step - loss: 0.5729 - accuracy: 0.7649 - val_loss: 0.5919 - val_accuracy: 0.7600\n",
      "Epoch 43/50\n",
      "1063/1063 [==============================] - 4s 4ms/step - loss: 0.5722 - accuracy: 0.7657 - val_loss: 0.5860 - val_accuracy: 0.7604\n",
      "Epoch 44/50\n",
      "1063/1063 [==============================] - 4s 4ms/step - loss: 0.5705 - accuracy: 0.7659 - val_loss: 0.5908 - val_accuracy: 0.7599\n",
      "Epoch 45/50\n",
      "1063/1063 [==============================] - 4s 4ms/step - loss: 0.5694 - accuracy: 0.7676 - val_loss: 0.5935 - val_accuracy: 0.7603\n",
      "Epoch 46/50\n",
      "1063/1063 [==============================] - 4s 4ms/step - loss: 0.5676 - accuracy: 0.7707 - val_loss: 0.5963 - val_accuracy: 0.7577\n",
      "Epoch 47/50\n",
      "1063/1063 [==============================] - 4s 4ms/step - loss: 0.5677 - accuracy: 0.7683 - val_loss: 0.5832 - val_accuracy: 0.7631\n",
      "Epoch 48/50\n",
      "1063/1063 [==============================] - 4s 4ms/step - loss: 0.5642 - accuracy: 0.7709 - val_loss: 0.5874 - val_accuracy: 0.7603\n",
      "Epoch 49/50\n",
      "1063/1063 [==============================] - 4s 4ms/step - loss: 0.5653 - accuracy: 0.7720 - val_loss: 0.5934 - val_accuracy: 0.7554\n",
      "Epoch 50/50\n",
      "1063/1063 [==============================] - 4s 4ms/step - loss: 0.5638 - accuracy: 0.7709 - val_loss: 0.5845 - val_accuracy: 0.7647\n"
     ]
    }
   ],
   "source": [
    "pet_epochs = 50\n",
    "pet_history = pet_model.fit(x_pet_train, \n",
    "                            y_pet_train,\n",
    "                            epochs = pet_epochs,\n",
    "                            validation_data = (x_pet_valid, y_pet_valid))"
   ]
  },
  {
   "cell_type": "code",
   "execution_count": 55,
   "metadata": {
    "colab": {
     "base_uri": "https://localhost:8080/",
     "height": 281
    },
    "colab_type": "code",
    "id": "DtRA6_FMoVZH",
    "outputId": "68f045cd-1c53-467f-fead-d7dc95a4d781"
   },
   "outputs": [
    {
     "data": {
      "image/png": "[encoded data removed]",
      "text/plain": [
       "<Figure size 432x288 with 1 Axes>"
      ]
     },
     "metadata": {
      "needs_background": "light",
      "tags": []
     },
     "output_type": "display_data"
    }
   ],
   "source": [
    "epochs = [i for i in range(1, pet_epochs + 1)]\n",
    "loss = pet_history.history['loss']\n",
    "acc = pet_history.history['accuracy']\n",
    "val_acc = pet_history.history['val_accuracy']\n",
    "val_loss = pet_history.history['val_loss']\n",
    "plt.plot(epochs, loss, val_loss)\n",
    "plt.legend([\"Training\", \"Validation\"])\n",
    "plt.title(\"LOSS V/S EPOCHS\")\n",
    "plt.show()"
   ]
  },
  {
   "cell_type": "code",
   "execution_count": 56,
   "metadata": {
    "colab": {
     "base_uri": "https://localhost:8080/",
     "height": 281
    },
    "colab_type": "code",
    "id": "W2WJ3W-qICdo",
    "outputId": "44290ab3-5f04-479c-baa7-6a3cf1cf41d8"
   },
   "outputs": [
    {
     "data": {
      "image/png": "[encoded data removed]",
      "text/plain": [
       "<Figure size 432x288 with 1 Axes>"
      ]
     },
     "metadata": {
      "needs_background": "light",
      "tags": []
     },
     "output_type": "display_data"
    }
   ],
   "source": [
    "plt.plot(epochs, acc, val_acc)\n",
    "plt.legend([\"Training\", \"Validation\"])\n",
    "plt.title(\"ACCURACY V/S EPOCHS\")\n",
    "plt.show()"
   ]
  },
  {
   "cell_type": "markdown",
   "metadata": {
    "colab_type": "text",
    "id": "_LyHSuaQpR0I"
   },
   "source": [
    "##TESTING"
   ]
  },
  {
   "cell_type": "code",
   "execution_count": 66,
   "metadata": {
    "colab": {
     "base_uri": "https://localhost:8080/",
     "height": 197
    },
    "colab_type": "code",
    "id": "g-4mnop5pdsY",
    "outputId": "bb9070b3-68eb-43c7-87bc-53652927dd0b"
   },
   "outputs": [
    {
     "data": {
      "text/html": [
       "<div>\n",
       "<style scoped>\n",
       "    .dataframe tbody tr th:only-of-type {\n",
       "        vertical-align: middle;\n",
       "    }\n",
       "\n",
       "    .dataframe tbody tr th {\n",
       "        vertical-align: top;\n",
       "    }\n",
       "\n",
       "    .dataframe thead th {\n",
       "        text-align: right;\n",
       "    }\n",
       "</style>\n",
       "<table border=\"1\" class=\"dataframe\">\n",
       "  <thead>\n",
       "    <tr style=\"text-align: right;\">\n",
       "      <th></th>\n",
       "      <th>pet_id</th>\n",
       "      <th>issue_date</th>\n",
       "      <th>listing_date</th>\n",
       "      <th>condition</th>\n",
       "      <th>color_type</th>\n",
       "      <th>length(m)</th>\n",
       "      <th>height(cm)</th>\n",
       "      <th>X1</th>\n",
       "      <th>X2</th>\n",
       "    </tr>\n",
       "  </thead>\n",
       "  <tbody>\n",
       "    <tr>\n",
       "      <th>0</th>\n",
       "      <td>ANSL_75005</td>\n",
       "      <td>2005-08-17 00:00:00</td>\n",
       "      <td>2017-09-07 15:35:00</td>\n",
       "      <td>0.0</td>\n",
       "      <td>Black</td>\n",
       "      <td>0.87</td>\n",
       "      <td>42.73</td>\n",
       "      <td>0</td>\n",
       "      <td>7</td>\n",
       "    </tr>\n",
       "    <tr>\n",
       "      <th>1</th>\n",
       "      <td>ANSL_76663</td>\n",
       "      <td>2018-11-15 00:00:00</td>\n",
       "      <td>2019-05-08 17:24:00</td>\n",
       "      <td>1.0</td>\n",
       "      <td>Orange Tabby</td>\n",
       "      <td>0.06</td>\n",
       "      <td>6.71</td>\n",
       "      <td>0</td>\n",
       "      <td>1</td>\n",
       "    </tr>\n",
       "    <tr>\n",
       "      <th>2</th>\n",
       "      <td>ANSL_58259</td>\n",
       "      <td>2012-10-11 00:00:00</td>\n",
       "      <td>2018-04-02 16:51:00</td>\n",
       "      <td>1.0</td>\n",
       "      <td>Black</td>\n",
       "      <td>0.24</td>\n",
       "      <td>41.21</td>\n",
       "      <td>0</td>\n",
       "      <td>7</td>\n",
       "    </tr>\n",
       "    <tr>\n",
       "      <th>3</th>\n",
       "      <td>ANSL_67171</td>\n",
       "      <td>2015-02-13 00:00:00</td>\n",
       "      <td>2018-04-06 07:25:00</td>\n",
       "      <td>1.0</td>\n",
       "      <td>Black</td>\n",
       "      <td>0.29</td>\n",
       "      <td>8.46</td>\n",
       "      <td>7</td>\n",
       "      <td>1</td>\n",
       "    </tr>\n",
       "    <tr>\n",
       "      <th>4</th>\n",
       "      <td>ANSL_72871</td>\n",
       "      <td>2017-01-18 00:00:00</td>\n",
       "      <td>2018-04-26 13:42:00</td>\n",
       "      <td>1.0</td>\n",
       "      <td>Brown</td>\n",
       "      <td>0.71</td>\n",
       "      <td>30.92</td>\n",
       "      <td>0</td>\n",
       "      <td>7</td>\n",
       "    </tr>\n",
       "  </tbody>\n",
       "</table>\n",
       "</div>"
      ],
      "text/plain": [
       "       pet_id           issue_date         listing_date  ...  height(cm) X1  X2\n",
       "0  ANSL_75005  2005-08-17 00:00:00  2017-09-07 15:35:00  ...       42.73  0   7\n",
       "1  ANSL_76663  2018-11-15 00:00:00  2019-05-08 17:24:00  ...        6.71  0   1\n",
       "2  ANSL_58259  2012-10-11 00:00:00  2018-04-02 16:51:00  ...       41.21  0   7\n",
       "3  ANSL_67171  2015-02-13 00:00:00  2018-04-06 07:25:00  ...        8.46  7   1\n",
       "4  ANSL_72871  2017-01-18 00:00:00  2018-04-26 13:42:00  ...       30.92  0   7\n",
       "\n",
       "[5 rows x 9 columns]"
      ]
     },
     "execution_count": 66,
     "metadata": {
      "tags": []
     },
     "output_type": "execute_result"
    }
   ],
   "source": [
    "test_data.head()"
   ]
  },
  {
   "cell_type": "code",
   "execution_count": 67,
   "metadata": {
    "colab": {
     "base_uri": "https://localhost:8080/",
     "height": 197
    },
    "colab_type": "code",
    "id": "yZkbSsYb2wti",
    "outputId": "85cc2e55-1cc7-4580-b256-47f8ad2677ce"
   },
   "outputs": [
    {
     "data": {
      "text/html": [
       "<div>\n",
       "<style scoped>\n",
       "    .dataframe tbody tr th:only-of-type {\n",
       "        vertical-align: middle;\n",
       "    }\n",
       "\n",
       "    .dataframe tbody tr th {\n",
       "        vertical-align: top;\n",
       "    }\n",
       "\n",
       "    .dataframe thead th {\n",
       "        text-align: right;\n",
       "    }\n",
       "</style>\n",
       "<table border=\"1\" class=\"dataframe\">\n",
       "  <thead>\n",
       "    <tr style=\"text-align: right;\">\n",
       "      <th></th>\n",
       "      <th>pet_id</th>\n",
       "      <th>issue_date</th>\n",
       "      <th>listing_date</th>\n",
       "      <th>condition</th>\n",
       "      <th>color_type</th>\n",
       "      <th>length(m)</th>\n",
       "      <th>height(cm)</th>\n",
       "      <th>X1</th>\n",
       "      <th>X2</th>\n",
       "      <th>days</th>\n",
       "      <th>total_days_stayed</th>\n",
       "    </tr>\n",
       "  </thead>\n",
       "  <tbody>\n",
       "    <tr>\n",
       "      <th>0</th>\n",
       "      <td>ANSL_75005</td>\n",
       "      <td>2005-08-17</td>\n",
       "      <td>2017-09-07 15:35:00</td>\n",
       "      <td>0.0</td>\n",
       "      <td>Black</td>\n",
       "      <td>0.87</td>\n",
       "      <td>42.73</td>\n",
       "      <td>0</td>\n",
       "      <td>7</td>\n",
       "      <td>4404 days 15:35:00</td>\n",
       "      <td>4404</td>\n",
       "    </tr>\n",
       "    <tr>\n",
       "      <th>1</th>\n",
       "      <td>ANSL_76663</td>\n",
       "      <td>2018-11-15</td>\n",
       "      <td>2019-05-08 17:24:00</td>\n",
       "      <td>1.0</td>\n",
       "      <td>Orange Tabby</td>\n",
       "      <td>0.06</td>\n",
       "      <td>6.71</td>\n",
       "      <td>0</td>\n",
       "      <td>1</td>\n",
       "      <td>174 days 17:24:00</td>\n",
       "      <td>174</td>\n",
       "    </tr>\n",
       "    <tr>\n",
       "      <th>2</th>\n",
       "      <td>ANSL_58259</td>\n",
       "      <td>2012-10-11</td>\n",
       "      <td>2018-04-02 16:51:00</td>\n",
       "      <td>1.0</td>\n",
       "      <td>Black</td>\n",
       "      <td>0.24</td>\n",
       "      <td>41.21</td>\n",
       "      <td>0</td>\n",
       "      <td>7</td>\n",
       "      <td>1999 days 16:51:00</td>\n",
       "      <td>1999</td>\n",
       "    </tr>\n",
       "    <tr>\n",
       "      <th>3</th>\n",
       "      <td>ANSL_67171</td>\n",
       "      <td>2015-02-13</td>\n",
       "      <td>2018-04-06 07:25:00</td>\n",
       "      <td>1.0</td>\n",
       "      <td>Black</td>\n",
       "      <td>0.29</td>\n",
       "      <td>8.46</td>\n",
       "      <td>7</td>\n",
       "      <td>1</td>\n",
       "      <td>1148 days 07:25:00</td>\n",
       "      <td>1148</td>\n",
       "    </tr>\n",
       "    <tr>\n",
       "      <th>4</th>\n",
       "      <td>ANSL_72871</td>\n",
       "      <td>2017-01-18</td>\n",
       "      <td>2018-04-26 13:42:00</td>\n",
       "      <td>1.0</td>\n",
       "      <td>Brown</td>\n",
       "      <td>0.71</td>\n",
       "      <td>30.92</td>\n",
       "      <td>0</td>\n",
       "      <td>7</td>\n",
       "      <td>463 days 13:42:00</td>\n",
       "      <td>463</td>\n",
       "    </tr>\n",
       "  </tbody>\n",
       "</table>\n",
       "</div>"
      ],
      "text/plain": [
       "       pet_id issue_date  ...               days  total_days_stayed\n",
       "0  ANSL_75005 2005-08-17  ... 4404 days 15:35:00               4404\n",
       "1  ANSL_76663 2018-11-15  ...  174 days 17:24:00                174\n",
       "2  ANSL_58259 2012-10-11  ... 1999 days 16:51:00               1999\n",
       "3  ANSL_67171 2015-02-13  ... 1148 days 07:25:00               1148\n",
       "4  ANSL_72871 2017-01-18  ...  463 days 13:42:00                463\n",
       "\n",
       "[5 rows x 11 columns]"
      ]
     },
     "execution_count": 67,
     "metadata": {
      "tags": []
     },
     "output_type": "execute_result"
    }
   ],
   "source": [
    "test_data[\"issue_date\"]=pd.to_datetime(test_data[\"issue_date\"],format='%Y-%m-%d')\n",
    "test_data[\"listing_date\"]=pd.to_datetime(test_data[\"listing_date\"],format='%Y-%m-%d')\n",
    "test_data[\"days\"] = test_data[\"listing_date\"] - test_data[\"issue_date\"]\n",
    "test_data[\"total_days_stayed\"]=test_data[\"days\"].dt.days\n",
    "test_data.head()"
   ]
  },
  {
   "cell_type": "code",
   "execution_count": 70,
   "metadata": {
    "colab": {
     "base_uri": "https://localhost:8080/",
     "height": 137
    },
    "colab_type": "code",
    "id": "HSY5RpN2nrh6",
    "outputId": "0f5edf59-d2f8-40cf-ef04-d4c20038cfba"
   },
   "outputs": [
    {
     "data": {
      "text/html": [
       "<div>\n",
       "<style scoped>\n",
       "    .dataframe tbody tr th:only-of-type {\n",
       "        vertical-align: middle;\n",
       "    }\n",
       "\n",
       "    .dataframe tbody tr th {\n",
       "        vertical-align: top;\n",
       "    }\n",
       "\n",
       "    .dataframe thead th {\n",
       "        text-align: right;\n",
       "    }\n",
       "</style>\n",
       "<table border=\"1\" class=\"dataframe\">\n",
       "  <thead>\n",
       "    <tr style=\"text-align: right;\">\n",
       "      <th></th>\n",
       "      <th>condition</th>\n",
       "      <th>color_type</th>\n",
       "      <th>length(m)</th>\n",
       "      <th>height(cm)</th>\n",
       "      <th>X1</th>\n",
       "      <th>X2</th>\n",
       "      <th>total_days_stayed</th>\n",
       "    </tr>\n",
       "  </thead>\n",
       "  <tbody>\n",
       "    <tr>\n",
       "      <th>0</th>\n",
       "      <td>0.0</td>\n",
       "      <td>Black</td>\n",
       "      <td>0.87</td>\n",
       "      <td>42.73</td>\n",
       "      <td>0</td>\n",
       "      <td>7</td>\n",
       "      <td>4404</td>\n",
       "    </tr>\n",
       "    <tr>\n",
       "      <th>1</th>\n",
       "      <td>1.0</td>\n",
       "      <td>Orange Tabby</td>\n",
       "      <td>0.06</td>\n",
       "      <td>6.71</td>\n",
       "      <td>0</td>\n",
       "      <td>1</td>\n",
       "      <td>174</td>\n",
       "    </tr>\n",
       "    <tr>\n",
       "      <th>2</th>\n",
       "      <td>1.0</td>\n",
       "      <td>Black</td>\n",
       "      <td>0.24</td>\n",
       "      <td>41.21</td>\n",
       "      <td>0</td>\n",
       "      <td>7</td>\n",
       "      <td>1999</td>\n",
       "    </tr>\n",
       "  </tbody>\n",
       "</table>\n",
       "</div>"
      ],
      "text/plain": [
       "   condition    color_type  length(m)  height(cm)  X1  X2  total_days_stayed\n",
       "0        0.0         Black       0.87       42.73   0   7               4404\n",
       "1        1.0  Orange Tabby       0.06        6.71   0   1                174\n",
       "2        1.0         Black       0.24       41.21   0   7               1999"
      ]
     },
     "execution_count": 70,
     "metadata": {
      "tags": []
     },
     "output_type": "execute_result"
    }
   ],
   "source": [
    "x_test = test_data[[\"condition\", \"color_type\",\"length(m)\", \"height(cm)\", \"X1\",\t\"X2\", \"total_days_stayed\"]]\n",
    "x_test.head(3)"
   ]
  },
  {
   "cell_type": "code",
   "execution_count": 71,
   "metadata": {
    "colab": {
     "base_uri": "https://localhost:8080/",
     "height": 304
    },
    "colab_type": "code",
    "id": "zQyAf9JioxZp",
    "outputId": "7030c45c-eaef-40c7-d6fc-34b77169febc"
   },
   "outputs": [
    {
     "name": "stderr",
     "output_type": "stream",
     "text": [
      "/usr/local/lib/python3.6/dist-packages/pandas/core/indexing.py:966: SettingWithCopyWarning: \n",
      "A value is trying to be set on a copy of a slice from a DataFrame.\n",
      "Try using .loc[row_indexer,col_indexer] = value instead\n",
      "\n",
      "See the caveats in the documentation: https://pandas.pydata.org/pandas-docs/stable/user_guide/indexing.html#returning-a-view-versus-a-copy\n",
      "  self.obj[item] = s\n"
     ]
    },
    {
     "data": {
      "text/html": [
       "<div>\n",
       "<style scoped>\n",
       "    .dataframe tbody tr th:only-of-type {\n",
       "        vertical-align: middle;\n",
       "    }\n",
       "\n",
       "    .dataframe tbody tr th {\n",
       "        vertical-align: top;\n",
       "    }\n",
       "\n",
       "    .dataframe thead th {\n",
       "        text-align: right;\n",
       "    }\n",
       "</style>\n",
       "<table border=\"1\" class=\"dataframe\">\n",
       "  <thead>\n",
       "    <tr style=\"text-align: right;\">\n",
       "      <th></th>\n",
       "      <th>condition</th>\n",
       "      <th>color_type</th>\n",
       "      <th>length(m)</th>\n",
       "      <th>height(cm)</th>\n",
       "      <th>X1</th>\n",
       "      <th>X2</th>\n",
       "      <th>total_days_stayed</th>\n",
       "    </tr>\n",
       "  </thead>\n",
       "  <tbody>\n",
       "    <tr>\n",
       "      <th>0</th>\n",
       "      <td>0.0</td>\n",
       "      <td>2</td>\n",
       "      <td>0.87</td>\n",
       "      <td>42.73</td>\n",
       "      <td>0</td>\n",
       "      <td>7</td>\n",
       "      <td>4404</td>\n",
       "    </tr>\n",
       "    <tr>\n",
       "      <th>1</th>\n",
       "      <td>1.0</td>\n",
       "      <td>36</td>\n",
       "      <td>0.06</td>\n",
       "      <td>6.71</td>\n",
       "      <td>0</td>\n",
       "      <td>1</td>\n",
       "      <td>174</td>\n",
       "    </tr>\n",
       "    <tr>\n",
       "      <th>2</th>\n",
       "      <td>1.0</td>\n",
       "      <td>2</td>\n",
       "      <td>0.24</td>\n",
       "      <td>41.21</td>\n",
       "      <td>0</td>\n",
       "      <td>7</td>\n",
       "      <td>1999</td>\n",
       "    </tr>\n",
       "    <tr>\n",
       "      <th>3</th>\n",
       "      <td>1.0</td>\n",
       "      <td>2</td>\n",
       "      <td>0.29</td>\n",
       "      <td>8.46</td>\n",
       "      <td>7</td>\n",
       "      <td>1</td>\n",
       "      <td>1148</td>\n",
       "    </tr>\n",
       "    <tr>\n",
       "      <th>4</th>\n",
       "      <td>1.0</td>\n",
       "      <td>14</td>\n",
       "      <td>0.71</td>\n",
       "      <td>30.92</td>\n",
       "      <td>0</td>\n",
       "      <td>7</td>\n",
       "      <td>463</td>\n",
       "    </tr>\n",
       "  </tbody>\n",
       "</table>\n",
       "</div>"
      ],
      "text/plain": [
       "   condition  color_type  length(m)  height(cm)  X1  X2  total_days_stayed\n",
       "0        0.0           2       0.87       42.73   0   7               4404\n",
       "1        1.0          36       0.06        6.71   0   1                174\n",
       "2        1.0           2       0.24       41.21   0   7               1999\n",
       "3        1.0           2       0.29        8.46   7   1               1148\n",
       "4        1.0          14       0.71       30.92   0   7                463"
      ]
     },
     "execution_count": 71,
     "metadata": {
      "tags": []
     },
     "output_type": "execute_result"
    }
   ],
   "source": [
    "x_test.loc[:, [\"color_type\"]] = x_test.loc[:, [\"color_type\"]].apply(enc.fit_transform)\n",
    "x_test.head()"
   ]
  },
  {
   "cell_type": "code",
   "execution_count": 72,
   "metadata": {
    "colab": {
     "base_uri": "https://localhost:8080/",
     "height": 304
    },
    "colab_type": "code",
    "id": "sMnaoephqX0X",
    "outputId": "7387e1ac-85a2-4655-af94-bcea58bd832a"
   },
   "outputs": [
    {
     "name": "stderr",
     "output_type": "stream",
     "text": [
      "/usr/local/lib/python3.6/dist-packages/ipykernel_launcher.py:3: SettingWithCopyWarning: \n",
      "A value is trying to be set on a copy of a slice from a DataFrame.\n",
      "Try using .loc[row_indexer,col_indexer] = value instead\n",
      "\n",
      "See the caveats in the documentation: https://pandas.pydata.org/pandas-docs/stable/user_guide/indexing.html#returning-a-view-versus-a-copy\n",
      "  This is separate from the ipykernel package so we can avoid doing imports until\n"
     ]
    },
    {
     "data": {
      "text/html": [
       "<div>\n",
       "<style scoped>\n",
       "    .dataframe tbody tr th:only-of-type {\n",
       "        vertical-align: middle;\n",
       "    }\n",
       "\n",
       "    .dataframe tbody tr th {\n",
       "        vertical-align: top;\n",
       "    }\n",
       "\n",
       "    .dataframe thead th {\n",
       "        text-align: right;\n",
       "    }\n",
       "</style>\n",
       "<table border=\"1\" class=\"dataframe\">\n",
       "  <thead>\n",
       "    <tr style=\"text-align: right;\">\n",
       "      <th></th>\n",
       "      <th>condition</th>\n",
       "      <th>color_type</th>\n",
       "      <th>length(m)</th>\n",
       "      <th>height(cm)</th>\n",
       "      <th>X1</th>\n",
       "      <th>X2</th>\n",
       "      <th>total_days_stayed</th>\n",
       "    </tr>\n",
       "  </thead>\n",
       "  <tbody>\n",
       "    <tr>\n",
       "      <th>0</th>\n",
       "      <td>-1.150040</td>\n",
       "      <td>-1.141043</td>\n",
       "      <td>1.252475</td>\n",
       "      <td>1.182764</td>\n",
       "      <td>-0.807634</td>\n",
       "      <td>0.707996</td>\n",
       "      <td>3.214619</td>\n",
       "    </tr>\n",
       "    <tr>\n",
       "      <th>1</th>\n",
       "      <td>0.147062</td>\n",
       "      <td>0.686650</td>\n",
       "      <td>-1.544343</td>\n",
       "      <td>-1.605614</td>\n",
       "      <td>-0.807634</td>\n",
       "      <td>-0.994823</td>\n",
       "      <td>-0.617979</td>\n",
       "    </tr>\n",
       "    <tr>\n",
       "      <th>2</th>\n",
       "      <td>0.147062</td>\n",
       "      <td>-1.141043</td>\n",
       "      <td>-0.922828</td>\n",
       "      <td>1.065098</td>\n",
       "      <td>-0.807634</td>\n",
       "      <td>0.707996</td>\n",
       "      <td>1.035565</td>\n",
       "    </tr>\n",
       "    <tr>\n",
       "      <th>3</th>\n",
       "      <td>0.147062</td>\n",
       "      <td>-1.141043</td>\n",
       "      <td>-0.750185</td>\n",
       "      <td>-1.470143</td>\n",
       "      <td>0.268323</td>\n",
       "      <td>-0.994823</td>\n",
       "      <td>0.264515</td>\n",
       "    </tr>\n",
       "    <tr>\n",
       "      <th>4</th>\n",
       "      <td>0.147062</td>\n",
       "      <td>-0.495975</td>\n",
       "      <td>0.700017</td>\n",
       "      <td>0.268529</td>\n",
       "      <td>-0.807634</td>\n",
       "      <td>0.707996</td>\n",
       "      <td>-0.356131</td>\n",
       "    </tr>\n",
       "  </tbody>\n",
       "</table>\n",
       "</div>"
      ],
      "text/plain": [
       "   condition  color_type  length(m)  ...        X1        X2  total_days_stayed\n",
       "0  -1.150040   -1.141043   1.252475  ... -0.807634  0.707996           3.214619\n",
       "1   0.147062    0.686650  -1.544343  ... -0.807634 -0.994823          -0.617979\n",
       "2   0.147062   -1.141043  -0.922828  ... -0.807634  0.707996           1.035565\n",
       "3   0.147062   -1.141043  -0.750185  ...  0.268323 -0.994823           0.264515\n",
       "4   0.147062   -0.495975   0.700017  ... -0.807634  0.707996          -0.356131\n",
       "\n",
       "[5 rows x 7 columns]"
      ]
     },
     "execution_count": 72,
     "metadata": {
      "tags": []
     },
     "output_type": "execute_result"
    }
   ],
   "source": [
    "cols = x_test.columns.tolist()\n",
    "for col in cols:\n",
    "  x_test[col] = (x_test[col] - x_test[col].mean())/x_test[col].std()\n",
    "x_test.head() "
   ]
  },
  {
   "cell_type": "code",
   "execution_count": 74,
   "metadata": {
    "colab": {},
    "colab_type": "code",
    "id": "_eqJEP9_v1wL"
   },
   "outputs": [],
   "source": [
    "breed_preds = breed_model.predict(x_test)\n",
    "pet_preds = pet_model.predict(x_test)"
   ]
  },
  {
   "cell_type": "code",
   "execution_count": 75,
   "metadata": {
    "colab": {
     "base_uri": "https://localhost:8080/",
     "height": 34
    },
    "colab_type": "code",
    "id": "R6TB4kvUwGmb",
    "outputId": "1aa2c2ab-82a8-46ec-a529-6b712a46e3df"
   },
   "outputs": [
    {
     "data": {
      "text/plain": [
       "[1, 0, 0, 0, 0, 1]"
      ]
     },
     "execution_count": 75,
     "metadata": {
      "tags": []
     },
     "output_type": "execute_result"
    }
   ],
   "source": [
    "breed_preds_ = list(map(np.argmax, breed_preds))\n",
    "breed_preds_[:6]"
   ]
  },
  {
   "cell_type": "code",
   "execution_count": 76,
   "metadata": {
    "colab": {
     "base_uri": "https://localhost:8080/",
     "height": 34
    },
    "colab_type": "code",
    "id": "FZHrDncbwOU2",
    "outputId": "7a5fdd76-c672-472a-c5f3-a96c87afe48c"
   },
   "outputs": [
    {
     "data": {
      "text/plain": [
       "[2, 1, 2, 2, 0, 1]"
      ]
     },
     "execution_count": 76,
     "metadata": {
      "tags": []
     },
     "output_type": "execute_result"
    }
   ],
   "source": [
    "pet_preds_ = list(map(np.argmax, pet_preds))\n",
    "pet_preds_[:6]"
   ]
  },
  {
   "cell_type": "code",
   "execution_count": 77,
   "metadata": {
    "colab": {
     "base_uri": "https://localhost:8080/",
     "height": 197
    },
    "colab_type": "code",
    "id": "d3ayK750wUB5",
    "outputId": "f10e6fd5-f1c4-4a19-c8aa-865b20ae33b5"
   },
   "outputs": [
    {
     "data": {
      "text/html": [
       "<div>\n",
       "<style scoped>\n",
       "    .dataframe tbody tr th:only-of-type {\n",
       "        vertical-align: middle;\n",
       "    }\n",
       "\n",
       "    .dataframe tbody tr th {\n",
       "        vertical-align: top;\n",
       "    }\n",
       "\n",
       "    .dataframe thead th {\n",
       "        text-align: right;\n",
       "    }\n",
       "</style>\n",
       "<table border=\"1\" class=\"dataframe\">\n",
       "  <thead>\n",
       "    <tr style=\"text-align: right;\">\n",
       "      <th></th>\n",
       "      <th>pet_id</th>\n",
       "      <th>issue_date</th>\n",
       "      <th>listing_date</th>\n",
       "      <th>condition</th>\n",
       "      <th>color_type</th>\n",
       "      <th>length(m)</th>\n",
       "      <th>height(cm)</th>\n",
       "      <th>X1</th>\n",
       "      <th>X2</th>\n",
       "      <th>days</th>\n",
       "      <th>total_days_stayed</th>\n",
       "      <th>breed_category</th>\n",
       "      <th>pet_category</th>\n",
       "    </tr>\n",
       "  </thead>\n",
       "  <tbody>\n",
       "    <tr>\n",
       "      <th>0</th>\n",
       "      <td>ANSL_75005</td>\n",
       "      <td>2005-08-17</td>\n",
       "      <td>2017-09-07 15:35:00</td>\n",
       "      <td>0.0</td>\n",
       "      <td>Black</td>\n",
       "      <td>0.87</td>\n",
       "      <td>42.73</td>\n",
       "      <td>0</td>\n",
       "      <td>7</td>\n",
       "      <td>4404 days 15:35:00</td>\n",
       "      <td>4404</td>\n",
       "      <td>1</td>\n",
       "      <td>2</td>\n",
       "    </tr>\n",
       "    <tr>\n",
       "      <th>1</th>\n",
       "      <td>ANSL_76663</td>\n",
       "      <td>2018-11-15</td>\n",
       "      <td>2019-05-08 17:24:00</td>\n",
       "      <td>1.0</td>\n",
       "      <td>Orange Tabby</td>\n",
       "      <td>0.06</td>\n",
       "      <td>6.71</td>\n",
       "      <td>0</td>\n",
       "      <td>1</td>\n",
       "      <td>174 days 17:24:00</td>\n",
       "      <td>174</td>\n",
       "      <td>0</td>\n",
       "      <td>1</td>\n",
       "    </tr>\n",
       "    <tr>\n",
       "      <th>2</th>\n",
       "      <td>ANSL_58259</td>\n",
       "      <td>2012-10-11</td>\n",
       "      <td>2018-04-02 16:51:00</td>\n",
       "      <td>1.0</td>\n",
       "      <td>Black</td>\n",
       "      <td>0.24</td>\n",
       "      <td>41.21</td>\n",
       "      <td>0</td>\n",
       "      <td>7</td>\n",
       "      <td>1999 days 16:51:00</td>\n",
       "      <td>1999</td>\n",
       "      <td>0</td>\n",
       "      <td>2</td>\n",
       "    </tr>\n",
       "    <tr>\n",
       "      <th>3</th>\n",
       "      <td>ANSL_67171</td>\n",
       "      <td>2015-02-13</td>\n",
       "      <td>2018-04-06 07:25:00</td>\n",
       "      <td>1.0</td>\n",
       "      <td>Black</td>\n",
       "      <td>0.29</td>\n",
       "      <td>8.46</td>\n",
       "      <td>7</td>\n",
       "      <td>1</td>\n",
       "      <td>1148 days 07:25:00</td>\n",
       "      <td>1148</td>\n",
       "      <td>0</td>\n",
       "      <td>2</td>\n",
       "    </tr>\n",
       "    <tr>\n",
       "      <th>4</th>\n",
       "      <td>ANSL_72871</td>\n",
       "      <td>2017-01-18</td>\n",
       "      <td>2018-04-26 13:42:00</td>\n",
       "      <td>1.0</td>\n",
       "      <td>Brown</td>\n",
       "      <td>0.71</td>\n",
       "      <td>30.92</td>\n",
       "      <td>0</td>\n",
       "      <td>7</td>\n",
       "      <td>463 days 13:42:00</td>\n",
       "      <td>463</td>\n",
       "      <td>0</td>\n",
       "      <td>0</td>\n",
       "    </tr>\n",
       "  </tbody>\n",
       "</table>\n",
       "</div>"
      ],
      "text/plain": [
       "       pet_id issue_date  ... breed_category  pet_category\n",
       "0  ANSL_75005 2005-08-17  ...              1             2\n",
       "1  ANSL_76663 2018-11-15  ...              0             1\n",
       "2  ANSL_58259 2012-10-11  ...              0             2\n",
       "3  ANSL_67171 2015-02-13  ...              0             2\n",
       "4  ANSL_72871 2017-01-18  ...              0             0\n",
       "\n",
       "[5 rows x 13 columns]"
      ]
     },
     "execution_count": 77,
     "metadata": {
      "tags": []
     },
     "output_type": "execute_result"
    }
   ],
   "source": [
    "test_data[\"breed_category\"] = breed_preds_\n",
    "test_data[\"pet_category\"] = pet_preds_\n",
    "test_data.head()"
   ]
  },
  {
   "cell_type": "code",
   "execution_count": 78,
   "metadata": {
    "colab": {
     "base_uri": "https://localhost:8080/",
     "height": 406
    },
    "colab_type": "code",
    "id": "bvCzeDRoAkLz",
    "outputId": "dc302ea8-59bc-4acd-9755-e00949b9ad6d"
   },
   "outputs": [
    {
     "data": {
      "text/html": [
       "<div>\n",
       "<style scoped>\n",
       "    .dataframe tbody tr th:only-of-type {\n",
       "        vertical-align: middle;\n",
       "    }\n",
       "\n",
       "    .dataframe tbody tr th {\n",
       "        vertical-align: top;\n",
       "    }\n",
       "\n",
       "    .dataframe thead th {\n",
       "        text-align: right;\n",
       "    }\n",
       "</style>\n",
       "<table border=\"1\" class=\"dataframe\">\n",
       "  <thead>\n",
       "    <tr style=\"text-align: right;\">\n",
       "      <th></th>\n",
       "      <th>pet_id</th>\n",
       "      <th>issue_date</th>\n",
       "      <th>listing_date</th>\n",
       "      <th>condition</th>\n",
       "      <th>color_type</th>\n",
       "      <th>length(m)</th>\n",
       "      <th>height(cm)</th>\n",
       "      <th>X1</th>\n",
       "      <th>X2</th>\n",
       "      <th>days</th>\n",
       "      <th>total_days_stayed</th>\n",
       "      <th>breed_category</th>\n",
       "      <th>pet_category</th>\n",
       "    </tr>\n",
       "  </thead>\n",
       "  <tbody>\n",
       "    <tr>\n",
       "      <th>1764</th>\n",
       "      <td>ANSL_56038</td>\n",
       "      <td>2014-03-03</td>\n",
       "      <td>2018-03-21 18:47:00</td>\n",
       "      <td>2.0</td>\n",
       "      <td>Black</td>\n",
       "      <td>0.17</td>\n",
       "      <td>29.50</td>\n",
       "      <td>0</td>\n",
       "      <td>7</td>\n",
       "      <td>1479 days 18:47:00</td>\n",
       "      <td>1479</td>\n",
       "      <td>0</td>\n",
       "      <td>2</td>\n",
       "    </tr>\n",
       "    <tr>\n",
       "      <th>335</th>\n",
       "      <td>ANSL_71834</td>\n",
       "      <td>2018-07-25</td>\n",
       "      <td>2018-10-16 11:13:00</td>\n",
       "      <td>2.0</td>\n",
       "      <td>Black</td>\n",
       "      <td>0.46</td>\n",
       "      <td>38.21</td>\n",
       "      <td>13</td>\n",
       "      <td>9</td>\n",
       "      <td>83 days 11:13:00</td>\n",
       "      <td>83</td>\n",
       "      <td>1</td>\n",
       "      <td>1</td>\n",
       "    </tr>\n",
       "    <tr>\n",
       "      <th>2058</th>\n",
       "      <td>ANSL_66703</td>\n",
       "      <td>2014-09-16</td>\n",
       "      <td>2017-07-03 16:54:00</td>\n",
       "      <td>1.0</td>\n",
       "      <td>White</td>\n",
       "      <td>0.56</td>\n",
       "      <td>48.17</td>\n",
       "      <td>13</td>\n",
       "      <td>9</td>\n",
       "      <td>1021 days 16:54:00</td>\n",
       "      <td>1021</td>\n",
       "      <td>0</td>\n",
       "      <td>0</td>\n",
       "    </tr>\n",
       "    <tr>\n",
       "      <th>5962</th>\n",
       "      <td>ANSL_64566</td>\n",
       "      <td>2014-05-30</td>\n",
       "      <td>2017-08-30 12:35:00</td>\n",
       "      <td>0.0</td>\n",
       "      <td>Brown</td>\n",
       "      <td>0.54</td>\n",
       "      <td>19.29</td>\n",
       "      <td>0</td>\n",
       "      <td>1</td>\n",
       "      <td>1188 days 12:35:00</td>\n",
       "      <td>1188</td>\n",
       "      <td>1</td>\n",
       "      <td>2</td>\n",
       "    </tr>\n",
       "    <tr>\n",
       "      <th>4008</th>\n",
       "      <td>ANSL_58124</td>\n",
       "      <td>2016-07-01</td>\n",
       "      <td>2018-08-18 11:56:00</td>\n",
       "      <td>0.0</td>\n",
       "      <td>Black</td>\n",
       "      <td>0.10</td>\n",
       "      <td>42.56</td>\n",
       "      <td>0</td>\n",
       "      <td>1</td>\n",
       "      <td>778 days 11:56:00</td>\n",
       "      <td>778</td>\n",
       "      <td>1</td>\n",
       "      <td>2</td>\n",
       "    </tr>\n",
       "    <tr>\n",
       "      <th>...</th>\n",
       "      <td>...</td>\n",
       "      <td>...</td>\n",
       "      <td>...</td>\n",
       "      <td>...</td>\n",
       "      <td>...</td>\n",
       "      <td>...</td>\n",
       "      <td>...</td>\n",
       "      <td>...</td>\n",
       "      <td>...</td>\n",
       "      <td>...</td>\n",
       "      <td>...</td>\n",
       "      <td>...</td>\n",
       "      <td>...</td>\n",
       "    </tr>\n",
       "    <tr>\n",
       "      <th>5797</th>\n",
       "      <td>ANSL_72082</td>\n",
       "      <td>2015-06-20</td>\n",
       "      <td>2017-07-16 11:55:00</td>\n",
       "      <td>0.0</td>\n",
       "      <td>Red</td>\n",
       "      <td>0.92</td>\n",
       "      <td>32.03</td>\n",
       "      <td>13</td>\n",
       "      <td>9</td>\n",
       "      <td>757 days 11:55:00</td>\n",
       "      <td>757</td>\n",
       "      <td>1</td>\n",
       "      <td>1</td>\n",
       "    </tr>\n",
       "    <tr>\n",
       "      <th>4606</th>\n",
       "      <td>ANSL_61550</td>\n",
       "      <td>2017-10-30</td>\n",
       "      <td>2018-11-24 12:21:00</td>\n",
       "      <td>2.0</td>\n",
       "      <td>Cream</td>\n",
       "      <td>0.28</td>\n",
       "      <td>18.27</td>\n",
       "      <td>13</td>\n",
       "      <td>9</td>\n",
       "      <td>390 days 12:21:00</td>\n",
       "      <td>390</td>\n",
       "      <td>1</td>\n",
       "      <td>0</td>\n",
       "    </tr>\n",
       "    <tr>\n",
       "      <th>2772</th>\n",
       "      <td>ANSL_72957</td>\n",
       "      <td>2012-01-04</td>\n",
       "      <td>2016-09-27 08:25:00</td>\n",
       "      <td>1.0</td>\n",
       "      <td>Brown Brindle</td>\n",
       "      <td>0.65</td>\n",
       "      <td>29.95</td>\n",
       "      <td>1</td>\n",
       "      <td>4</td>\n",
       "      <td>1728 days 08:25:00</td>\n",
       "      <td>1728</td>\n",
       "      <td>0</td>\n",
       "      <td>4</td>\n",
       "    </tr>\n",
       "    <tr>\n",
       "      <th>2734</th>\n",
       "      <td>ANSL_67622</td>\n",
       "      <td>2017-06-12</td>\n",
       "      <td>2018-02-24 14:45:00</td>\n",
       "      <td>1.0</td>\n",
       "      <td>Brown Tabby</td>\n",
       "      <td>0.41</td>\n",
       "      <td>46.91</td>\n",
       "      <td>13</td>\n",
       "      <td>9</td>\n",
       "      <td>257 days 14:45:00</td>\n",
       "      <td>257</td>\n",
       "      <td>2</td>\n",
       "      <td>1</td>\n",
       "    </tr>\n",
       "    <tr>\n",
       "      <th>583</th>\n",
       "      <td>ANSL_56250</td>\n",
       "      <td>2017-05-29</td>\n",
       "      <td>2018-06-23 17:38:00</td>\n",
       "      <td>0.0</td>\n",
       "      <td>White</td>\n",
       "      <td>0.38</td>\n",
       "      <td>35.75</td>\n",
       "      <td>0</td>\n",
       "      <td>1</td>\n",
       "      <td>390 days 17:38:00</td>\n",
       "      <td>390</td>\n",
       "      <td>1</td>\n",
       "      <td>2</td>\n",
       "    </tr>\n",
       "  </tbody>\n",
       "</table>\n",
       "<p>100 rows × 13 columns</p>\n",
       "</div>"
      ],
      "text/plain": [
       "          pet_id issue_date  ... breed_category  pet_category\n",
       "1764  ANSL_56038 2014-03-03  ...              0             2\n",
       "335   ANSL_71834 2018-07-25  ...              1             1\n",
       "2058  ANSL_66703 2014-09-16  ...              0             0\n",
       "5962  ANSL_64566 2014-05-30  ...              1             2\n",
       "4008  ANSL_58124 2016-07-01  ...              1             2\n",
       "...          ...        ...  ...            ...           ...\n",
       "5797  ANSL_72082 2015-06-20  ...              1             1\n",
       "4606  ANSL_61550 2017-10-30  ...              1             0\n",
       "2772  ANSL_72957 2012-01-04  ...              0             4\n",
       "2734  ANSL_67622 2017-06-12  ...              2             1\n",
       "583   ANSL_56250 2017-05-29  ...              1             2\n",
       "\n",
       "[100 rows x 13 columns]"
      ]
     },
     "execution_count": 78,
     "metadata": {
      "tags": []
     },
     "output_type": "execute_result"
    }
   ],
   "source": [
    "test_data.loc[:,[\"pet_category\"]] = test_data.loc[:,[\"pet_category\"]].replace(3, 4)\n",
    "test_data.sample(100)"
   ]
  },
  {
   "cell_type": "code",
   "execution_count": 79,
   "metadata": {
    "colab": {
     "base_uri": "https://localhost:8080/",
     "height": 197
    },
    "colab_type": "code",
    "id": "a0E7YJtlAwoO",
    "outputId": "98dc9d75-5337-4257-9074-e372b5c6126e"
   },
   "outputs": [
    {
     "data": {
      "text/html": [
       "<div>\n",
       "<style scoped>\n",
       "    .dataframe tbody tr th:only-of-type {\n",
       "        vertical-align: middle;\n",
       "    }\n",
       "\n",
       "    .dataframe tbody tr th {\n",
       "        vertical-align: top;\n",
       "    }\n",
       "\n",
       "    .dataframe thead th {\n",
       "        text-align: right;\n",
       "    }\n",
       "</style>\n",
       "<table border=\"1\" class=\"dataframe\">\n",
       "  <thead>\n",
       "    <tr style=\"text-align: right;\">\n",
       "      <th></th>\n",
       "      <th>pet_id</th>\n",
       "      <th>breed_category</th>\n",
       "      <th>pet_category</th>\n",
       "    </tr>\n",
       "  </thead>\n",
       "  <tbody>\n",
       "    <tr>\n",
       "      <th>0</th>\n",
       "      <td>ANSL_75005</td>\n",
       "      <td>1</td>\n",
       "      <td>2</td>\n",
       "    </tr>\n",
       "    <tr>\n",
       "      <th>1</th>\n",
       "      <td>ANSL_76663</td>\n",
       "      <td>0</td>\n",
       "      <td>1</td>\n",
       "    </tr>\n",
       "    <tr>\n",
       "      <th>2</th>\n",
       "      <td>ANSL_58259</td>\n",
       "      <td>0</td>\n",
       "      <td>2</td>\n",
       "    </tr>\n",
       "    <tr>\n",
       "      <th>3</th>\n",
       "      <td>ANSL_67171</td>\n",
       "      <td>0</td>\n",
       "      <td>2</td>\n",
       "    </tr>\n",
       "    <tr>\n",
       "      <th>4</th>\n",
       "      <td>ANSL_72871</td>\n",
       "      <td>0</td>\n",
       "      <td>0</td>\n",
       "    </tr>\n",
       "  </tbody>\n",
       "</table>\n",
       "</div>"
      ],
      "text/plain": [
       "       pet_id  breed_category  pet_category\n",
       "0  ANSL_75005               1             2\n",
       "1  ANSL_76663               0             1\n",
       "2  ANSL_58259               0             2\n",
       "3  ANSL_67171               0             2\n",
       "4  ANSL_72871               0             0"
      ]
     },
     "execution_count": 79,
     "metadata": {
      "tags": []
     },
     "output_type": "execute_result"
    }
   ],
   "source": [
    "result = test_data.loc[:, [\"pet_id\", \"breed_category\", \"pet_category\"]]\n",
    "result.head()"
   ]
  },
  {
   "cell_type": "code",
   "execution_count": 80,
   "metadata": {
    "colab": {},
    "colab_type": "code",
    "id": "yaNE1dLCBtjv"
   },
   "outputs": [],
   "source": [
    "result.to_csv(\"Result.csv\")"
   ]
  },
  {
   "cell_type": "code",
   "execution_count": null,
   "metadata": {
    "colab": {},
    "colab_type": "code",
    "id": "nIoQj0S8Ck-q"
   },
   "outputs": [],
   "source": []
  }
 ],
 "metadata": {
  "accelerator": "GPU",
  "colab": {
   "collapsed_sections": [],
   "name": "Pet_adoption.ipynb",
   "provenance": []
  },
  "kernelspec": {
   "display_name": "Python 3",
   "language": "python",
   "name": "python3"
  },
  "language_info": {
   "codemirror_mode": {
    "name": "ipython",
    "version": 3
   },
   "file_extension": ".py",
   "mimetype": "text/x-python",
   "name": "python",
   "nbconvert_exporter": "python",
   "pygments_lexer": "ipython3",
   "version": "3.7.4"
  }
 },
 "nbformat": 4,
 "nbformat_minor": 1
}
