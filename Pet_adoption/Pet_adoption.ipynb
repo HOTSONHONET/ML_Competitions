{
 "cells": [
  {
   "cell_type": "code",
   "execution_count": 1,
   "metadata": {
    "colab": {},
    "colab_type": "code",
    "id": "YXmO3qKBLaSy"
   },
   "outputs": [],
   "source": [
    "from zipfile import ZipFile"
   ]
  },
  {
   "cell_type": "code",
   "execution_count": 2,
   "metadata": {
    "colab": {
     "base_uri": "https://localhost:8080/",
     "height": 34
    },
    "colab_type": "code",
    "id": "kjRe3K2dLjeB",
    "outputId": "1eafe4ff-17a0-4c63-b187-074eb6246a13"
   },
   "outputs": [
    {
     "name": "stdout",
     "output_type": "stream",
     "text": [
      "Done Extracting\n"
     ]
    }
   ],
   "source": [
    "with ZipFile(\"Data.zip\", \"r\") as file:\n",
    "  file.extractall()\n",
    "  print(\"Done Extracting\")"
   ]
  },
  {
   "cell_type": "code",
   "execution_count": 3,
   "metadata": {
    "colab": {
     "base_uri": "https://localhost:8080/",
     "height": 530
    },
    "colab_type": "code",
    "id": "dc1ij86h3DwV",
    "outputId": "a0f8d862-f6d3-4521-d05e-f946ab571cc3"
   },
   "outputs": [
    {
     "name": "stdout",
     "output_type": "stream",
     "text": [
      "Collecting keras-tuner\n",
      "\u001b[?25l  Downloading https://files.pythonhosted.org/packages/a7/f7/4b41b6832abf4c9bef71a664dc563adb25afc5812831667c6db572b1a261/keras-tuner-1.0.1.tar.gz (54kB)\n",
      "\r",
      "\u001b[K     |██████                          | 10kB 18.3MB/s eta 0:00:01\r",
      "\u001b[K     |████████████                    | 20kB 1.7MB/s eta 0:00:01\r",
      "\u001b[K     |██████████████████              | 30kB 2.3MB/s eta 0:00:01\r",
      "\u001b[K     |████████████████████████        | 40kB 2.6MB/s eta 0:00:01\r",
      "\u001b[K     |██████████████████████████████  | 51kB 2.0MB/s eta 0:00:01\r",
      "\u001b[K     |████████████████████████████████| 61kB 1.8MB/s \n",
      "\u001b[?25hRequirement already satisfied, skipping upgrade: future in /usr/local/lib/python3.6/dist-packages (from keras-tuner) (0.16.0)\n",
      "Requirement already satisfied, skipping upgrade: numpy in /usr/local/lib/python3.6/dist-packages (from keras-tuner) (1.18.5)\n",
      "Requirement already satisfied, skipping upgrade: tabulate in /usr/local/lib/python3.6/dist-packages (from keras-tuner) (0.8.7)\n",
      "Collecting terminaltables\n",
      "  Downloading https://files.pythonhosted.org/packages/9b/c4/4a21174f32f8a7e1104798c445dacdc1d4df86f2f26722767034e4de4bff/terminaltables-3.1.0.tar.gz\n",
      "Collecting colorama\n",
      "  Downloading https://files.pythonhosted.org/packages/c9/dc/45cdef1b4d119eb96316b3117e6d5708a08029992b2fee2c143c7a0a5cc5/colorama-0.4.3-py2.py3-none-any.whl\n",
      "Requirement already satisfied, skipping upgrade: tqdm in /usr/local/lib/python3.6/dist-packages (from keras-tuner) (4.41.1)\n",
      "Requirement already satisfied, skipping upgrade: requests in /usr/local/lib/python3.6/dist-packages (from keras-tuner) (2.23.0)\n",
      "Requirement already satisfied, skipping upgrade: scipy in /usr/local/lib/python3.6/dist-packages (from keras-tuner) (1.4.1)\n",
      "Requirement already satisfied, skipping upgrade: scikit-learn in /usr/local/lib/python3.6/dist-packages (from keras-tuner) (0.22.2.post1)\n",
      "Requirement already satisfied, skipping upgrade: certifi>=2017.4.17 in /usr/local/lib/python3.6/dist-packages (from requests->keras-tuner) (2020.6.20)\n",
      "Requirement already satisfied, skipping upgrade: chardet<4,>=3.0.2 in /usr/local/lib/python3.6/dist-packages (from requests->keras-tuner) (3.0.4)\n",
      "Requirement already satisfied, skipping upgrade: urllib3!=1.25.0,!=1.25.1,<1.26,>=1.21.1 in /usr/local/lib/python3.6/dist-packages (from requests->keras-tuner) (1.24.3)\n",
      "Requirement already satisfied, skipping upgrade: idna<3,>=2.5 in /usr/local/lib/python3.6/dist-packages (from requests->keras-tuner) (2.10)\n",
      "Requirement already satisfied, skipping upgrade: joblib>=0.11 in /usr/local/lib/python3.6/dist-packages (from scikit-learn->keras-tuner) (0.16.0)\n",
      "Building wheels for collected packages: keras-tuner, terminaltables\n",
      "  Building wheel for keras-tuner (setup.py) ... \u001b[?25l\u001b[?25hdone\n",
      "  Created wheel for keras-tuner: filename=keras_tuner-1.0.1-cp36-none-any.whl size=73200 sha256=a360207dbf37e86a40001edc6bfddfbebed15d7e2e36cece8690a5da000f985d\n",
      "  Stored in directory: /root/.cache/pip/wheels/b9/cc/62/52716b70dd90f3db12519233c3a93a5360bc672da1a10ded43\n",
      "  Building wheel for terminaltables (setup.py) ... \u001b[?25l\u001b[?25hdone\n",
      "  Created wheel for terminaltables: filename=terminaltables-3.1.0-cp36-none-any.whl size=15356 sha256=abdeb08809d8602e93c573506b4bca91759cba45d4e72bb5d1fa9fda467dfaaf\n",
      "  Stored in directory: /root/.cache/pip/wheels/30/6b/50/6c75775b681fb36cdfac7f19799888ef9d8813aff9e379663e\n",
      "Successfully built keras-tuner terminaltables\n",
      "Installing collected packages: terminaltables, colorama, keras-tuner\n",
      "Successfully installed colorama-0.4.3 keras-tuner-1.0.1 terminaltables-3.1.0\n"
     ]
    }
   ],
   "source": [
    "!pip install -U keras-tuner"
   ]
  },
  {
   "cell_type": "code",
   "execution_count": 7,
   "metadata": {
    "colab": {},
    "colab_type": "code",
    "id": "biON_dFGLmYW"
   },
   "outputs": [],
   "source": [
    "import pandas as pd\n",
    "import numpy as np\n",
    "from tensorflow.keras.models import Sequential\n",
    "from tensorflow.keras.layers import Dense, Activation\n",
    "from tensorflow.keras.utils import to_categorical\n",
    "import matplotlib.pyplot as plt\n",
    "from imblearn.over_sampling import SMOTE\n",
    "from tensorflow.keras.optimizers import Adam\n",
    "from sklearn.model_selection import train_test_split\n",
    "from sklearn.metrics import classification_report, confusion_matrix\n",
    "\n",
    "from kerastuner.tuners import RandomSearch\n",
    "from kerastuner.engine.hyperparameters import HyperParameters\n",
    "import time\n",
    "\n",
    "LOG_DIR_pet = f\"pet {int(time.time())}\"\n",
    "LOG_DIR_breed = f\"breed {int(time.time())}\"\n",
    "\n",
    "%matplotlib inline\n"
   ]
  },
  {
   "cell_type": "code",
   "execution_count": 8,
   "metadata": {
    "colab": {
     "base_uri": "https://localhost:8080/",
     "height": 204
    },
    "colab_type": "code",
    "id": "MbJqCSp8MBkw",
    "outputId": "392dfd2c-3d2b-4156-ce8f-995e6bd821c5"
   },
   "outputs": [
    {
     "data": {
      "text/html": [
       "<div>\n",
       "<style scoped>\n",
       "    .dataframe tbody tr th:only-of-type {\n",
       "        vertical-align: middle;\n",
       "    }\n",
       "\n",
       "    .dataframe tbody tr th {\n",
       "        vertical-align: top;\n",
       "    }\n",
       "\n",
       "    .dataframe thead th {\n",
       "        text-align: right;\n",
       "    }\n",
       "</style>\n",
       "<table border=\"1\" class=\"dataframe\">\n",
       "  <thead>\n",
       "    <tr style=\"text-align: right;\">\n",
       "      <th></th>\n",
       "      <th>pet_id</th>\n",
       "      <th>issue_date</th>\n",
       "      <th>listing_date</th>\n",
       "      <th>condition</th>\n",
       "      <th>color_type</th>\n",
       "      <th>length(m)</th>\n",
       "      <th>height(cm)</th>\n",
       "      <th>X1</th>\n",
       "      <th>X2</th>\n",
       "      <th>breed_category</th>\n",
       "      <th>pet_category</th>\n",
       "    </tr>\n",
       "  </thead>\n",
       "  <tbody>\n",
       "    <tr>\n",
       "      <th>0</th>\n",
       "      <td>ANSL_69903</td>\n",
       "      <td>2016-07-10 00:00:00</td>\n",
       "      <td>2016-09-21 16:25:00</td>\n",
       "      <td>2.0</td>\n",
       "      <td>Brown Tabby</td>\n",
       "      <td>0.80</td>\n",
       "      <td>7.78</td>\n",
       "      <td>13</td>\n",
       "      <td>9</td>\n",
       "      <td>0.0</td>\n",
       "      <td>1</td>\n",
       "    </tr>\n",
       "    <tr>\n",
       "      <th>1</th>\n",
       "      <td>ANSL_66892</td>\n",
       "      <td>2013-11-21 00:00:00</td>\n",
       "      <td>2018-12-27 17:47:00</td>\n",
       "      <td>1.0</td>\n",
       "      <td>White</td>\n",
       "      <td>0.72</td>\n",
       "      <td>14.19</td>\n",
       "      <td>13</td>\n",
       "      <td>9</td>\n",
       "      <td>0.0</td>\n",
       "      <td>2</td>\n",
       "    </tr>\n",
       "    <tr>\n",
       "      <th>2</th>\n",
       "      <td>ANSL_69750</td>\n",
       "      <td>2014-09-28 00:00:00</td>\n",
       "      <td>2016-10-19 08:24:00</td>\n",
       "      <td>NaN</td>\n",
       "      <td>Brown</td>\n",
       "      <td>0.15</td>\n",
       "      <td>40.90</td>\n",
       "      <td>15</td>\n",
       "      <td>4</td>\n",
       "      <td>2.0</td>\n",
       "      <td>4</td>\n",
       "    </tr>\n",
       "    <tr>\n",
       "      <th>3</th>\n",
       "      <td>ANSL_71623</td>\n",
       "      <td>2016-12-31 00:00:00</td>\n",
       "      <td>2019-01-25 18:30:00</td>\n",
       "      <td>1.0</td>\n",
       "      <td>White</td>\n",
       "      <td>0.62</td>\n",
       "      <td>17.82</td>\n",
       "      <td>0</td>\n",
       "      <td>1</td>\n",
       "      <td>0.0</td>\n",
       "      <td>2</td>\n",
       "    </tr>\n",
       "    <tr>\n",
       "      <th>4</th>\n",
       "      <td>ANSL_57969</td>\n",
       "      <td>2017-09-28 00:00:00</td>\n",
       "      <td>2017-11-19 09:38:00</td>\n",
       "      <td>2.0</td>\n",
       "      <td>Black</td>\n",
       "      <td>0.50</td>\n",
       "      <td>11.06</td>\n",
       "      <td>18</td>\n",
       "      <td>4</td>\n",
       "      <td>0.0</td>\n",
       "      <td>1</td>\n",
       "    </tr>\n",
       "  </tbody>\n",
       "</table>\n",
       "</div>"
      ],
      "text/plain": [
       "       pet_id           issue_date  ... breed_category  pet_category\n",
       "0  ANSL_69903  2016-07-10 00:00:00  ...            0.0             1\n",
       "1  ANSL_66892  2013-11-21 00:00:00  ...            0.0             2\n",
       "2  ANSL_69750  2014-09-28 00:00:00  ...            2.0             4\n",
       "3  ANSL_71623  2016-12-31 00:00:00  ...            0.0             2\n",
       "4  ANSL_57969  2017-09-28 00:00:00  ...            0.0             1\n",
       "\n",
       "[5 rows x 11 columns]"
      ]
     },
     "execution_count": 8,
     "metadata": {
      "tags": []
     },
     "output_type": "execute_result"
    }
   ],
   "source": [
    "train_data = pd.read_csv(\"Dataset/train.csv\")\n",
    "train_data.head()"
   ]
  },
  {
   "cell_type": "code",
   "execution_count": 9,
   "metadata": {
    "colab": {
     "base_uri": "https://localhost:8080/",
     "height": 323
    },
    "colab_type": "code",
    "id": "9ZDuekIuMNaj",
    "outputId": "b4b59f44-ebe9-473a-c9db-4c6fa5e0bad7"
   },
   "outputs": [
    {
     "name": "stdout",
     "output_type": "stream",
     "text": [
      "<class 'pandas.core.frame.DataFrame'>\n",
      "RangeIndex: 18834 entries, 0 to 18833\n",
      "Data columns (total 11 columns):\n",
      " #   Column          Non-Null Count  Dtype  \n",
      "---  ------          --------------  -----  \n",
      " 0   pet_id          18834 non-null  object \n",
      " 1   issue_date      18834 non-null  object \n",
      " 2   listing_date    18834 non-null  object \n",
      " 3   condition       18834 non-null  float64\n",
      " 4   color_type      18834 non-null  object \n",
      " 5   length(m)       18834 non-null  float64\n",
      " 6   height(cm)      18834 non-null  float64\n",
      " 7   X1              18834 non-null  int64  \n",
      " 8   X2              18834 non-null  int64  \n",
      " 9   breed_category  18834 non-null  float64\n",
      " 10  pet_category    18834 non-null  int64  \n",
      "dtypes: float64(4), int64(3), object(4)\n",
      "memory usage: 1.6+ MB\n"
     ]
    }
   ],
   "source": [
    "nan_miss = train_data.condition.mode()\n",
    "train_data.fillna(train_data.condition.mean(), inplace =True)\n",
    "train_data.info()"
   ]
  },
  {
   "cell_type": "markdown",
   "metadata": {
    "colab_type": "text",
    "id": "YNnB0hxeBR3D"
   },
   "source": [
    "##Adding No. of Days"
   ]
  },
  {
   "cell_type": "code",
   "execution_count": 10,
   "metadata": {
    "colab": {
     "base_uri": "https://localhost:8080/",
     "height": 204
    },
    "colab_type": "code",
    "id": "Q0sTyYQsBVrd",
    "outputId": "ab952eb1-caaf-48df-9b21-26cc734f0543"
   },
   "outputs": [
    {
     "data": {
      "text/html": [
       "<div>\n",
       "<style scoped>\n",
       "    .dataframe tbody tr th:only-of-type {\n",
       "        vertical-align: middle;\n",
       "    }\n",
       "\n",
       "    .dataframe tbody tr th {\n",
       "        vertical-align: top;\n",
       "    }\n",
       "\n",
       "    .dataframe thead th {\n",
       "        text-align: right;\n",
       "    }\n",
       "</style>\n",
       "<table border=\"1\" class=\"dataframe\">\n",
       "  <thead>\n",
       "    <tr style=\"text-align: right;\">\n",
       "      <th></th>\n",
       "      <th>pet_id</th>\n",
       "      <th>issue_date</th>\n",
       "      <th>listing_date</th>\n",
       "      <th>condition</th>\n",
       "      <th>color_type</th>\n",
       "      <th>length(m)</th>\n",
       "      <th>height(cm)</th>\n",
       "      <th>X1</th>\n",
       "      <th>X2</th>\n",
       "      <th>breed_category</th>\n",
       "      <th>pet_category</th>\n",
       "      <th>days</th>\n",
       "    </tr>\n",
       "  </thead>\n",
       "  <tbody>\n",
       "    <tr>\n",
       "      <th>0</th>\n",
       "      <td>ANSL_69903</td>\n",
       "      <td>2016-07-10</td>\n",
       "      <td>2016-09-21 16:25:00</td>\n",
       "      <td>2.00000</td>\n",
       "      <td>Brown Tabby</td>\n",
       "      <td>0.80</td>\n",
       "      <td>7.78</td>\n",
       "      <td>13</td>\n",
       "      <td>9</td>\n",
       "      <td>0.0</td>\n",
       "      <td>1</td>\n",
       "      <td>73</td>\n",
       "    </tr>\n",
       "    <tr>\n",
       "      <th>1</th>\n",
       "      <td>ANSL_66892</td>\n",
       "      <td>2013-11-21</td>\n",
       "      <td>2018-12-27 17:47:00</td>\n",
       "      <td>1.00000</td>\n",
       "      <td>White</td>\n",
       "      <td>0.72</td>\n",
       "      <td>14.19</td>\n",
       "      <td>13</td>\n",
       "      <td>9</td>\n",
       "      <td>0.0</td>\n",
       "      <td>2</td>\n",
       "      <td>1862</td>\n",
       "    </tr>\n",
       "    <tr>\n",
       "      <th>2</th>\n",
       "      <td>ANSL_69750</td>\n",
       "      <td>2014-09-28</td>\n",
       "      <td>2016-10-19 08:24:00</td>\n",
       "      <td>0.88339</td>\n",
       "      <td>Brown</td>\n",
       "      <td>0.15</td>\n",
       "      <td>40.90</td>\n",
       "      <td>15</td>\n",
       "      <td>4</td>\n",
       "      <td>2.0</td>\n",
       "      <td>4</td>\n",
       "      <td>752</td>\n",
       "    </tr>\n",
       "    <tr>\n",
       "      <th>3</th>\n",
       "      <td>ANSL_71623</td>\n",
       "      <td>2016-12-31</td>\n",
       "      <td>2019-01-25 18:30:00</td>\n",
       "      <td>1.00000</td>\n",
       "      <td>White</td>\n",
       "      <td>0.62</td>\n",
       "      <td>17.82</td>\n",
       "      <td>0</td>\n",
       "      <td>1</td>\n",
       "      <td>0.0</td>\n",
       "      <td>2</td>\n",
       "      <td>755</td>\n",
       "    </tr>\n",
       "    <tr>\n",
       "      <th>4</th>\n",
       "      <td>ANSL_57969</td>\n",
       "      <td>2017-09-28</td>\n",
       "      <td>2017-11-19 09:38:00</td>\n",
       "      <td>2.00000</td>\n",
       "      <td>Black</td>\n",
       "      <td>0.50</td>\n",
       "      <td>11.06</td>\n",
       "      <td>18</td>\n",
       "      <td>4</td>\n",
       "      <td>0.0</td>\n",
       "      <td>1</td>\n",
       "      <td>52</td>\n",
       "    </tr>\n",
       "  </tbody>\n",
       "</table>\n",
       "</div>"
      ],
      "text/plain": [
       "       pet_id issue_date  ... pet_category  days\n",
       "0  ANSL_69903 2016-07-10  ...            1    73\n",
       "1  ANSL_66892 2013-11-21  ...            2  1862\n",
       "2  ANSL_69750 2014-09-28  ...            4   752\n",
       "3  ANSL_71623 2016-12-31  ...            2   755\n",
       "4  ANSL_57969 2017-09-28  ...            1    52\n",
       "\n",
       "[5 rows x 12 columns]"
      ]
     },
     "execution_count": 10,
     "metadata": {
      "tags": []
     },
     "output_type": "execute_result"
    }
   ],
   "source": [
    "train_data[\"issue_date\"]=pd.to_datetime(train_data[\"issue_date\"],format='%Y-%m-%d')\n",
    "train_data[\"listing_date\"]=pd.to_datetime(train_data[\"listing_date\"],format='%Y-%m-%d')\n",
    "train_data[\"days\"] = (train_data[\"listing_date\"] - train_data[\"issue_date\"]).dt.days\n",
    "train_data.head()"
   ]
  },
  {
   "cell_type": "code",
   "execution_count": 12,
   "metadata": {
    "colab": {
     "base_uri": "https://localhost:8080/",
     "height": 204
    },
    "colab_type": "code",
    "id": "QFmGP4HkCFmR",
    "outputId": "61c7ef9e-cfa8-4d47-9274-fea1dff73ed6"
   },
   "outputs": [
    {
     "data": {
      "text/html": [
       "<div>\n",
       "<style scoped>\n",
       "    .dataframe tbody tr th:only-of-type {\n",
       "        vertical-align: middle;\n",
       "    }\n",
       "\n",
       "    .dataframe tbody tr th {\n",
       "        vertical-align: top;\n",
       "    }\n",
       "\n",
       "    .dataframe thead th {\n",
       "        text-align: right;\n",
       "    }\n",
       "</style>\n",
       "<table border=\"1\" class=\"dataframe\">\n",
       "  <thead>\n",
       "    <tr style=\"text-align: right;\">\n",
       "      <th></th>\n",
       "      <th>pet_id</th>\n",
       "      <th>issue_date</th>\n",
       "      <th>listing_date</th>\n",
       "      <th>condition</th>\n",
       "      <th>color_type</th>\n",
       "      <th>length(m)</th>\n",
       "      <th>height(cm)</th>\n",
       "      <th>X1</th>\n",
       "      <th>X2</th>\n",
       "      <th>days</th>\n",
       "      <th>breed_category</th>\n",
       "      <th>pet_category</th>\n",
       "    </tr>\n",
       "  </thead>\n",
       "  <tbody>\n",
       "    <tr>\n",
       "      <th>0</th>\n",
       "      <td>ANSL_69903</td>\n",
       "      <td>2016-07-10</td>\n",
       "      <td>2016-09-21 16:25:00</td>\n",
       "      <td>2.00000</td>\n",
       "      <td>Brown Tabby</td>\n",
       "      <td>0.80</td>\n",
       "      <td>7.78</td>\n",
       "      <td>13</td>\n",
       "      <td>9</td>\n",
       "      <td>73</td>\n",
       "      <td>0.0</td>\n",
       "      <td>1</td>\n",
       "    </tr>\n",
       "    <tr>\n",
       "      <th>1</th>\n",
       "      <td>ANSL_66892</td>\n",
       "      <td>2013-11-21</td>\n",
       "      <td>2018-12-27 17:47:00</td>\n",
       "      <td>1.00000</td>\n",
       "      <td>White</td>\n",
       "      <td>0.72</td>\n",
       "      <td>14.19</td>\n",
       "      <td>13</td>\n",
       "      <td>9</td>\n",
       "      <td>1862</td>\n",
       "      <td>0.0</td>\n",
       "      <td>2</td>\n",
       "    </tr>\n",
       "    <tr>\n",
       "      <th>2</th>\n",
       "      <td>ANSL_69750</td>\n",
       "      <td>2014-09-28</td>\n",
       "      <td>2016-10-19 08:24:00</td>\n",
       "      <td>0.88339</td>\n",
       "      <td>Brown</td>\n",
       "      <td>0.15</td>\n",
       "      <td>40.90</td>\n",
       "      <td>15</td>\n",
       "      <td>4</td>\n",
       "      <td>752</td>\n",
       "      <td>2.0</td>\n",
       "      <td>4</td>\n",
       "    </tr>\n",
       "    <tr>\n",
       "      <th>3</th>\n",
       "      <td>ANSL_71623</td>\n",
       "      <td>2016-12-31</td>\n",
       "      <td>2019-01-25 18:30:00</td>\n",
       "      <td>1.00000</td>\n",
       "      <td>White</td>\n",
       "      <td>0.62</td>\n",
       "      <td>17.82</td>\n",
       "      <td>0</td>\n",
       "      <td>1</td>\n",
       "      <td>755</td>\n",
       "      <td>0.0</td>\n",
       "      <td>2</td>\n",
       "    </tr>\n",
       "    <tr>\n",
       "      <th>4</th>\n",
       "      <td>ANSL_57969</td>\n",
       "      <td>2017-09-28</td>\n",
       "      <td>2017-11-19 09:38:00</td>\n",
       "      <td>2.00000</td>\n",
       "      <td>Black</td>\n",
       "      <td>0.50</td>\n",
       "      <td>11.06</td>\n",
       "      <td>18</td>\n",
       "      <td>4</td>\n",
       "      <td>52</td>\n",
       "      <td>0.0</td>\n",
       "      <td>1</td>\n",
       "    </tr>\n",
       "  </tbody>\n",
       "</table>\n",
       "</div>"
      ],
      "text/plain": [
       "       pet_id issue_date  ... breed_category  pet_category\n",
       "0  ANSL_69903 2016-07-10  ...            0.0             1\n",
       "1  ANSL_66892 2013-11-21  ...            0.0             2\n",
       "2  ANSL_69750 2014-09-28  ...            2.0             4\n",
       "3  ANSL_71623 2016-12-31  ...            0.0             2\n",
       "4  ANSL_57969 2017-09-28  ...            0.0             1\n",
       "\n",
       "[5 rows x 12 columns]"
      ]
     },
     "execution_count": 12,
     "metadata": {
      "tags": []
     },
     "output_type": "execute_result"
    }
   ],
   "source": [
    "train_data = train_data[[\"pet_id\",\"issue_date\",\"listing_date\",\"condition\",\"color_type\",\"length(m)\",\"height(cm)\",\"X1\",\"X2\",\"days\",\"breed_category\",\"pet_category\"]]\n",
    "train_data.head()"
   ]
  },
  {
   "cell_type": "markdown",
   "metadata": {
    "colab_type": "text",
    "id": "XkuTE1zsSkXn"
   },
   "source": [
    "##Encoding color_type"
   ]
  },
  {
   "cell_type": "code",
   "execution_count": 13,
   "metadata": {
    "colab": {
     "base_uri": "https://localhost:8080/",
     "height": 204
    },
    "colab_type": "code",
    "id": "8r10CSj8M2xL",
    "outputId": "1a6ef0a4-931c-4b1d-f0e1-9a731b55f409"
   },
   "outputs": [
    {
     "data": {
      "text/html": [
       "<div>\n",
       "<style scoped>\n",
       "    .dataframe tbody tr th:only-of-type {\n",
       "        vertical-align: middle;\n",
       "    }\n",
       "\n",
       "    .dataframe tbody tr th {\n",
       "        vertical-align: top;\n",
       "    }\n",
       "\n",
       "    .dataframe thead th {\n",
       "        text-align: right;\n",
       "    }\n",
       "</style>\n",
       "<table border=\"1\" class=\"dataframe\">\n",
       "  <thead>\n",
       "    <tr style=\"text-align: right;\">\n",
       "      <th></th>\n",
       "      <th>pet_id</th>\n",
       "      <th>issue_date</th>\n",
       "      <th>listing_date</th>\n",
       "      <th>condition</th>\n",
       "      <th>color_type</th>\n",
       "      <th>length(m)</th>\n",
       "      <th>height(cm)</th>\n",
       "      <th>X1</th>\n",
       "      <th>X2</th>\n",
       "      <th>days</th>\n",
       "      <th>breed_category</th>\n",
       "      <th>pet_category</th>\n",
       "    </tr>\n",
       "  </thead>\n",
       "  <tbody>\n",
       "    <tr>\n",
       "      <th>0</th>\n",
       "      <td>ANSL_69903</td>\n",
       "      <td>2016-07-10</td>\n",
       "      <td>2016-09-21 16:25:00</td>\n",
       "      <td>2.00000</td>\n",
       "      <td>18</td>\n",
       "      <td>0.80</td>\n",
       "      <td>7.78</td>\n",
       "      <td>13</td>\n",
       "      <td>9</td>\n",
       "      <td>73</td>\n",
       "      <td>0.0</td>\n",
       "      <td>1</td>\n",
       "    </tr>\n",
       "    <tr>\n",
       "      <th>1</th>\n",
       "      <td>ANSL_66892</td>\n",
       "      <td>2013-11-21</td>\n",
       "      <td>2018-12-27 17:47:00</td>\n",
       "      <td>1.00000</td>\n",
       "      <td>53</td>\n",
       "      <td>0.72</td>\n",
       "      <td>14.19</td>\n",
       "      <td>13</td>\n",
       "      <td>9</td>\n",
       "      <td>1862</td>\n",
       "      <td>0.0</td>\n",
       "      <td>2</td>\n",
       "    </tr>\n",
       "    <tr>\n",
       "      <th>2</th>\n",
       "      <td>ANSL_69750</td>\n",
       "      <td>2014-09-28</td>\n",
       "      <td>2016-10-19 08:24:00</td>\n",
       "      <td>0.88339</td>\n",
       "      <td>15</td>\n",
       "      <td>0.15</td>\n",
       "      <td>40.90</td>\n",
       "      <td>15</td>\n",
       "      <td>4</td>\n",
       "      <td>752</td>\n",
       "      <td>2.0</td>\n",
       "      <td>4</td>\n",
       "    </tr>\n",
       "    <tr>\n",
       "      <th>3</th>\n",
       "      <td>ANSL_71623</td>\n",
       "      <td>2016-12-31</td>\n",
       "      <td>2019-01-25 18:30:00</td>\n",
       "      <td>1.00000</td>\n",
       "      <td>53</td>\n",
       "      <td>0.62</td>\n",
       "      <td>17.82</td>\n",
       "      <td>0</td>\n",
       "      <td>1</td>\n",
       "      <td>755</td>\n",
       "      <td>0.0</td>\n",
       "      <td>2</td>\n",
       "    </tr>\n",
       "    <tr>\n",
       "      <th>4</th>\n",
       "      <td>ANSL_57969</td>\n",
       "      <td>2017-09-28</td>\n",
       "      <td>2017-11-19 09:38:00</td>\n",
       "      <td>2.00000</td>\n",
       "      <td>2</td>\n",
       "      <td>0.50</td>\n",
       "      <td>11.06</td>\n",
       "      <td>18</td>\n",
       "      <td>4</td>\n",
       "      <td>52</td>\n",
       "      <td>0.0</td>\n",
       "      <td>1</td>\n",
       "    </tr>\n",
       "  </tbody>\n",
       "</table>\n",
       "</div>"
      ],
      "text/plain": [
       "       pet_id issue_date  ... breed_category  pet_category\n",
       "0  ANSL_69903 2016-07-10  ...            0.0             1\n",
       "1  ANSL_66892 2013-11-21  ...            0.0             2\n",
       "2  ANSL_69750 2014-09-28  ...            2.0             4\n",
       "3  ANSL_71623 2016-12-31  ...            0.0             2\n",
       "4  ANSL_57969 2017-09-28  ...            0.0             1\n",
       "\n",
       "[5 rows x 12 columns]"
      ]
     },
     "execution_count": 13,
     "metadata": {
      "tags": []
     },
     "output_type": "execute_result"
    }
   ],
   "source": [
    "from sklearn.preprocessing import LabelEncoder\n",
    "le = LabelEncoder()\n",
    "train_data[\"color_type\"] = le.fit_transform(train_data.color_type.to_list())\n",
    "train_data.head()"
   ]
  },
  {
   "cell_type": "markdown",
   "metadata": {
    "colab_type": "text",
    "id": "tOL1LufhW7oR"
   },
   "source": [
    "##Heatmap"
   ]
  },
  {
   "cell_type": "code",
   "execution_count": 14,
   "metadata": {
    "colab": {
     "base_uri": "https://localhost:8080/",
     "height": 517
    },
    "colab_type": "code",
    "id": "tyxOoiH_W6ht",
    "outputId": "94191e11-0a24-4fee-e5f9-0c157c6e38e7"
   },
   "outputs": [
    {
     "name": "stderr",
     "output_type": "stream",
     "text": [
      "/usr/local/lib/python3.6/dist-packages/statsmodels/tools/_testing.py:19: FutureWarning: pandas.util.testing is deprecated. Use the functions in the public API at pandas.testing instead.\n",
      "  import pandas.util.testing as tm\n"
     ]
    },
    {
     "data": {
      "text/plain": [
       "<matplotlib.axes._subplots.AxesSubplot at 0x7fbc5bb3fd68>"
      ]
     },
     "execution_count": 14,
     "metadata": {
      "tags": []
     },
     "output_type": "execute_result"
    },
    {
     "data": {
      "image/png": "[encoded data removed]",
      "text/plain": [
       "<Figure size 720x432 with 2 Axes>"
      ]
     },
     "metadata": {
      "needs_background": "light",
      "tags": []
     },
     "output_type": "display_data"
    }
   ],
   "source": [
    "import seaborn as sns\n",
    "_, ax = plt.subplots(figsize = (10, 6))\n",
    "sns.heatmap(train_data.corr(), annot= True,  ax = ax)"
   ]
  },
  {
   "cell_type": "markdown",
   "metadata": {
    "colab_type": "text",
    "id": "bqYHwCSUSfF3"
   },
   "source": [
    "##Selecting features and labels"
   ]
  },
  {
   "cell_type": "code",
   "execution_count": 15,
   "metadata": {
    "colab": {
     "base_uri": "https://localhost:8080/",
     "height": 204
    },
    "colab_type": "code",
    "id": "DL1DK6xoQ1qv",
    "outputId": "a0daa54c-c725-43ed-8463-fdb090c17cdf"
   },
   "outputs": [
    {
     "data": {
      "text/html": [
       "<div>\n",
       "<style scoped>\n",
       "    .dataframe tbody tr th:only-of-type {\n",
       "        vertical-align: middle;\n",
       "    }\n",
       "\n",
       "    .dataframe tbody tr th {\n",
       "        vertical-align: top;\n",
       "    }\n",
       "\n",
       "    .dataframe thead th {\n",
       "        text-align: right;\n",
       "    }\n",
       "</style>\n",
       "<table border=\"1\" class=\"dataframe\">\n",
       "  <thead>\n",
       "    <tr style=\"text-align: right;\">\n",
       "      <th></th>\n",
       "      <th>condition</th>\n",
       "      <th>color_type</th>\n",
       "      <th>X1</th>\n",
       "      <th>days</th>\n",
       "    </tr>\n",
       "  </thead>\n",
       "  <tbody>\n",
       "    <tr>\n",
       "      <th>0</th>\n",
       "      <td>2.00000</td>\n",
       "      <td>18.0</td>\n",
       "      <td>13.0</td>\n",
       "      <td>73.0</td>\n",
       "    </tr>\n",
       "    <tr>\n",
       "      <th>1</th>\n",
       "      <td>1.00000</td>\n",
       "      <td>53.0</td>\n",
       "      <td>13.0</td>\n",
       "      <td>1862.0</td>\n",
       "    </tr>\n",
       "    <tr>\n",
       "      <th>2</th>\n",
       "      <td>0.88339</td>\n",
       "      <td>15.0</td>\n",
       "      <td>15.0</td>\n",
       "      <td>752.0</td>\n",
       "    </tr>\n",
       "    <tr>\n",
       "      <th>3</th>\n",
       "      <td>1.00000</td>\n",
       "      <td>53.0</td>\n",
       "      <td>0.0</td>\n",
       "      <td>755.0</td>\n",
       "    </tr>\n",
       "    <tr>\n",
       "      <th>4</th>\n",
       "      <td>2.00000</td>\n",
       "      <td>2.0</td>\n",
       "      <td>18.0</td>\n",
       "      <td>52.0</td>\n",
       "    </tr>\n",
       "  </tbody>\n",
       "</table>\n",
       "</div>"
      ],
      "text/plain": [
       "   condition  color_type    X1    days\n",
       "0    2.00000        18.0  13.0    73.0\n",
       "1    1.00000        53.0  13.0  1862.0\n",
       "2    0.88339        15.0  15.0   752.0\n",
       "3    1.00000        53.0   0.0   755.0\n",
       "4    2.00000         2.0  18.0    52.0"
      ]
     },
     "execution_count": 15,
     "metadata": {
      "tags": []
     },
     "output_type": "execute_result"
    }
   ],
   "source": [
    "features = train_data.drop(['pet_id',\"issue_date\", \"listing_date\", \"breed_category\",\"pet_category\"], axis = 1)\n",
    "for col in features.columns.tolist():\n",
    "  features[col] = pd.to_numeric(features[col], downcast = \"float\")\n",
    "labels = train_data.iloc[:,-2:]\n",
    "features.head()"
   ]
  },
  {
   "cell_type": "code",
   "execution_count": 16,
   "metadata": {
    "colab": {
     "base_uri": "https://localhost:8080/",
     "height": 204
    },
    "colab_type": "code",
    "id": "F9evmV9zRSYC",
    "outputId": "fe884fb6-79d9-4544-f098-0818bed08c09"
   },
   "outputs": [
    {
     "data": {
      "text/html": [
       "<div>\n",
       "<style scoped>\n",
       "    .dataframe tbody tr th:only-of-type {\n",
       "        vertical-align: middle;\n",
       "    }\n",
       "\n",
       "    .dataframe tbody tr th {\n",
       "        vertical-align: top;\n",
       "    }\n",
       "\n",
       "    .dataframe thead th {\n",
       "        text-align: right;\n",
       "    }\n",
       "</style>\n",
       "<table border=\"1\" class=\"dataframe\">\n",
       "  <thead>\n",
       "    <tr style=\"text-align: right;\">\n",
       "      <th></th>\n",
       "      <th>breed_category</th>\n",
       "      <th>pet_category</th>\n",
       "    </tr>\n",
       "  </thead>\n",
       "  <tbody>\n",
       "    <tr>\n",
       "      <th>0</th>\n",
       "      <td>0.0</td>\n",
       "      <td>1.0</td>\n",
       "    </tr>\n",
       "    <tr>\n",
       "      <th>1</th>\n",
       "      <td>0.0</td>\n",
       "      <td>2.0</td>\n",
       "    </tr>\n",
       "    <tr>\n",
       "      <th>2</th>\n",
       "      <td>2.0</td>\n",
       "      <td>4.0</td>\n",
       "    </tr>\n",
       "    <tr>\n",
       "      <th>3</th>\n",
       "      <td>0.0</td>\n",
       "      <td>2.0</td>\n",
       "    </tr>\n",
       "    <tr>\n",
       "      <th>4</th>\n",
       "      <td>0.0</td>\n",
       "      <td>1.0</td>\n",
       "    </tr>\n",
       "  </tbody>\n",
       "</table>\n",
       "</div>"
      ],
      "text/plain": [
       "   breed_category  pet_category\n",
       "0             0.0           1.0\n",
       "1             0.0           2.0\n",
       "2             2.0           4.0\n",
       "3             0.0           2.0\n",
       "4             0.0           1.0"
      ]
     },
     "execution_count": 16,
     "metadata": {
      "tags": []
     },
     "output_type": "execute_result"
    }
   ],
   "source": [
    "labels[\"pet_category\"] = pd.to_numeric(labels[\"pet_category\"], downcast = \"float\")\n",
    "labels.head()"
   ]
  },
  {
   "cell_type": "code",
   "execution_count": 17,
   "metadata": {
    "colab": {},
    "colab_type": "code",
    "id": "sOQrSl4pYKyP"
   },
   "outputs": [],
   "source": [
    "breed_label = labels.breed_category\n",
    "pet_label = labels.pet_category"
   ]
  },
  {
   "cell_type": "markdown",
   "metadata": {
    "colab_type": "text",
    "id": "tdvevKZGSapz"
   },
   "source": [
    "##STANDARIZING FEATURES"
   ]
  },
  {
   "cell_type": "code",
   "execution_count": 18,
   "metadata": {
    "colab": {
     "base_uri": "https://localhost:8080/",
     "height": 153
    },
    "colab_type": "code",
    "id": "A2G86f8hQXSK",
    "outputId": "695e537c-8895-41a3-ac8b-1e405266df9d"
   },
   "outputs": [
    {
     "data": {
      "text/plain": [
       "array([[ 1.5097756e+00, -3.3762348e-01,  1.1610134e+00, -7.1336317e-01],\n",
       "       [ 1.5766916e-01,  1.4635761e+00,  1.1610134e+00,  9.1797477e-01],\n",
       "       [ 2.8228962e-08, -4.9201202e-01,  1.4653258e+00, -9.4202504e-02],\n",
       "       ...,\n",
       "       [-1.1944374e+00, -1.3177210e-01,  1.1610134e+00,  1.9137383e+00],\n",
       "       [-1.1944374e+00,  1.2062619e+00,  1.1610134e+00, -5.3190076e-01],\n",
       "       [-1.1944374e+00, -4.9201202e-01, -8.1701779e-01,  1.5079556e+00]],\n",
       "      dtype=float32)"
      ]
     },
     "execution_count": 18,
     "metadata": {
      "tags": []
     },
     "output_type": "execute_result"
    }
   ],
   "source": [
    "from sklearn.preprocessing import StandardScaler\n",
    "ss = StandardScaler()\n",
    "features = ss.fit_transform(features)\n",
    "features"
   ]
  },
  {
   "cell_type": "code",
   "execution_count": 19,
   "metadata": {
    "colab": {
     "base_uri": "https://localhost:8080/",
     "height": 34
    },
    "colab_type": "code",
    "id": "EA6i5fwRfymT",
    "outputId": "838fa076-c0fc-4813-d560-24fe4aea3249"
   },
   "outputs": [
    {
     "data": {
      "text/plain": [
       "(18834, 4)"
      ]
     },
     "execution_count": 19,
     "metadata": {
      "tags": []
     },
     "output_type": "execute_result"
    }
   ],
   "source": [
    "features.shape"
   ]
  },
  {
   "cell_type": "markdown",
   "metadata": {
    "colab_type": "text",
    "id": "sGKlstryYgAx"
   },
   "source": []
  },
  {
   "cell_type": "markdown",
   "metadata": {
    "colab_type": "text",
    "id": "u2RFaQFlYghh"
   },
   "source": [
    "##One hot Encoding the labels\n"
   ]
  },
  {
   "cell_type": "code",
   "execution_count": 46,
   "metadata": {
    "colab": {
     "base_uri": "https://localhost:8080/",
     "height": 221
    },
    "colab_type": "code",
    "id": "ESCKWVtpYgKw",
    "outputId": "e810f4c0-6467-41d2-f4de-48b7f70aa379"
   },
   "outputs": [
    {
     "data": {
      "text/plain": [
       "0        1.0\n",
       "1        2.0\n",
       "2        3.0\n",
       "3        2.0\n",
       "4        1.0\n",
       "        ... \n",
       "18829    2.0\n",
       "18830    3.0\n",
       "18831    1.0\n",
       "18832    2.0\n",
       "18833    2.0\n",
       "Name: pet_category, Length: 18834, dtype: float32"
      ]
     },
     "execution_count": 46,
     "metadata": {
      "tags": []
     },
     "output_type": "execute_result"
    }
   ],
   "source": [
    "from tensorflow.keras.utils import to_categorical\n",
    "pet_label = pet_label.replace(4, 3)\n",
    "pet_label"
   ]
  },
  {
   "cell_type": "code",
   "execution_count": 47,
   "metadata": {
    "colab": {
     "base_uri": "https://localhost:8080/",
     "height": 34
    },
    "colab_type": "code",
    "id": "xYOfZREVY_8s",
    "outputId": "186c3d49-77be-467e-b6fc-f8da47d97d7b"
   },
   "outputs": [
    {
     "data": {
      "text/plain": [
       "(18834, 3)"
      ]
     },
     "execution_count": 47,
     "metadata": {
      "tags": []
     },
     "output_type": "execute_result"
    }
   ],
   "source": [
    "onehot_breed_label = to_categorical(breed_label, num_classes=3)\n",
    "onehot_pet_label = to_categorical(pet_label, num_classes=4)\n",
    "onehot_breed_label.shape"
   ]
  },
  {
   "cell_type": "code",
   "execution_count": 48,
   "metadata": {
    "colab": {
     "base_uri": "https://localhost:8080/",
     "height": 34
    },
    "colab_type": "code",
    "id": "bMffej9nZXIo",
    "outputId": "ebd20f0a-8614-4afc-8706-eb4708a7719e"
   },
   "outputs": [
    {
     "data": {
      "text/plain": [
       "(18834, 4)"
      ]
     },
     "execution_count": 48,
     "metadata": {
      "tags": []
     },
     "output_type": "execute_result"
    }
   ],
   "source": [
    "onehot_pet_label.shape"
   ]
  },
  {
   "cell_type": "markdown",
   "metadata": {
    "colab_type": "text",
    "id": "LtWUtXGMb6lo"
   },
   "source": [
    "##Splitting features and breed_category"
   ]
  },
  {
   "cell_type": "code",
   "execution_count": 49,
   "metadata": {
    "colab": {},
    "colab_type": "code",
    "id": "fI4s5oq4b0yt"
   },
   "outputs": [],
   "source": [
    "breed_x_train, breed_x_test, breed_y_train, breed_y_test = train_test_split(features, onehot_breed_label, random_state = 10, test_size = 0.2)"
   ]
  },
  {
   "cell_type": "code",
   "execution_count": 50,
   "metadata": {
    "colab": {
     "base_uri": "https://localhost:8080/",
     "height": 85
    },
    "colab_type": "code",
    "id": "rT8Rjs-ActHC",
    "outputId": "a7260afd-4c09-4cd5-ac8b-d30d772092c4"
   },
   "outputs": [
    {
     "name": "stdout",
     "output_type": "stream",
     "text": [
      "Shape of breed_x_train : (15067, 4)\n",
      "Shape of breed_y_train : (15067, 3)\n",
      "Shape of breed_x_test : (3767, 4)\n",
      "Shape of breed_y_test : (3767, 3)\n"
     ]
    }
   ],
   "source": [
    "print(f\"Shape of breed_x_train : {breed_x_train.shape}\")\n",
    "print(f\"Shape of breed_y_train : {breed_y_train.shape}\")\n",
    "print(f\"Shape of breed_x_test : {breed_x_test.shape}\")\n",
    "print(f\"Shape of breed_y_test : {breed_y_test.shape}\")"
   ]
  },
  {
   "cell_type": "markdown",
   "metadata": {
    "colab_type": "text",
    "id": "IvuwEs5DEKPR"
   },
   "source": [
    "##Splitting features and pet_category"
   ]
  },
  {
   "cell_type": "code",
   "execution_count": 51,
   "metadata": {
    "colab": {},
    "colab_type": "code",
    "id": "Bq8lY2EMEPAu"
   },
   "outputs": [],
   "source": [
    "pet_x_train, pet_x_test, pet_y_train, pet_y_test = train_test_split(features, onehot_pet_label, random_state = 10, test_size = 0.2)"
   ]
  },
  {
   "cell_type": "code",
   "execution_count": 52,
   "metadata": {
    "colab": {
     "base_uri": "https://localhost:8080/",
     "height": 85
    },
    "colab_type": "code",
    "id": "njO0-UyDEPEs",
    "outputId": "928a14b3-4f09-4c66-bab5-d2c33cfc8063"
   },
   "outputs": [
    {
     "name": "stdout",
     "output_type": "stream",
     "text": [
      "Shape of pet_x_train : (15067, 4)\n",
      "Shape of pet_y_train : (15067, 4)\n",
      "Shape of pet_x_test : (3767, 4)\n",
      "Shape of pet_y_test : (3767, 4)\n"
     ]
    }
   ],
   "source": [
    "print(f\"Shape of pet_x_train : {pet_x_train.shape}\")\n",
    "print(f\"Shape of pet_y_train : {pet_y_train.shape}\")\n",
    "print(f\"Shape of pet_x_test : {pet_x_test.shape}\")\n",
    "print(f\"Shape of pet_y_test : {pet_y_test.shape}\")"
   ]
  },
  {
   "cell_type": "markdown",
   "metadata": {
    "colab_type": "text",
    "id": "pxSOfy0oDtfk"
   },
   "source": [
    "##Pet Model\n"
   ]
  },
  {
   "cell_type": "code",
   "execution_count": 59,
   "metadata": {
    "colab": {},
    "colab_type": "code",
    "id": "da-vnWFgDwLI"
   },
   "outputs": [],
   "source": [
    "def Pet_Model(hp):\n",
    "  model = Sequential()\n",
    "  model.add(Dense(hp.Int(\"Input_layer\", min_value = 2, max_value = 500, step = 1), input_shape = (features.shape)))\n",
    "  model.add(Activation(\"relu\"))\n",
    "  \n",
    "  for i in range(hp.Int(\"n_layers\", 1, 10)): \n",
    "    model.add(Dense(hp.Int(f\"hidden_layer{i}\", min_value = 10, max_value = 500, step = 1)))\n",
    "    model.add(Activation(\"relu\"))\n",
    " \n",
    "  model.add(Dense(4))\n",
    "  model.add(Activation(\"softmax\"))\n",
    "\n",
    "  model.compile(optimizer = \"adam\", loss = \"mse\", metrics = [\"accuracy\"])\n",
    "\n",
    "  return model"
   ]
  },
  {
   "cell_type": "code",
   "execution_count": 60,
   "metadata": {
    "colab": {
     "base_uri": "https://localhost:8080/",
     "height": 1000
    },
    "colab_type": "code",
    "id": "EtUkospGD1SY",
    "outputId": "eb01186d-e5d4-40c7-8657-00b9c419ceff"
   },
   "outputs": [
    {
     "name": "stdout",
     "output_type": "stream",
     "text": [
      "Epoch 1/50\n",
      "WARNING:tensorflow:Model was constructed with shape (None, 18834, 4) for input Tensor(\"dense_input:0\", shape=(None, 18834, 4), dtype=float32), but it was called on an input with incompatible shape (None, 4).\n",
      "WARNING:tensorflow:Model was constructed with shape (None, 18834, 4) for input Tensor(\"dense_input:0\", shape=(None, 18834, 4), dtype=float32), but it was called on an input with incompatible shape (None, 4).\n",
      "467/471 [============================>.] - ETA: 0s - loss: 0.1109 - accuracy: 0.6592WARNING:tensorflow:Model was constructed with shape (None, 18834, 4) for input Tensor(\"dense_input:0\", shape=(None, 18834, 4), dtype=float32), but it was called on an input with incompatible shape (None, 4).\n",
      "471/471 [==============================] - 3s 6ms/step - loss: 0.1108 - accuracy: 0.6593 - val_loss: 0.0970 - val_accuracy: 0.7152\n",
      "Epoch 2/50\n",
      "471/471 [==============================] - 3s 6ms/step - loss: 0.0964 - accuracy: 0.7232 - val_loss: 0.0936 - val_accuracy: 0.7324\n",
      "Epoch 3/50\n",
      "471/471 [==============================] - 3s 6ms/step - loss: 0.0931 - accuracy: 0.7361 - val_loss: 0.0913 - val_accuracy: 0.7454\n",
      "Epoch 4/50\n",
      "471/471 [==============================] - 3s 6ms/step - loss: 0.0907 - accuracy: 0.7447 - val_loss: 0.0890 - val_accuracy: 0.7523\n",
      "Epoch 5/50\n",
      "471/471 [==============================] - 3s 5ms/step - loss: 0.0888 - accuracy: 0.7523 - val_loss: 0.0873 - val_accuracy: 0.7603\n",
      "Epoch 6/50\n",
      "471/471 [==============================] - 2s 5ms/step - loss: 0.0865 - accuracy: 0.7583 - val_loss: 0.0868 - val_accuracy: 0.7560\n",
      "Epoch 7/50\n",
      "471/471 [==============================] - 2s 5ms/step - loss: 0.0857 - accuracy: 0.7598 - val_loss: 0.0858 - val_accuracy: 0.7592\n",
      "Epoch 8/50\n",
      "471/471 [==============================] - 2s 5ms/step - loss: 0.0852 - accuracy: 0.7598 - val_loss: 0.0852 - val_accuracy: 0.7696\n",
      "Epoch 9/50\n",
      "471/471 [==============================] - 2s 5ms/step - loss: 0.0845 - accuracy: 0.7637 - val_loss: 0.0849 - val_accuracy: 0.7677\n",
      "Epoch 10/50\n",
      "471/471 [==============================] - 2s 5ms/step - loss: 0.0843 - accuracy: 0.7622 - val_loss: 0.0847 - val_accuracy: 0.7672\n",
      "Epoch 11/50\n",
      "471/471 [==============================] - 2s 5ms/step - loss: 0.0838 - accuracy: 0.7637 - val_loss: 0.0856 - val_accuracy: 0.7675\n",
      "Epoch 12/50\n",
      "471/471 [==============================] - 2s 5ms/step - loss: 0.0836 - accuracy: 0.7624 - val_loss: 0.0834 - val_accuracy: 0.7744\n",
      "Epoch 13/50\n",
      "471/471 [==============================] - 2s 5ms/step - loss: 0.0831 - accuracy: 0.7660 - val_loss: 0.0837 - val_accuracy: 0.7669\n",
      "Epoch 14/50\n",
      "471/471 [==============================] - 2s 5ms/step - loss: 0.0823 - accuracy: 0.7691 - val_loss: 0.0834 - val_accuracy: 0.7736\n",
      "Epoch 15/50\n",
      "471/471 [==============================] - 2s 5ms/step - loss: 0.0815 - accuracy: 0.7724 - val_loss: 0.0851 - val_accuracy: 0.7632\n",
      "Epoch 16/50\n",
      "471/471 [==============================] - 2s 5ms/step - loss: 0.0816 - accuracy: 0.7700 - val_loss: 0.0822 - val_accuracy: 0.7685\n",
      "Epoch 17/50\n",
      "471/471 [==============================] - 2s 5ms/step - loss: 0.0812 - accuracy: 0.7716 - val_loss: 0.0818 - val_accuracy: 0.7749\n",
      "Epoch 18/50\n",
      "471/471 [==============================] - 2s 5ms/step - loss: 0.0810 - accuracy: 0.7741 - val_loss: 0.0830 - val_accuracy: 0.7698\n",
      "Epoch 19/50\n",
      "471/471 [==============================] - 2s 5ms/step - loss: 0.0805 - accuracy: 0.7725 - val_loss: 0.0819 - val_accuracy: 0.7767\n",
      "Epoch 20/50\n",
      "471/471 [==============================] - 2s 5ms/step - loss: 0.0789 - accuracy: 0.7820 - val_loss: 0.0810 - val_accuracy: 0.7759\n",
      "Epoch 21/50\n",
      "471/471 [==============================] - 2s 5ms/step - loss: 0.0785 - accuracy: 0.7805 - val_loss: 0.0800 - val_accuracy: 0.7866\n",
      "Epoch 22/50\n",
      "471/471 [==============================] - 2s 5ms/step - loss: 0.0775 - accuracy: 0.7836 - val_loss: 0.0799 - val_accuracy: 0.7871\n",
      "Epoch 23/50\n",
      "471/471 [==============================] - 2s 5ms/step - loss: 0.0768 - accuracy: 0.7909 - val_loss: 0.0779 - val_accuracy: 0.7895\n",
      "Epoch 24/50\n",
      "471/471 [==============================] - 2s 5ms/step - loss: 0.0772 - accuracy: 0.7870 - val_loss: 0.0773 - val_accuracy: 0.7916\n",
      "Epoch 25/50\n",
      "471/471 [==============================] - 2s 5ms/step - loss: 0.0751 - accuracy: 0.7901 - val_loss: 0.0772 - val_accuracy: 0.7839\n",
      "Epoch 26/50\n",
      "471/471 [==============================] - 2s 5ms/step - loss: 0.0760 - accuracy: 0.7903 - val_loss: 0.0790 - val_accuracy: 0.7831\n",
      "Epoch 27/50\n",
      "471/471 [==============================] - 2s 5ms/step - loss: 0.0736 - accuracy: 0.7978 - val_loss: 0.0777 - val_accuracy: 0.7844\n",
      "Epoch 28/50\n",
      "471/471 [==============================] - 2s 5ms/step - loss: 0.0719 - accuracy: 0.8026 - val_loss: 0.0728 - val_accuracy: 0.8051\n",
      "Epoch 29/50\n",
      "471/471 [==============================] - 2s 5ms/step - loss: 0.0706 - accuracy: 0.8073 - val_loss: 0.0730 - val_accuracy: 0.8075\n",
      "Epoch 30/50\n",
      "471/471 [==============================] - 2s 5ms/step - loss: 0.0701 - accuracy: 0.8077 - val_loss: 0.0766 - val_accuracy: 0.7929\n",
      "Epoch 31/50\n",
      "471/471 [==============================] - 2s 5ms/step - loss: 0.0700 - accuracy: 0.8085 - val_loss: 0.0712 - val_accuracy: 0.8067\n",
      "Epoch 32/50\n",
      "471/471 [==============================] - 2s 5ms/step - loss: 0.0675 - accuracy: 0.8166 - val_loss: 0.0690 - val_accuracy: 0.8171\n",
      "Epoch 33/50\n",
      "471/471 [==============================] - 2s 5ms/step - loss: 0.0669 - accuracy: 0.8185 - val_loss: 0.0766 - val_accuracy: 0.7850\n",
      "Epoch 34/50\n",
      "471/471 [==============================] - 2s 5ms/step - loss: 0.0659 - accuracy: 0.8201 - val_loss: 0.0691 - val_accuracy: 0.8184\n",
      "Epoch 35/50\n",
      "471/471 [==============================] - 2s 5ms/step - loss: 0.0660 - accuracy: 0.8201 - val_loss: 0.0690 - val_accuracy: 0.8105\n",
      "Epoch 36/50\n",
      "471/471 [==============================] - 2s 5ms/step - loss: 0.0647 - accuracy: 0.8249 - val_loss: 0.0683 - val_accuracy: 0.8229\n",
      "Epoch 37/50\n",
      "471/471 [==============================] - 2s 5ms/step - loss: 0.0641 - accuracy: 0.8265 - val_loss: 0.0651 - val_accuracy: 0.8251\n",
      "Epoch 38/50\n",
      "471/471 [==============================] - 2s 5ms/step - loss: 0.0636 - accuracy: 0.8280 - val_loss: 0.0645 - val_accuracy: 0.8288\n",
      "Epoch 39/50\n",
      "471/471 [==============================] - 2s 5ms/step - loss: 0.0637 - accuracy: 0.8301 - val_loss: 0.0642 - val_accuracy: 0.8272\n",
      "Epoch 40/50\n",
      "471/471 [==============================] - 2s 5ms/step - loss: 0.0621 - accuracy: 0.8342 - val_loss: 0.0655 - val_accuracy: 0.8240\n",
      "Epoch 41/50\n",
      "471/471 [==============================] - 2s 5ms/step - loss: 0.0614 - accuracy: 0.8359 - val_loss: 0.0634 - val_accuracy: 0.8349\n",
      "Epoch 42/50\n",
      "471/471 [==============================] - 2s 5ms/step - loss: 0.0631 - accuracy: 0.8297 - val_loss: 0.0628 - val_accuracy: 0.8330\n",
      "Epoch 43/50\n",
      "471/471 [==============================] - 2s 5ms/step - loss: 0.0615 - accuracy: 0.8354 - val_loss: 0.0651 - val_accuracy: 0.8282\n",
      "Epoch 44/50\n",
      "471/471 [==============================] - 2s 5ms/step - loss: 0.0622 - accuracy: 0.8330 - val_loss: 0.0632 - val_accuracy: 0.8320\n",
      "Epoch 45/50\n",
      "471/471 [==============================] - 2s 5ms/step - loss: 0.0605 - accuracy: 0.8377 - val_loss: 0.0628 - val_accuracy: 0.8354\n",
      "Epoch 46/50\n",
      "471/471 [==============================] - 2s 5ms/step - loss: 0.0594 - accuracy: 0.8415 - val_loss: 0.0633 - val_accuracy: 0.8367\n",
      "Epoch 47/50\n",
      "471/471 [==============================] - 2s 5ms/step - loss: 0.0589 - accuracy: 0.8427 - val_loss: 0.0618 - val_accuracy: 0.8399\n",
      "Epoch 48/50\n",
      "471/471 [==============================] - 2s 5ms/step - loss: 0.0591 - accuracy: 0.8409 - val_loss: 0.0609 - val_accuracy: 0.8423\n",
      "Epoch 49/50\n",
      "471/471 [==============================] - 2s 5ms/step - loss: 0.0579 - accuracy: 0.8462 - val_loss: 0.0600 - val_accuracy: 0.8455\n",
      "Epoch 50/50\n",
      "471/471 [==============================] - 2s 5ms/step - loss: 0.0569 - accuracy: 0.8476 - val_loss: 0.0581 - val_accuracy: 0.8490\n",
      "Epoch 1/50\n",
      "WARNING:tensorflow:Model was constructed with shape (None, 18834, 4) for input Tensor(\"dense_input:0\", shape=(None, 18834, 4), dtype=float32), but it was called on an input with incompatible shape (None, 4).\n",
      "WARNING:tensorflow:Model was constructed with shape (None, 18834, 4) for input Tensor(\"dense_input:0\", shape=(None, 18834, 4), dtype=float32), but it was called on an input with incompatible shape (None, 4).\n",
      "466/471 [============================>.] - ETA: 0s - loss: 0.1178 - accuracy: 0.6515WARNING:tensorflow:Model was constructed with shape (None, 18834, 4) for input Tensor(\"dense_input:0\", shape=(None, 18834, 4), dtype=float32), but it was called on an input with incompatible shape (None, 4).\n",
      "471/471 [==============================] - 2s 5ms/step - loss: 0.1179 - accuracy: 0.6514 - val_loss: 0.1018 - val_accuracy: 0.6958\n",
      "Epoch 2/50\n",
      "471/471 [==============================] - 2s 5ms/step - loss: 0.0972 - accuracy: 0.7185 - val_loss: 0.0973 - val_accuracy: 0.7239\n",
      "Epoch 3/50\n",
      "471/471 [==============================] - 2s 5ms/step - loss: 0.0936 - accuracy: 0.7319 - val_loss: 0.0924 - val_accuracy: 0.7390\n",
      "Epoch 4/50\n",
      "471/471 [==============================] - 2s 5ms/step - loss: 0.0920 - accuracy: 0.7394 - val_loss: 0.0932 - val_accuracy: 0.7377\n",
      "Epoch 5/50\n",
      "471/471 [==============================] - 2s 5ms/step - loss: 0.0909 - accuracy: 0.7430 - val_loss: 0.0895 - val_accuracy: 0.7497\n",
      "Epoch 6/50\n",
      "471/471 [==============================] - 2s 5ms/step - loss: 0.0899 - accuracy: 0.7485 - val_loss: 0.0906 - val_accuracy: 0.7467\n",
      "Epoch 7/50\n",
      "471/471 [==============================] - 2s 5ms/step - loss: 0.0890 - accuracy: 0.7509 - val_loss: 0.0910 - val_accuracy: 0.7444\n",
      "Epoch 8/50\n",
      "471/471 [==============================] - 2s 5ms/step - loss: 0.0876 - accuracy: 0.7510 - val_loss: 0.0877 - val_accuracy: 0.7521\n",
      "Epoch 9/50\n",
      "471/471 [==============================] - 2s 5ms/step - loss: 0.0862 - accuracy: 0.7621 - val_loss: 0.0866 - val_accuracy: 0.7576\n",
      "Epoch 10/50\n",
      "471/471 [==============================] - 2s 5ms/step - loss: 0.0850 - accuracy: 0.7621 - val_loss: 0.0851 - val_accuracy: 0.7661\n",
      "Epoch 11/50\n",
      "471/471 [==============================] - 2s 5ms/step - loss: 0.0847 - accuracy: 0.7609 - val_loss: 0.0842 - val_accuracy: 0.7690\n",
      "Epoch 12/50\n",
      "471/471 [==============================] - 2s 5ms/step - loss: 0.0843 - accuracy: 0.7631 - val_loss: 0.0833 - val_accuracy: 0.7690\n",
      "Epoch 13/50\n",
      "471/471 [==============================] - 2s 5ms/step - loss: 0.0833 - accuracy: 0.7658 - val_loss: 0.0835 - val_accuracy: 0.7701\n",
      "Epoch 14/50\n",
      "471/471 [==============================] - 2s 5ms/step - loss: 0.0828 - accuracy: 0.7687 - val_loss: 0.0843 - val_accuracy: 0.7701\n",
      "Epoch 15/50\n",
      "471/471 [==============================] - 2s 5ms/step - loss: 0.0831 - accuracy: 0.7682 - val_loss: 0.0831 - val_accuracy: 0.7733\n",
      "Epoch 16/50\n",
      "471/471 [==============================] - 2s 5ms/step - loss: 0.0821 - accuracy: 0.7700 - val_loss: 0.0816 - val_accuracy: 0.7757\n",
      "Epoch 17/50\n",
      "471/471 [==============================] - 2s 5ms/step - loss: 0.0818 - accuracy: 0.7716 - val_loss: 0.0817 - val_accuracy: 0.7730\n",
      "Epoch 18/50\n",
      "471/471 [==============================] - 2s 5ms/step - loss: 0.0806 - accuracy: 0.7787 - val_loss: 0.0817 - val_accuracy: 0.7884\n",
      "Epoch 19/50\n",
      "471/471 [==============================] - 2s 5ms/step - loss: 0.0796 - accuracy: 0.7821 - val_loss: 0.0823 - val_accuracy: 0.7701\n",
      "Epoch 20/50\n",
      "471/471 [==============================] - 2s 5ms/step - loss: 0.0790 - accuracy: 0.7823 - val_loss: 0.0789 - val_accuracy: 0.7884\n",
      "Epoch 21/50\n",
      "471/471 [==============================] - 2s 5ms/step - loss: 0.0778 - accuracy: 0.7883 - val_loss: 0.0785 - val_accuracy: 0.7959\n",
      "Epoch 22/50\n",
      "471/471 [==============================] - 2s 5ms/step - loss: 0.0766 - accuracy: 0.7874 - val_loss: 0.0785 - val_accuracy: 0.7932\n",
      "Epoch 23/50\n",
      "471/471 [==============================] - 2s 5ms/step - loss: 0.0754 - accuracy: 0.7936 - val_loss: 0.0767 - val_accuracy: 0.7929\n",
      "Epoch 24/50\n",
      "471/471 [==============================] - 2s 5ms/step - loss: 0.0744 - accuracy: 0.7985 - val_loss: 0.0748 - val_accuracy: 0.7985\n",
      "Epoch 25/50\n",
      "471/471 [==============================] - 2s 5ms/step - loss: 0.0729 - accuracy: 0.8023 - val_loss: 0.0732 - val_accuracy: 0.8028\n",
      "Epoch 26/50\n",
      "471/471 [==============================] - 2s 5ms/step - loss: 0.0732 - accuracy: 0.8015 - val_loss: 0.0757 - val_accuracy: 0.7956\n",
      "Epoch 27/50\n",
      "471/471 [==============================] - 2s 5ms/step - loss: 0.0714 - accuracy: 0.8067 - val_loss: 0.0738 - val_accuracy: 0.7988\n",
      "Epoch 28/50\n",
      "471/471 [==============================] - 2s 5ms/step - loss: 0.0707 - accuracy: 0.8077 - val_loss: 0.0724 - val_accuracy: 0.8070\n",
      "Epoch 29/50\n",
      "471/471 [==============================] - 2s 5ms/step - loss: 0.0707 - accuracy: 0.8060 - val_loss: 0.0727 - val_accuracy: 0.8044\n",
      "Epoch 30/50\n",
      "471/471 [==============================] - 2s 5ms/step - loss: 0.0697 - accuracy: 0.8107 - val_loss: 0.0740 - val_accuracy: 0.7937\n",
      "Epoch 31/50\n",
      "471/471 [==============================] - 2s 5ms/step - loss: 0.0699 - accuracy: 0.8098 - val_loss: 0.0744 - val_accuracy: 0.7998\n",
      "Epoch 32/50\n",
      "471/471 [==============================] - 2s 5ms/step - loss: 0.0690 - accuracy: 0.8132 - val_loss: 0.0739 - val_accuracy: 0.7913\n",
      "Epoch 33/50\n",
      "471/471 [==============================] - 2s 5ms/step - loss: 0.0686 - accuracy: 0.8148 - val_loss: 0.0705 - val_accuracy: 0.8073\n",
      "Epoch 34/50\n",
      "471/471 [==============================] - 2s 5ms/step - loss: 0.0687 - accuracy: 0.8130 - val_loss: 0.0707 - val_accuracy: 0.8099\n",
      "Epoch 35/50\n",
      "471/471 [==============================] - 2s 5ms/step - loss: 0.0689 - accuracy: 0.8122 - val_loss: 0.0711 - val_accuracy: 0.8065\n",
      "Epoch 36/50\n",
      "471/471 [==============================] - 2s 5ms/step - loss: 0.0673 - accuracy: 0.8168 - val_loss: 0.0707 - val_accuracy: 0.8136\n",
      "Epoch 37/50\n",
      "471/471 [==============================] - 2s 5ms/step - loss: 0.0682 - accuracy: 0.8167 - val_loss: 0.0716 - val_accuracy: 0.8107\n",
      "Epoch 38/50\n",
      "471/471 [==============================] - 2s 5ms/step - loss: 0.0676 - accuracy: 0.8177 - val_loss: 0.0687 - val_accuracy: 0.8160\n",
      "Epoch 39/50\n",
      "471/471 [==============================] - 2s 5ms/step - loss: 0.0659 - accuracy: 0.8216 - val_loss: 0.0695 - val_accuracy: 0.8123\n",
      "Epoch 40/50\n",
      "471/471 [==============================] - 2s 5ms/step - loss: 0.0664 - accuracy: 0.8239 - val_loss: 0.0679 - val_accuracy: 0.8184\n",
      "Epoch 41/50\n",
      "471/471 [==============================] - 2s 5ms/step - loss: 0.0666 - accuracy: 0.8223 - val_loss: 0.0694 - val_accuracy: 0.8166\n",
      "Epoch 42/50\n",
      "471/471 [==============================] - 2s 5ms/step - loss: 0.0673 - accuracy: 0.8180 - val_loss: 0.0693 - val_accuracy: 0.8208\n",
      "Epoch 43/50\n",
      "471/471 [==============================] - 2s 5ms/step - loss: 0.0669 - accuracy: 0.8199 - val_loss: 0.0680 - val_accuracy: 0.8195\n",
      "Epoch 44/50\n",
      "471/471 [==============================] - 2s 5ms/step - loss: 0.0659 - accuracy: 0.8239 - val_loss: 0.0706 - val_accuracy: 0.8081\n",
      "Epoch 45/50\n",
      "471/471 [==============================] - 2s 5ms/step - loss: 0.0659 - accuracy: 0.8229 - val_loss: 0.0687 - val_accuracy: 0.8171\n",
      "Epoch 46/50\n",
      "471/471 [==============================] - 2s 5ms/step - loss: 0.0650 - accuracy: 0.8263 - val_loss: 0.0680 - val_accuracy: 0.8171\n",
      "Epoch 47/50\n",
      "471/471 [==============================] - 2s 5ms/step - loss: 0.0638 - accuracy: 0.8296 - val_loss: 0.0665 - val_accuracy: 0.8277\n",
      "Epoch 48/50\n",
      "471/471 [==============================] - 2s 5ms/step - loss: 0.0624 - accuracy: 0.8359 - val_loss: 0.0674 - val_accuracy: 0.8221\n",
      "Epoch 49/50\n",
      "471/471 [==============================] - 3s 7ms/step - loss: 0.0617 - accuracy: 0.8379 - val_loss: 0.0644 - val_accuracy: 0.8277\n",
      "Epoch 50/50\n",
      "471/471 [==============================] - 3s 6ms/step - loss: 0.0597 - accuracy: 0.8428 - val_loss: 0.0609 - val_accuracy: 0.8391\n",
      "Epoch 1/50\n",
      "WARNING:tensorflow:Model was constructed with shape (None, 18834, 4) for input Tensor(\"dense_input:0\", shape=(None, 18834, 4), dtype=float32), but it was called on an input with incompatible shape (None, 4).\n",
      "WARNING:tensorflow:Model was constructed with shape (None, 18834, 4) for input Tensor(\"dense_input:0\", shape=(None, 18834, 4), dtype=float32), but it was called on an input with incompatible shape (None, 4).\n",
      "470/471 [============================>.] - ETA: 0s - loss: 0.1081 - accuracy: 0.6799WARNING:tensorflow:Model was constructed with shape (None, 18834, 4) for input Tensor(\"dense_input:0\", shape=(None, 18834, 4), dtype=float32), but it was called on an input with incompatible shape (None, 4).\n",
      "471/471 [==============================] - 2s 5ms/step - loss: 0.1080 - accuracy: 0.6802 - val_loss: 0.0971 - val_accuracy: 0.7162\n",
      "Epoch 2/50\n",
      "471/471 [==============================] - 2s 5ms/step - loss: 0.0959 - accuracy: 0.7256 - val_loss: 0.0945 - val_accuracy: 0.7356\n",
      "Epoch 3/50\n",
      "471/471 [==============================] - 2s 5ms/step - loss: 0.0920 - accuracy: 0.7406 - val_loss: 0.0911 - val_accuracy: 0.7436\n",
      "Epoch 4/50\n",
      "471/471 [==============================] - 2s 5ms/step - loss: 0.0909 - accuracy: 0.7423 - val_loss: 0.0935 - val_accuracy: 0.7414\n",
      "Epoch 5/50\n",
      "471/471 [==============================] - 2s 5ms/step - loss: 0.0897 - accuracy: 0.7452 - val_loss: 0.0877 - val_accuracy: 0.7558\n",
      "Epoch 6/50\n",
      "471/471 [==============================] - 2s 5ms/step - loss: 0.0885 - accuracy: 0.7502 - val_loss: 0.0891 - val_accuracy: 0.7568\n",
      "Epoch 7/50\n",
      "471/471 [==============================] - 2s 5ms/step - loss: 0.0874 - accuracy: 0.7554 - val_loss: 0.0844 - val_accuracy: 0.7688\n",
      "Epoch 8/50\n",
      "471/471 [==============================] - 2s 5ms/step - loss: 0.0862 - accuracy: 0.7578 - val_loss: 0.0856 - val_accuracy: 0.7613\n",
      "Epoch 9/50\n",
      "471/471 [==============================] - 2s 5ms/step - loss: 0.0855 - accuracy: 0.7611 - val_loss: 0.0884 - val_accuracy: 0.7555\n",
      "Epoch 10/50\n",
      "471/471 [==============================] - 2s 5ms/step - loss: 0.0847 - accuracy: 0.7632 - val_loss: 0.0909 - val_accuracy: 0.7518\n",
      "Epoch 11/50\n",
      "471/471 [==============================] - 2s 5ms/step - loss: 0.0843 - accuracy: 0.7655 - val_loss: 0.0843 - val_accuracy: 0.7717\n",
      "Epoch 12/50\n",
      "471/471 [==============================] - 2s 5ms/step - loss: 0.0834 - accuracy: 0.7672 - val_loss: 0.0832 - val_accuracy: 0.7693\n",
      "Epoch 13/50\n",
      "471/471 [==============================] - 2s 5ms/step - loss: 0.0827 - accuracy: 0.7718 - val_loss: 0.0832 - val_accuracy: 0.7704\n",
      "Epoch 14/50\n",
      "471/471 [==============================] - 2s 5ms/step - loss: 0.0817 - accuracy: 0.7730 - val_loss: 0.0832 - val_accuracy: 0.7728\n",
      "Epoch 15/50\n",
      "471/471 [==============================] - 2s 5ms/step - loss: 0.0806 - accuracy: 0.7769 - val_loss: 0.0822 - val_accuracy: 0.7754\n",
      "Epoch 16/50\n",
      "471/471 [==============================] - 2s 5ms/step - loss: 0.0792 - accuracy: 0.7816 - val_loss: 0.0796 - val_accuracy: 0.7847\n",
      "Epoch 17/50\n",
      "471/471 [==============================] - 2s 5ms/step - loss: 0.0784 - accuracy: 0.7848 - val_loss: 0.0803 - val_accuracy: 0.7844\n",
      "Epoch 18/50\n",
      "471/471 [==============================] - 2s 5ms/step - loss: 0.0778 - accuracy: 0.7879 - val_loss: 0.0796 - val_accuracy: 0.7836\n",
      "Epoch 19/50\n",
      "471/471 [==============================] - 2s 5ms/step - loss: 0.0764 - accuracy: 0.7935 - val_loss: 0.0773 - val_accuracy: 0.7935\n",
      "Epoch 20/50\n",
      "471/471 [==============================] - 2s 5ms/step - loss: 0.0754 - accuracy: 0.7946 - val_loss: 0.0764 - val_accuracy: 0.7943\n",
      "Epoch 21/50\n",
      "471/471 [==============================] - 2s 5ms/step - loss: 0.0747 - accuracy: 0.7966 - val_loss: 0.0757 - val_accuracy: 0.7993\n",
      "Epoch 22/50\n",
      "471/471 [==============================] - 2s 5ms/step - loss: 0.0737 - accuracy: 0.8026 - val_loss: 0.0754 - val_accuracy: 0.7956\n",
      "Epoch 23/50\n",
      "471/471 [==============================] - 2s 5ms/step - loss: 0.0732 - accuracy: 0.8017 - val_loss: 0.0740 - val_accuracy: 0.8049\n",
      "Epoch 24/50\n",
      "471/471 [==============================] - 2s 5ms/step - loss: 0.0722 - accuracy: 0.8020 - val_loss: 0.0719 - val_accuracy: 0.8094\n",
      "Epoch 25/50\n",
      "471/471 [==============================] - 2s 5ms/step - loss: 0.0710 - accuracy: 0.8063 - val_loss: 0.0714 - val_accuracy: 0.8102\n",
      "Epoch 26/50\n",
      "471/471 [==============================] - 2s 5ms/step - loss: 0.0706 - accuracy: 0.8094 - val_loss: 0.0721 - val_accuracy: 0.8067\n",
      "Epoch 27/50\n",
      "471/471 [==============================] - 2s 5ms/step - loss: 0.0702 - accuracy: 0.8105 - val_loss: 0.0730 - val_accuracy: 0.8054\n",
      "Epoch 28/50\n",
      "471/471 [==============================] - 2s 5ms/step - loss: 0.0696 - accuracy: 0.8112 - val_loss: 0.0696 - val_accuracy: 0.8160\n",
      "Epoch 29/50\n",
      "471/471 [==============================] - 2s 5ms/step - loss: 0.0682 - accuracy: 0.8154 - val_loss: 0.0689 - val_accuracy: 0.8155\n",
      "Epoch 30/50\n",
      "471/471 [==============================] - 2s 5ms/step - loss: 0.0672 - accuracy: 0.8225 - val_loss: 0.0777 - val_accuracy: 0.7672\n",
      "Epoch 31/50\n",
      "471/471 [==============================] - 2s 5ms/step - loss: 0.0675 - accuracy: 0.8193 - val_loss: 0.0677 - val_accuracy: 0.8195\n",
      "Epoch 32/50\n",
      "471/471 [==============================] - 2s 5ms/step - loss: 0.0656 - accuracy: 0.8245 - val_loss: 0.0676 - val_accuracy: 0.8229\n",
      "Epoch 33/50\n",
      "471/471 [==============================] - 3s 6ms/step - loss: 0.0661 - accuracy: 0.8259 - val_loss: 0.0652 - val_accuracy: 0.8269\n",
      "Epoch 34/50\n",
      "471/471 [==============================] - 3s 6ms/step - loss: 0.0645 - accuracy: 0.8290 - val_loss: 0.0654 - val_accuracy: 0.8251\n",
      "Epoch 35/50\n",
      "471/471 [==============================] - 3s 6ms/step - loss: 0.0628 - accuracy: 0.8339 - val_loss: 0.0672 - val_accuracy: 0.8274\n",
      "Epoch 36/50\n",
      "471/471 [==============================] - 3s 6ms/step - loss: 0.0614 - accuracy: 0.8408 - val_loss: 0.0621 - val_accuracy: 0.8458\n",
      "Epoch 37/50\n",
      "471/471 [==============================] - 2s 5ms/step - loss: 0.0592 - accuracy: 0.8476 - val_loss: 0.0581 - val_accuracy: 0.8524\n",
      "Epoch 38/50\n",
      "471/471 [==============================] - 2s 5ms/step - loss: 0.0589 - accuracy: 0.8481 - val_loss: 0.0584 - val_accuracy: 0.8490\n",
      "Epoch 39/50\n",
      "471/471 [==============================] - 2s 5ms/step - loss: 0.0572 - accuracy: 0.8533 - val_loss: 0.0588 - val_accuracy: 0.8529\n",
      "Epoch 40/50\n",
      "471/471 [==============================] - 2s 5ms/step - loss: 0.0562 - accuracy: 0.8574 - val_loss: 0.0578 - val_accuracy: 0.8537\n",
      "Epoch 41/50\n",
      "471/471 [==============================] - 2s 5ms/step - loss: 0.0576 - accuracy: 0.8512 - val_loss: 0.0591 - val_accuracy: 0.8479\n",
      "Epoch 42/50\n",
      "471/471 [==============================] - 2s 5ms/step - loss: 0.0567 - accuracy: 0.8525 - val_loss: 0.0578 - val_accuracy: 0.8495\n",
      "Epoch 43/50\n",
      "471/471 [==============================] - 2s 5ms/step - loss: 0.0558 - accuracy: 0.8543 - val_loss: 0.0565 - val_accuracy: 0.8556\n",
      "Epoch 44/50\n",
      "471/471 [==============================] - 2s 5ms/step - loss: 0.0549 - accuracy: 0.8577 - val_loss: 0.0644 - val_accuracy: 0.8320\n",
      "Epoch 45/50\n",
      "471/471 [==============================] - 2s 5ms/step - loss: 0.0538 - accuracy: 0.8600 - val_loss: 0.0557 - val_accuracy: 0.8577\n",
      "Epoch 46/50\n",
      "471/471 [==============================] - 2s 5ms/step - loss: 0.0536 - accuracy: 0.8635 - val_loss: 0.0597 - val_accuracy: 0.8410\n",
      "Epoch 47/50\n",
      "471/471 [==============================] - 2s 5ms/step - loss: 0.0539 - accuracy: 0.8601 - val_loss: 0.0524 - val_accuracy: 0.8659\n",
      "Epoch 48/50\n",
      "471/471 [==============================] - 2s 5ms/step - loss: 0.0530 - accuracy: 0.8626 - val_loss: 0.0540 - val_accuracy: 0.8604\n",
      "Epoch 49/50\n",
      "471/471 [==============================] - 2s 5ms/step - loss: 0.0518 - accuracy: 0.8652 - val_loss: 0.0529 - val_accuracy: 0.8654\n",
      "Epoch 50/50\n",
      "471/471 [==============================] - 2s 5ms/step - loss: 0.0529 - accuracy: 0.8625 - val_loss: 0.0539 - val_accuracy: 0.8612\n",
      "Epoch 1/50\n",
      "WARNING:tensorflow:Model was constructed with shape (None, 18834, 4) for input Tensor(\"dense_input:0\", shape=(None, 18834, 4), dtype=float32), but it was called on an input with incompatible shape (None, 4).\n",
      "WARNING:tensorflow:Model was constructed with shape (None, 18834, 4) for input Tensor(\"dense_input:0\", shape=(None, 18834, 4), dtype=float32), but it was called on an input with incompatible shape (None, 4).\n",
      "464/471 [============================>.] - ETA: 0s - loss: 0.1127 - accuracy: 0.6566WARNING:tensorflow:Model was constructed with shape (None, 18834, 4) for input Tensor(\"dense_input:0\", shape=(None, 18834, 4), dtype=float32), but it was called on an input with incompatible shape (None, 4).\n",
      "471/471 [==============================] - 2s 5ms/step - loss: 0.1125 - accuracy: 0.6577 - val_loss: 0.1016 - val_accuracy: 0.7061\n",
      "Epoch 2/50\n",
      "471/471 [==============================] - 2s 5ms/step - loss: 0.0971 - accuracy: 0.7226 - val_loss: 0.0975 - val_accuracy: 0.7213\n",
      "Epoch 3/50\n",
      "471/471 [==============================] - 2s 5ms/step - loss: 0.0926 - accuracy: 0.7374 - val_loss: 0.0922 - val_accuracy: 0.7372\n",
      "Epoch 4/50\n",
      "471/471 [==============================] - 2s 5ms/step - loss: 0.0898 - accuracy: 0.7482 - val_loss: 0.0906 - val_accuracy: 0.7467\n",
      "Epoch 5/50\n",
      "471/471 [==============================] - 2s 5ms/step - loss: 0.0878 - accuracy: 0.7521 - val_loss: 0.0861 - val_accuracy: 0.7555\n",
      "Epoch 6/50\n",
      "471/471 [==============================] - 2s 5ms/step - loss: 0.0856 - accuracy: 0.7585 - val_loss: 0.0864 - val_accuracy: 0.7606\n",
      "Epoch 7/50\n",
      "471/471 [==============================] - 2s 5ms/step - loss: 0.0846 - accuracy: 0.7624 - val_loss: 0.0873 - val_accuracy: 0.7489\n",
      "Epoch 8/50\n",
      "471/471 [==============================] - 2s 5ms/step - loss: 0.0840 - accuracy: 0.7631 - val_loss: 0.0850 - val_accuracy: 0.7590\n",
      "Epoch 9/50\n",
      "471/471 [==============================] - 2s 5ms/step - loss: 0.0831 - accuracy: 0.7669 - val_loss: 0.0833 - val_accuracy: 0.7701\n",
      "Epoch 10/50\n",
      "471/471 [==============================] - 2s 5ms/step - loss: 0.0826 - accuracy: 0.7697 - val_loss: 0.0850 - val_accuracy: 0.7637\n",
      "Epoch 11/50\n",
      "471/471 [==============================] - 2s 5ms/step - loss: 0.0822 - accuracy: 0.7700 - val_loss: 0.0821 - val_accuracy: 0.7725\n",
      "Epoch 12/50\n",
      "471/471 [==============================] - 2s 5ms/step - loss: 0.0815 - accuracy: 0.7725 - val_loss: 0.0812 - val_accuracy: 0.7736\n",
      "Epoch 13/50\n",
      "471/471 [==============================] - 2s 5ms/step - loss: 0.0806 - accuracy: 0.7778 - val_loss: 0.0824 - val_accuracy: 0.7783\n",
      "Epoch 14/50\n",
      "471/471 [==============================] - 2s 5ms/step - loss: 0.0794 - accuracy: 0.7798 - val_loss: 0.0805 - val_accuracy: 0.7759\n",
      "Epoch 15/50\n",
      "471/471 [==============================] - 2s 5ms/step - loss: 0.0785 - accuracy: 0.7841 - val_loss: 0.0789 - val_accuracy: 0.7882\n",
      "Epoch 16/50\n",
      "471/471 [==============================] - 2s 5ms/step - loss: 0.0776 - accuracy: 0.7873 - val_loss: 0.0819 - val_accuracy: 0.7831\n",
      "Epoch 17/50\n",
      "471/471 [==============================] - 2s 5ms/step - loss: 0.0755 - accuracy: 0.7952 - val_loss: 0.0765 - val_accuracy: 0.7932\n",
      "Epoch 18/50\n",
      "471/471 [==============================] - 2s 5ms/step - loss: 0.0745 - accuracy: 0.8002 - val_loss: 0.0745 - val_accuracy: 0.7988\n",
      "Epoch 19/50\n",
      "471/471 [==============================] - 2s 5ms/step - loss: 0.0747 - accuracy: 0.7977 - val_loss: 0.0752 - val_accuracy: 0.7948\n",
      "Epoch 20/50\n",
      "471/471 [==============================] - 2s 5ms/step - loss: 0.0740 - accuracy: 0.7980 - val_loss: 0.0743 - val_accuracy: 0.8036\n",
      "Epoch 21/50\n",
      "471/471 [==============================] - 2s 5ms/step - loss: 0.0733 - accuracy: 0.8010 - val_loss: 0.0763 - val_accuracy: 0.7913\n",
      "Epoch 22/50\n",
      "471/471 [==============================] - 2s 5ms/step - loss: 0.0719 - accuracy: 0.8055 - val_loss: 0.0725 - val_accuracy: 0.8001\n",
      "Epoch 23/50\n",
      "471/471 [==============================] - 2s 5ms/step - loss: 0.0721 - accuracy: 0.8043 - val_loss: 0.0752 - val_accuracy: 0.7932\n",
      "Epoch 24/50\n",
      "471/471 [==============================] - 2s 5ms/step - loss: 0.0713 - accuracy: 0.8085 - val_loss: 0.0735 - val_accuracy: 0.7982\n",
      "Epoch 25/50\n",
      "471/471 [==============================] - 2s 5ms/step - loss: 0.0708 - accuracy: 0.8071 - val_loss: 0.0717 - val_accuracy: 0.8057\n",
      "Epoch 26/50\n",
      "471/471 [==============================] - 2s 5ms/step - loss: 0.0696 - accuracy: 0.8112 - val_loss: 0.0699 - val_accuracy: 0.8099\n",
      "Epoch 27/50\n",
      "471/471 [==============================] - 2s 5ms/step - loss: 0.0677 - accuracy: 0.8191 - val_loss: 0.0697 - val_accuracy: 0.8144\n",
      "Epoch 28/50\n",
      "471/471 [==============================] - 2s 5ms/step - loss: 0.0680 - accuracy: 0.8166 - val_loss: 0.0711 - val_accuracy: 0.8038\n",
      "Epoch 29/50\n",
      "471/471 [==============================] - 2s 5ms/step - loss: 0.0664 - accuracy: 0.8217 - val_loss: 0.0734 - val_accuracy: 0.8105\n",
      "Epoch 30/50\n",
      "471/471 [==============================] - 2s 5ms/step - loss: 0.0669 - accuracy: 0.8223 - val_loss: 0.0692 - val_accuracy: 0.8182\n",
      "Epoch 31/50\n",
      "471/471 [==============================] - 2s 5ms/step - loss: 0.0655 - accuracy: 0.8260 - val_loss: 0.0703 - val_accuracy: 0.8152\n",
      "Epoch 32/50\n",
      "471/471 [==============================] - 2s 5ms/step - loss: 0.0653 - accuracy: 0.8266 - val_loss: 0.0691 - val_accuracy: 0.8213\n",
      "Epoch 33/50\n",
      "471/471 [==============================] - 2s 5ms/step - loss: 0.0641 - accuracy: 0.8294 - val_loss: 0.0673 - val_accuracy: 0.8259\n",
      "Epoch 34/50\n",
      "471/471 [==============================] - 2s 5ms/step - loss: 0.0635 - accuracy: 0.8302 - val_loss: 0.0660 - val_accuracy: 0.8216\n",
      "Epoch 35/50\n",
      "471/471 [==============================] - 2s 5ms/step - loss: 0.0621 - accuracy: 0.8363 - val_loss: 0.0657 - val_accuracy: 0.8227\n",
      "Epoch 36/50\n",
      "471/471 [==============================] - 2s 5ms/step - loss: 0.0608 - accuracy: 0.8386 - val_loss: 0.0609 - val_accuracy: 0.8413\n",
      "Epoch 37/50\n",
      "471/471 [==============================] - 2s 5ms/step - loss: 0.0605 - accuracy: 0.8415 - val_loss: 0.0627 - val_accuracy: 0.8351\n",
      "Epoch 38/50\n",
      "471/471 [==============================] - 2s 5ms/step - loss: 0.0600 - accuracy: 0.8418 - val_loss: 0.0623 - val_accuracy: 0.8346\n",
      "Epoch 39/50\n",
      "471/471 [==============================] - 2s 5ms/step - loss: 0.0587 - accuracy: 0.8467 - val_loss: 0.0598 - val_accuracy: 0.8439\n",
      "Epoch 40/50\n",
      "471/471 [==============================] - 2s 5ms/step - loss: 0.0572 - accuracy: 0.8499 - val_loss: 0.0623 - val_accuracy: 0.8312\n",
      "Epoch 41/50\n",
      "471/471 [==============================] - 2s 5ms/step - loss: 0.0572 - accuracy: 0.8495 - val_loss: 0.0564 - val_accuracy: 0.8511\n",
      "Epoch 42/50\n",
      "471/471 [==============================] - 2s 5ms/step - loss: 0.0557 - accuracy: 0.8535 - val_loss: 0.0566 - val_accuracy: 0.8490\n",
      "Epoch 43/50\n",
      "471/471 [==============================] - 2s 5ms/step - loss: 0.0570 - accuracy: 0.8499 - val_loss: 0.0580 - val_accuracy: 0.8521\n",
      "Epoch 44/50\n",
      "471/471 [==============================] - 2s 5ms/step - loss: 0.0558 - accuracy: 0.8516 - val_loss: 0.0560 - val_accuracy: 0.8532\n",
      "Epoch 45/50\n",
      "471/471 [==============================] - 2s 5ms/step - loss: 0.0555 - accuracy: 0.8538 - val_loss: 0.0576 - val_accuracy: 0.8474\n",
      "Epoch 46/50\n",
      "471/471 [==============================] - 2s 5ms/step - loss: 0.0562 - accuracy: 0.8518 - val_loss: 0.0574 - val_accuracy: 0.8513\n",
      "Epoch 47/50\n",
      "471/471 [==============================] - 2s 5ms/step - loss: 0.0545 - accuracy: 0.8570 - val_loss: 0.0575 - val_accuracy: 0.8492\n",
      "Epoch 48/50\n",
      "471/471 [==============================] - 2s 5ms/step - loss: 0.0535 - accuracy: 0.8598 - val_loss: 0.0615 - val_accuracy: 0.8341\n",
      "Epoch 49/50\n",
      "471/471 [==============================] - 2s 5ms/step - loss: 0.0560 - accuracy: 0.8501 - val_loss: 0.0618 - val_accuracy: 0.8277\n",
      "Epoch 50/50\n",
      "471/471 [==============================] - 2s 5ms/step - loss: 0.0533 - accuracy: 0.8584 - val_loss: 0.0545 - val_accuracy: 0.8564\n",
      "Epoch 1/50\n",
      "WARNING:tensorflow:Model was constructed with shape (None, 18834, 4) for input Tensor(\"dense_input:0\", shape=(None, 18834, 4), dtype=float32), but it was called on an input with incompatible shape (None, 4).\n",
      "WARNING:tensorflow:Model was constructed with shape (None, 18834, 4) for input Tensor(\"dense_input:0\", shape=(None, 18834, 4), dtype=float32), but it was called on an input with incompatible shape (None, 4).\n",
      "463/471 [============================>.] - ETA: 0s - loss: 0.1088 - accuracy: 0.6762WARNING:tensorflow:Model was constructed with shape (None, 18834, 4) for input Tensor(\"dense_input:0\", shape=(None, 18834, 4), dtype=float32), but it was called on an input with incompatible shape (None, 4).\n",
      "471/471 [==============================] - 2s 5ms/step - loss: 0.1087 - accuracy: 0.6764 - val_loss: 0.0984 - val_accuracy: 0.7101\n",
      "Epoch 2/50\n",
      "471/471 [==============================] - 2s 5ms/step - loss: 0.0959 - accuracy: 0.7246 - val_loss: 0.0927 - val_accuracy: 0.7383\n",
      "Epoch 3/50\n",
      "471/471 [==============================] - 2s 5ms/step - loss: 0.0925 - accuracy: 0.7354 - val_loss: 0.0929 - val_accuracy: 0.7375\n",
      "Epoch 4/50\n",
      "471/471 [==============================] - 2s 5ms/step - loss: 0.0903 - accuracy: 0.7469 - val_loss: 0.0897 - val_accuracy: 0.7550\n",
      "Epoch 5/50\n",
      "471/471 [==============================] - 2s 5ms/step - loss: 0.0892 - accuracy: 0.7521 - val_loss: 0.0879 - val_accuracy: 0.7544\n",
      "Epoch 6/50\n",
      "471/471 [==============================] - 2s 5ms/step - loss: 0.0872 - accuracy: 0.7568 - val_loss: 0.0856 - val_accuracy: 0.7637\n",
      "Epoch 7/50\n",
      "471/471 [==============================] - 2s 5ms/step - loss: 0.0862 - accuracy: 0.7591 - val_loss: 0.0868 - val_accuracy: 0.7640\n",
      "Epoch 8/50\n",
      "471/471 [==============================] - 2s 5ms/step - loss: 0.0856 - accuracy: 0.7611 - val_loss: 0.0849 - val_accuracy: 0.7661\n",
      "Epoch 9/50\n",
      "471/471 [==============================] - 2s 5ms/step - loss: 0.0845 - accuracy: 0.7629 - val_loss: 0.0878 - val_accuracy: 0.7513\n",
      "Epoch 10/50\n",
      "471/471 [==============================] - 3s 5ms/step - loss: 0.0846 - accuracy: 0.7639 - val_loss: 0.0835 - val_accuracy: 0.7661\n",
      "Epoch 11/50\n",
      "471/471 [==============================] - 3s 5ms/step - loss: 0.0840 - accuracy: 0.7628 - val_loss: 0.0838 - val_accuracy: 0.7698\n",
      "Epoch 12/50\n",
      "471/471 [==============================] - 2s 5ms/step - loss: 0.0834 - accuracy: 0.7643 - val_loss: 0.0837 - val_accuracy: 0.7677\n",
      "Epoch 13/50\n",
      "471/471 [==============================] - 2s 5ms/step - loss: 0.0833 - accuracy: 0.7684 - val_loss: 0.0842 - val_accuracy: 0.7690\n",
      "Epoch 14/50\n",
      "471/471 [==============================] - 2s 5ms/step - loss: 0.0822 - accuracy: 0.7712 - val_loss: 0.0828 - val_accuracy: 0.7725\n",
      "Epoch 15/50\n",
      "471/471 [==============================] - 2s 5ms/step - loss: 0.0817 - accuracy: 0.7753 - val_loss: 0.0820 - val_accuracy: 0.7802\n",
      "Epoch 16/50\n",
      "471/471 [==============================] - 2s 5ms/step - loss: 0.0812 - accuracy: 0.7773 - val_loss: 0.0811 - val_accuracy: 0.7749\n",
      "Epoch 17/50\n",
      "471/471 [==============================] - 2s 5ms/step - loss: 0.0795 - accuracy: 0.7822 - val_loss: 0.0805 - val_accuracy: 0.7791\n",
      "Epoch 18/50\n",
      "471/471 [==============================] - 2s 5ms/step - loss: 0.0788 - accuracy: 0.7843 - val_loss: 0.0802 - val_accuracy: 0.7799\n",
      "Epoch 19/50\n",
      "471/471 [==============================] - 2s 5ms/step - loss: 0.0778 - accuracy: 0.7881 - val_loss: 0.0785 - val_accuracy: 0.7876\n",
      "Epoch 20/50\n",
      "471/471 [==============================] - 2s 5ms/step - loss: 0.0773 - accuracy: 0.7892 - val_loss: 0.0792 - val_accuracy: 0.7852\n",
      "Epoch 21/50\n",
      "471/471 [==============================] - 2s 5ms/step - loss: 0.0762 - accuracy: 0.7941 - val_loss: 0.0760 - val_accuracy: 0.7977\n",
      "Epoch 22/50\n",
      "471/471 [==============================] - 2s 5ms/step - loss: 0.0758 - accuracy: 0.7947 - val_loss: 0.0793 - val_accuracy: 0.7746\n",
      "Epoch 23/50\n",
      "471/471 [==============================] - 2s 5ms/step - loss: 0.0754 - accuracy: 0.7968 - val_loss: 0.0789 - val_accuracy: 0.7839\n",
      "Epoch 24/50\n",
      "471/471 [==============================] - 2s 5ms/step - loss: 0.0741 - accuracy: 0.8009 - val_loss: 0.0763 - val_accuracy: 0.7953\n",
      "Epoch 25/50\n",
      "471/471 [==============================] - 2s 5ms/step - loss: 0.0739 - accuracy: 0.7988 - val_loss: 0.0753 - val_accuracy: 0.7932\n",
      "Epoch 26/50\n",
      "471/471 [==============================] - 2s 5ms/step - loss: 0.0729 - accuracy: 0.8010 - val_loss: 0.0741 - val_accuracy: 0.7964\n",
      "Epoch 27/50\n",
      "471/471 [==============================] - 3s 6ms/step - loss: 0.0726 - accuracy: 0.8022 - val_loss: 0.0726 - val_accuracy: 0.8041\n",
      "Epoch 28/50\n",
      "471/471 [==============================] - 3s 6ms/step - loss: 0.0731 - accuracy: 0.8020 - val_loss: 0.0754 - val_accuracy: 0.8020\n",
      "Epoch 29/50\n",
      "471/471 [==============================] - 2s 5ms/step - loss: 0.0722 - accuracy: 0.8047 - val_loss: 0.0740 - val_accuracy: 0.8014\n",
      "Epoch 30/50\n",
      "471/471 [==============================] - 2s 5ms/step - loss: 0.0706 - accuracy: 0.8069 - val_loss: 0.0716 - val_accuracy: 0.8075\n",
      "Epoch 31/50\n",
      "471/471 [==============================] - 2s 5ms/step - loss: 0.0710 - accuracy: 0.8079 - val_loss: 0.0766 - val_accuracy: 0.7945\n",
      "Epoch 32/50\n",
      "471/471 [==============================] - 2s 5ms/step - loss: 0.0714 - accuracy: 0.8045 - val_loss: 0.0707 - val_accuracy: 0.8126\n",
      "Epoch 33/50\n",
      "471/471 [==============================] - 2s 5ms/step - loss: 0.0692 - accuracy: 0.8143 - val_loss: 0.0710 - val_accuracy: 0.8110\n",
      "Epoch 34/50\n",
      "471/471 [==============================] - 2s 5ms/step - loss: 0.0686 - accuracy: 0.8143 - val_loss: 0.0710 - val_accuracy: 0.8118\n",
      "Epoch 35/50\n",
      "471/471 [==============================] - 2s 5ms/step - loss: 0.0683 - accuracy: 0.8131 - val_loss: 0.0693 - val_accuracy: 0.8115\n",
      "Epoch 36/50\n",
      "471/471 [==============================] - 2s 5ms/step - loss: 0.0682 - accuracy: 0.8185 - val_loss: 0.0680 - val_accuracy: 0.8203\n",
      "Epoch 37/50\n",
      "471/471 [==============================] - 2s 5ms/step - loss: 0.0677 - accuracy: 0.8171 - val_loss: 0.0668 - val_accuracy: 0.8216\n",
      "Epoch 38/50\n",
      "471/471 [==============================] - 2s 5ms/step - loss: 0.0673 - accuracy: 0.8187 - val_loss: 0.0679 - val_accuracy: 0.8229\n",
      "Epoch 39/50\n",
      "471/471 [==============================] - 2s 5ms/step - loss: 0.0650 - accuracy: 0.8268 - val_loss: 0.0731 - val_accuracy: 0.8102\n",
      "Epoch 40/50\n",
      "471/471 [==============================] - 2s 5ms/step - loss: 0.0666 - accuracy: 0.8214 - val_loss: 0.0682 - val_accuracy: 0.8203\n",
      "Epoch 41/50\n",
      "471/471 [==============================] - 2s 5ms/step - loss: 0.0657 - accuracy: 0.8256 - val_loss: 0.0666 - val_accuracy: 0.8272\n",
      "Epoch 42/50\n",
      "471/471 [==============================] - 2s 5ms/step - loss: 0.0648 - accuracy: 0.8270 - val_loss: 0.0652 - val_accuracy: 0.8293\n",
      "Epoch 43/50\n",
      "471/471 [==============================] - 2s 5ms/step - loss: 0.0630 - accuracy: 0.8327 - val_loss: 0.0661 - val_accuracy: 0.8274\n",
      "Epoch 44/50\n",
      "471/471 [==============================] - 2s 5ms/step - loss: 0.0622 - accuracy: 0.8367 - val_loss: 0.0625 - val_accuracy: 0.8330\n",
      "Epoch 45/50\n",
      "471/471 [==============================] - 2s 5ms/step - loss: 0.0632 - accuracy: 0.8327 - val_loss: 0.0740 - val_accuracy: 0.8033\n",
      "Epoch 46/50\n",
      "471/471 [==============================] - 2s 5ms/step - loss: 0.0636 - accuracy: 0.8323 - val_loss: 0.0662 - val_accuracy: 0.8248\n",
      "Epoch 47/50\n",
      "471/471 [==============================] - 2s 5ms/step - loss: 0.0645 - accuracy: 0.8282 - val_loss: 0.0666 - val_accuracy: 0.8288\n",
      "Epoch 48/50\n",
      "471/471 [==============================] - 2s 5ms/step - loss: 0.0640 - accuracy: 0.8295 - val_loss: 0.0625 - val_accuracy: 0.8373\n",
      "Epoch 49/50\n",
      "471/471 [==============================] - 2s 5ms/step - loss: 0.0608 - accuracy: 0.8405 - val_loss: 0.0620 - val_accuracy: 0.8450\n",
      "Epoch 50/50\n",
      "471/471 [==============================] - 2s 5ms/step - loss: 0.0596 - accuracy: 0.8426 - val_loss: 0.0616 - val_accuracy: 0.8362\n"
     ]
    },
    {
     "data": {
      "text/html": [
       "<span style=\"color:#4527A0\"><h1 style=\"font-size:18px\">Trial complete</h1></span>"
      ],
      "text/plain": [
       "<IPython.core.display.HTML object>"
      ]
     },
     "metadata": {
      "tags": []
     },
     "output_type": "display_data"
    },
    {
     "data": {
      "text/html": [
       "<span style=\"color:#4527A0\"><h1 style=\"font-size:18px\">Trial summary</h1></span>"
      ],
      "text/plain": [
       "<IPython.core.display.HTML object>"
      ]
     },
     "metadata": {
      "tags": []
     },
     "output_type": "display_data"
    },
    {
     "data": {
      "text/html": [
       "<span style=\"color:cyan\"> |-Trial ID: 576d0c47aa8d0d8d67f4f7f142f390f0</span>"
      ],
      "text/plain": [
       "<IPython.core.display.HTML object>"
      ]
     },
     "metadata": {
      "tags": []
     },
     "output_type": "display_data"
    },
    {
     "data": {
      "text/html": [
       "<span style=\"color:cyan\"> |-Score: 0.8510751128196716</span>"
      ],
      "text/plain": [
       "<IPython.core.display.HTML object>"
      ]
     },
     "metadata": {
      "tags": []
     },
     "output_type": "display_data"
    },
    {
     "data": {
      "text/html": [
       "<span style=\"color:cyan\"> |-Best step: 0</span>"
      ],
      "text/plain": [
       "<IPython.core.display.HTML object>"
      ]
     },
     "metadata": {
      "tags": []
     },
     "output_type": "display_data"
    },
    {
     "data": {
      "text/html": [
       "<span style=\"color:#7E57C2\"><h2 style=\"font-size:16px\">Hyperparameters:</h2></span>"
      ],
      "text/plain": [
       "<IPython.core.display.HTML object>"
      ]
     },
     "metadata": {
      "tags": []
     },
     "output_type": "display_data"
    },
    {
     "data": {
      "text/html": [
       "<span style=\"color:cyan\"> |-Input_layer: 286</span>"
      ],
      "text/plain": [
       "<IPython.core.display.HTML object>"
      ]
     },
     "metadata": {
      "tags": []
     },
     "output_type": "display_data"
    },
    {
     "data": {
      "text/html": [
       "<span style=\"color:blue\"> |-hidden_layer0: 441</span>"
      ],
      "text/plain": [
       "<IPython.core.display.HTML object>"
      ]
     },
     "metadata": {
      "tags": []
     },
     "output_type": "display_data"
    },
    {
     "data": {
      "text/html": [
       "<span style=\"color:cyan\"> |-hidden_layer1: 10</span>"
      ],
      "text/plain": [
       "<IPython.core.display.HTML object>"
      ]
     },
     "metadata": {
      "tags": []
     },
     "output_type": "display_data"
    },
    {
     "data": {
      "text/html": [
       "<span style=\"color:blue\"> |-hidden_layer2: 10</span>"
      ],
      "text/plain": [
       "<IPython.core.display.HTML object>"
      ]
     },
     "metadata": {
      "tags": []
     },
     "output_type": "display_data"
    },
    {
     "data": {
      "text/html": [
       "<span style=\"color:cyan\"> |-hidden_layer3: 10</span>"
      ],
      "text/plain": [
       "<IPython.core.display.HTML object>"
      ]
     },
     "metadata": {
      "tags": []
     },
     "output_type": "display_data"
    },
    {
     "data": {
      "text/html": [
       "<span style=\"color:blue\"> |-hidden_layer4: 10</span>"
      ],
      "text/plain": [
       "<IPython.core.display.HTML object>"
      ]
     },
     "metadata": {
      "tags": []
     },
     "output_type": "display_data"
    },
    {
     "data": {
      "text/html": [
       "<span style=\"color:cyan\"> |-hidden_layer5: 10</span>"
      ],
      "text/plain": [
       "<IPython.core.display.HTML object>"
      ]
     },
     "metadata": {
      "tags": []
     },
     "output_type": "display_data"
    },
    {
     "data": {
      "text/html": [
       "<span style=\"color:blue\"> |-hidden_layer6: 10</span>"
      ],
      "text/plain": [
       "<IPython.core.display.HTML object>"
      ]
     },
     "metadata": {
      "tags": []
     },
     "output_type": "display_data"
    },
    {
     "data": {
      "text/html": [
       "<span style=\"color:cyan\"> |-n_layers: 7</span>"
      ],
      "text/plain": [
       "<IPython.core.display.HTML object>"
      ]
     },
     "metadata": {
      "tags": []
     },
     "output_type": "display_data"
    },
    {
     "name": "stdout",
     "output_type": "stream",
     "text": [
      "INFO:tensorflow:Oracle triggered exit\n"
     ]
    }
   ],
   "source": [
    "pet_tuner = RandomSearch(\n",
    "    Pet_Model,\n",
    "    objective = \"val_accuracy\",\n",
    "    max_trials = 1,\n",
    "    executions_per_trial = 5,\n",
    "    directory = LOG_DIR_pet\n",
    ")\n",
    "\n",
    "pet_tuner.search(x = pet_x_train, \n",
    "             y = pet_y_train,\n",
    "             epochs = 50,\n",
    "             batch_size = 32,\n",
    "             validation_data = (pet_x_test,pet_y_test))"
   ]
  },
  {
   "cell_type": "code",
   "execution_count": 61,
   "metadata": {
    "colab": {
     "base_uri": "https://localhost:8080/",
     "height": 401
    },
    "colab_type": "code",
    "id": "fKEExsfTE19D",
    "outputId": "e33c9828-bffa-4818-cb52-898f74da8153"
   },
   "outputs": [
    {
     "data": {
      "text/html": [
       "<span style=\"color:#4527A0\"><h1 style=\"font-size:18px\">Results summary</h1></span>"
      ],
      "text/plain": [
       "<IPython.core.display.HTML object>"
      ]
     },
     "metadata": {
      "tags": []
     },
     "output_type": "display_data"
    },
    {
     "data": {
      "text/html": [
       "<span style=\"color:cyan\"> |-Results in 1597638804/untitled_project</span>"
      ],
      "text/plain": [
       "<IPython.core.display.HTML object>"
      ]
     },
     "metadata": {
      "tags": []
     },
     "output_type": "display_data"
    },
    {
     "data": {
      "text/html": [
       "<span style=\"color:cyan\"> |-Showing 10 best trials</span>"
      ],
      "text/plain": [
       "<IPython.core.display.HTML object>"
      ]
     },
     "metadata": {
      "tags": []
     },
     "output_type": "display_data"
    },
    {
     "data": {
      "text/html": [
       "<span style=\"color:cyan\"> |-Objective(name='val_accuracy', direction='max')</span>"
      ],
      "text/plain": [
       "<IPython.core.display.HTML object>"
      ]
     },
     "metadata": {
      "tags": []
     },
     "output_type": "display_data"
    },
    {
     "data": {
      "text/html": [
       "<span style=\"color:#4527A0\"><h1 style=\"font-size:18px\">Trial summary</h1></span>"
      ],
      "text/plain": [
       "<IPython.core.display.HTML object>"
      ]
     },
     "metadata": {
      "tags": []
     },
     "output_type": "display_data"
    },
    {
     "data": {
      "text/html": [
       "<span style=\"color:cyan\"> |-Trial ID: 576d0c47aa8d0d8d67f4f7f142f390f0</span>"
      ],
      "text/plain": [
       "<IPython.core.display.HTML object>"
      ]
     },
     "metadata": {
      "tags": []
     },
     "output_type": "display_data"
    },
    {
     "data": {
      "text/html": [
       "<span style=\"color:cyan\"> |-Score: 0.8510751128196716</span>"
      ],
      "text/plain": [
       "<IPython.core.display.HTML object>"
      ]
     },
     "metadata": {
      "tags": []
     },
     "output_type": "display_data"
    },
    {
     "data": {
      "text/html": [
       "<span style=\"color:cyan\"> |-Best step: 0</span>"
      ],
      "text/plain": [
       "<IPython.core.display.HTML object>"
      ]
     },
     "metadata": {
      "tags": []
     },
     "output_type": "display_data"
    },
    {
     "data": {
      "text/html": [
       "<span style=\"color:#7E57C2\"><h2 style=\"font-size:16px\">Hyperparameters:</h2></span>"
      ],
      "text/plain": [
       "<IPython.core.display.HTML object>"
      ]
     },
     "metadata": {
      "tags": []
     },
     "output_type": "display_data"
    },
    {
     "data": {
      "text/html": [
       "<span style=\"color:cyan\"> |-Input_layer: 286</span>"
      ],
      "text/plain": [
       "<IPython.core.display.HTML object>"
      ]
     },
     "metadata": {
      "tags": []
     },
     "output_type": "display_data"
    },
    {
     "data": {
      "text/html": [
       "<span style=\"color:blue\"> |-hidden_layer0: 441</span>"
      ],
      "text/plain": [
       "<IPython.core.display.HTML object>"
      ]
     },
     "metadata": {
      "tags": []
     },
     "output_type": "display_data"
    },
    {
     "data": {
      "text/html": [
       "<span style=\"color:cyan\"> |-hidden_layer1: 10</span>"
      ],
      "text/plain": [
       "<IPython.core.display.HTML object>"
      ]
     },
     "metadata": {
      "tags": []
     },
     "output_type": "display_data"
    },
    {
     "data": {
      "text/html": [
       "<span style=\"color:blue\"> |-hidden_layer2: 10</span>"
      ],
      "text/plain": [
       "<IPython.core.display.HTML object>"
      ]
     },
     "metadata": {
      "tags": []
     },
     "output_type": "display_data"
    },
    {
     "data": {
      "text/html": [
       "<span style=\"color:cyan\"> |-hidden_layer3: 10</span>"
      ],
      "text/plain": [
       "<IPython.core.display.HTML object>"
      ]
     },
     "metadata": {
      "tags": []
     },
     "output_type": "display_data"
    },
    {
     "data": {
      "text/html": [
       "<span style=\"color:blue\"> |-hidden_layer4: 10</span>"
      ],
      "text/plain": [
       "<IPython.core.display.HTML object>"
      ]
     },
     "metadata": {
      "tags": []
     },
     "output_type": "display_data"
    },
    {
     "data": {
      "text/html": [
       "<span style=\"color:cyan\"> |-hidden_layer5: 10</span>"
      ],
      "text/plain": [
       "<IPython.core.display.HTML object>"
      ]
     },
     "metadata": {
      "tags": []
     },
     "output_type": "display_data"
    },
    {
     "data": {
      "text/html": [
       "<span style=\"color:blue\"> |-hidden_layer6: 10</span>"
      ],
      "text/plain": [
       "<IPython.core.display.HTML object>"
      ]
     },
     "metadata": {
      "tags": []
     },
     "output_type": "display_data"
    },
    {
     "data": {
      "text/html": [
       "<span style=\"color:cyan\"> |-n_layers: 7</span>"
      ],
      "text/plain": [
       "<IPython.core.display.HTML object>"
      ]
     },
     "metadata": {
      "tags": []
     },
     "output_type": "display_data"
    },
    {
     "name": "stdout",
     "output_type": "stream",
     "text": [
      "None\n"
     ]
    }
   ],
   "source": [
    "print(pet_tuner.results_summary())"
   ]
  },
  {
   "cell_type": "code",
   "execution_count": 63,
   "metadata": {
    "colab": {
     "base_uri": "https://localhost:8080/",
     "height": 904
    },
    "colab_type": "code",
    "id": "X9Avv1r0E-B4",
    "outputId": "c5c94e07-3930-4ae4-a5e1-fa1a72dc1aa9"
   },
   "outputs": [
    {
     "name": "stdout",
     "output_type": "stream",
     "text": [
      "Model: \"sequential\"\n",
      "_________________________________________________________________\n",
      "Layer (type)                 Output Shape              Param #   \n",
      "=================================================================\n",
      "dense (Dense)                (None, 18834, 286)        1430      \n",
      "_________________________________________________________________\n",
      "activation (Activation)      (None, 18834, 286)        0         \n",
      "_________________________________________________________________\n",
      "dense_1 (Dense)              (None, 18834, 441)        126567    \n",
      "_________________________________________________________________\n",
      "activation_1 (Activation)    (None, 18834, 441)        0         \n",
      "_________________________________________________________________\n",
      "dense_2 (Dense)              (None, 18834, 10)         4420      \n",
      "_________________________________________________________________\n",
      "activation_2 (Activation)    (None, 18834, 10)         0         \n",
      "_________________________________________________________________\n",
      "dense_3 (Dense)              (None, 18834, 10)         110       \n",
      "_________________________________________________________________\n",
      "activation_3 (Activation)    (None, 18834, 10)         0         \n",
      "_________________________________________________________________\n",
      "dense_4 (Dense)              (None, 18834, 10)         110       \n",
      "_________________________________________________________________\n",
      "activation_4 (Activation)    (None, 18834, 10)         0         \n",
      "_________________________________________________________________\n",
      "dense_5 (Dense)              (None, 18834, 10)         110       \n",
      "_________________________________________________________________\n",
      "activation_5 (Activation)    (None, 18834, 10)         0         \n",
      "_________________________________________________________________\n",
      "dense_6 (Dense)              (None, 18834, 10)         110       \n",
      "_________________________________________________________________\n",
      "activation_6 (Activation)    (None, 18834, 10)         0         \n",
      "_________________________________________________________________\n",
      "dense_7 (Dense)              (None, 18834, 10)         110       \n",
      "_________________________________________________________________\n",
      "activation_7 (Activation)    (None, 18834, 10)         0         \n",
      "_________________________________________________________________\n",
      "dense_8 (Dense)              (None, 18834, 4)          44        \n",
      "_________________________________________________________________\n",
      "activation_8 (Activation)    (None, 18834, 4)          0         \n",
      "=================================================================\n",
      "Total params: 133,011\n",
      "Trainable params: 133,011\n",
      "Non-trainable params: 0\n",
      "_________________________________________________________________\n",
      "WARNING:tensorflow:Unresolved object in checkpoint: (root).optimizer.iter\n",
      "WARNING:tensorflow:Unresolved object in checkpoint: (root).optimizer.beta_1\n",
      "WARNING:tensorflow:Unresolved object in checkpoint: (root).optimizer.beta_2\n",
      "WARNING:tensorflow:Unresolved object in checkpoint: (root).optimizer.decay\n",
      "WARNING:tensorflow:Unresolved object in checkpoint: (root).optimizer.learning_rate\n",
      "WARNING:tensorflow:A checkpoint was restored (e.g. tf.train.Checkpoint.restore or tf.keras.Model.load_weights) but not all checkpointed values were used. See above for specific issues. Use expect_partial() on the load status object, e.g. tf.train.Checkpoint.restore(...).expect_partial(), to silence these warnings, or use assert_consumed() to make the check explicit. See https://www.tensorflow.org/guide/checkpoint#loading_mechanics for details.\n",
      "None\n"
     ]
    }
   ],
   "source": [
    "print(pet_tuner.get_best_models()[0].summary())"
   ]
  },
  {
   "cell_type": "markdown",
   "metadata": {
    "colab_type": "text",
    "id": "_Yoqa0Q6Yclw"
   },
   "source": [
    "##Breed Model\n"
   ]
  },
  {
   "cell_type": "code",
   "execution_count": null,
   "metadata": {
    "colab": {},
    "colab_type": "code",
    "id": "Na50KYtqSLgc"
   },
   "outputs": [],
   "source": [
    "def Breed_Model(hp):\n",
    "  model = Sequential()\n",
    "  model.add(Dense(hp.Int(\"Input_layer\", min_value = 5, max_value = 100, step = 1), input_shape = (features.shape)))\n",
    "  model.add(Activation(\"relu\"))\n",
    "  \n",
    "  for i in range(hp.Int(\"n_layers\", 1, 4)): \n",
    "    model.add(Dense(hp.Int(f\"hidden_layer{i}\", min_value = 10, max_value = 300, step = 10)))\n",
    "    model.add(Activation(\"relu\"))\n",
    " \n",
    "  model.add(Dense(3))\n",
    "  model.add(Activation(\"softmax\"))\n",
    "\n",
    "  model.compile(optimizer = \"adam\", loss = \"mse\", metrics = [\"accuracy\"])\n",
    "\n",
    "  return model"
   ]
  },
  {
   "cell_type": "code",
   "execution_count": null,
   "metadata": {
    "colab": {
     "base_uri": "https://localhost:8080/",
     "height": 519
    },
    "colab_type": "code",
    "id": "eIxrN0SP4UQ9",
    "outputId": "66a6c36b-c0a4-4290-e6a6-ad8b3bef00c8"
   },
   "outputs": [
    {
     "name": "stdout",
     "output_type": "stream",
     "text": [
      "Epoch 1/5\n",
      "WARNING:tensorflow:Model was constructed with shape (None, 18834, 4) for input Tensor(\"dense_input:0\", shape=(None, 18834, 4), dtype=float32), but it was called on an input with incompatible shape (None, 4).\n",
      "WARNING:tensorflow:Model was constructed with shape (None, 18834, 4) for input Tensor(\"dense_input:0\", shape=(None, 18834, 4), dtype=float32), but it was called on an input with incompatible shape (None, 4).\n",
      "467/471 [============================>.] - ETA: 0s - loss: 0.0860 - accuracy: 0.8001WARNING:tensorflow:Model was constructed with shape (None, 18834, 4) for input Tensor(\"dense_input:0\", shape=(None, 18834, 4), dtype=float32), but it was called on an input with incompatible shape (None, 4).\n",
      "471/471 [==============================] - 1s 2ms/step - loss: 0.0856 - accuracy: 0.8009 - val_loss: 0.0474 - val_accuracy: 0.8784\n",
      "Epoch 2/5\n",
      "471/471 [==============================] - 1s 2ms/step - loss: 0.0414 - accuracy: 0.8882 - val_loss: 0.0375 - val_accuracy: 0.8954\n",
      "Epoch 3/5\n",
      "471/471 [==============================] - 1s 2ms/step - loss: 0.0382 - accuracy: 0.8931 - val_loss: 0.0373 - val_accuracy: 0.8877\n",
      "Epoch 4/5\n",
      "471/471 [==============================] - 1s 2ms/step - loss: 0.0382 - accuracy: 0.8903 - val_loss: 0.0372 - val_accuracy: 0.8965\n",
      "Epoch 5/5\n",
      "471/471 [==============================] - 1s 2ms/step - loss: 0.0379 - accuracy: 0.8940 - val_loss: 0.0373 - val_accuracy: 0.8925\n"
     ]
    },
    {
     "data": {
      "text/html": [
       "<span style=\"color:#4527A0\"><h1 style=\"font-size:18px\">Trial complete</h1></span>"
      ],
      "text/plain": [
       "<IPython.core.display.HTML object>"
      ]
     },
     "metadata": {
      "tags": []
     },
     "output_type": "display_data"
    },
    {
     "data": {
      "text/html": [
       "<span style=\"color:#4527A0\"><h1 style=\"font-size:18px\">Trial summary</h1></span>"
      ],
      "text/plain": [
       "<IPython.core.display.HTML object>"
      ]
     },
     "metadata": {
      "tags": []
     },
     "output_type": "display_data"
    },
    {
     "data": {
      "text/html": [
       "<span style=\"color:cyan\"> |-Trial ID: 9ffc29215a4d058213a0e91bb63f9b8f</span>"
      ],
      "text/plain": [
       "<IPython.core.display.HTML object>"
      ]
     },
     "metadata": {
      "tags": []
     },
     "output_type": "display_data"
    },
    {
     "data": {
      "text/html": [
       "<span style=\"color:cyan\"> |-Score: 0.8964693546295166</span>"
      ],
      "text/plain": [
       "<IPython.core.display.HTML object>"
      ]
     },
     "metadata": {
      "tags": []
     },
     "output_type": "display_data"
    },
    {
     "data": {
      "text/html": [
       "<span style=\"color:cyan\"> |-Best step: 0</span>"
      ],
      "text/plain": [
       "<IPython.core.display.HTML object>"
      ]
     },
     "metadata": {
      "tags": []
     },
     "output_type": "display_data"
    },
    {
     "data": {
      "text/html": [
       "<span style=\"color:#7E57C2\"><h2 style=\"font-size:16px\">Hyperparameters:</h2></span>"
      ],
      "text/plain": [
       "<IPython.core.display.HTML object>"
      ]
     },
     "metadata": {
      "tags": []
     },
     "output_type": "display_data"
    },
    {
     "data": {
      "text/html": [
       "<span style=\"color:cyan\"> |-Input_layer: 40</span>"
      ],
      "text/plain": [
       "<IPython.core.display.HTML object>"
      ]
     },
     "metadata": {
      "tags": []
     },
     "output_type": "display_data"
    },
    {
     "data": {
      "text/html": [
       "<span style=\"color:blue\"> |-hidden_layer0: 80</span>"
      ],
      "text/plain": [
       "<IPython.core.display.HTML object>"
      ]
     },
     "metadata": {
      "tags": []
     },
     "output_type": "display_data"
    },
    {
     "data": {
      "text/html": [
       "<span style=\"color:cyan\"> |-hidden_layer1: 10</span>"
      ],
      "text/plain": [
       "<IPython.core.display.HTML object>"
      ]
     },
     "metadata": {
      "tags": []
     },
     "output_type": "display_data"
    },
    {
     "data": {
      "text/html": [
       "<span style=\"color:blue\"> |-hidden_layer2: 10</span>"
      ],
      "text/plain": [
       "<IPython.core.display.HTML object>"
      ]
     },
     "metadata": {
      "tags": []
     },
     "output_type": "display_data"
    },
    {
     "data": {
      "text/html": [
       "<span style=\"color:cyan\"> |-n_layers: 3</span>"
      ],
      "text/plain": [
       "<IPython.core.display.HTML object>"
      ]
     },
     "metadata": {
      "tags": []
     },
     "output_type": "display_data"
    },
    {
     "name": "stdout",
     "output_type": "stream",
     "text": [
      "INFO:tensorflow:Oracle triggered exit\n"
     ]
    }
   ],
   "source": [
    "breed_tuner = RandomSearch(\n",
    "    Breed_Model,\n",
    "    objective = \"val_accuracy\",\n",
    "    max_trials = 1,\n",
    "    executions_per_trial = 1,\n",
    "    directory = LOG_DIR_breed\n",
    ")\n",
    "\n",
    "breed_tuner.search(x = breed_x_train, \n",
    "             y = breed_y_train,\n",
    "             epochs = 5,\n",
    "             batch_size = 32,\n",
    "             validation_data = (breed_x_test,breed_y_test))"
   ]
  },
  {
   "cell_type": "code",
   "execution_count": null,
   "metadata": {
    "colab": {
     "base_uri": "https://localhost:8080/",
     "height": 34
    },
    "colab_type": "code",
    "id": "rBLiXnqG5ptY",
    "outputId": "80b5610b-be69-4397-8702-107c4ddcdfe7"
   },
   "outputs": [
    {
     "name": "stdout",
     "output_type": "stream",
     "text": [
      "{'Input_layer': 40, 'n_layers': 3, 'hidden_layer0': 80, 'hidden_layer1': 10, 'hidden_layer2': 10}\n"
     ]
    }
   ],
   "source": [
    "print(breed_tuner.get_best_hyperparameters()[0].values)"
   ]
  },
  {
   "cell_type": "code",
   "execution_count": null,
   "metadata": {
    "colab": {
     "base_uri": "https://localhost:8080/",
     "height": 333
    },
    "colab_type": "code",
    "id": "1tl95YNh95et",
    "outputId": "bc5500fa-8410-43d3-b262-9ea0b6906b4c"
   },
   "outputs": [
    {
     "data": {
      "text/html": [
       "<span style=\"color:#4527A0\"><h1 style=\"font-size:18px\">Results summary</h1></span>"
      ],
      "text/plain": [
       "<IPython.core.display.HTML object>"
      ]
     },
     "metadata": {
      "tags": []
     },
     "output_type": "display_data"
    },
    {
     "data": {
      "text/html": [
       "<span style=\"color:cyan\"> |-Results in 1597638804/untitled_project</span>"
      ],
      "text/plain": [
       "<IPython.core.display.HTML object>"
      ]
     },
     "metadata": {
      "tags": []
     },
     "output_type": "display_data"
    },
    {
     "data": {
      "text/html": [
       "<span style=\"color:cyan\"> |-Showing 10 best trials</span>"
      ],
      "text/plain": [
       "<IPython.core.display.HTML object>"
      ]
     },
     "metadata": {
      "tags": []
     },
     "output_type": "display_data"
    },
    {
     "data": {
      "text/html": [
       "<span style=\"color:cyan\"> |-Objective(name='val_accuracy', direction='max')</span>"
      ],
      "text/plain": [
       "<IPython.core.display.HTML object>"
      ]
     },
     "metadata": {
      "tags": []
     },
     "output_type": "display_data"
    },
    {
     "data": {
      "text/html": [
       "<span style=\"color:#4527A0\"><h1 style=\"font-size:18px\">Trial summary</h1></span>"
      ],
      "text/plain": [
       "<IPython.core.display.HTML object>"
      ]
     },
     "metadata": {
      "tags": []
     },
     "output_type": "display_data"
    },
    {
     "data": {
      "text/html": [
       "<span style=\"color:cyan\"> |-Trial ID: 9ffc29215a4d058213a0e91bb63f9b8f</span>"
      ],
      "text/plain": [
       "<IPython.core.display.HTML object>"
      ]
     },
     "metadata": {
      "tags": []
     },
     "output_type": "display_data"
    },
    {
     "data": {
      "text/html": [
       "<span style=\"color:cyan\"> |-Score: 0.8964693546295166</span>"
      ],
      "text/plain": [
       "<IPython.core.display.HTML object>"
      ]
     },
     "metadata": {
      "tags": []
     },
     "output_type": "display_data"
    },
    {
     "data": {
      "text/html": [
       "<span style=\"color:cyan\"> |-Best step: 0</span>"
      ],
      "text/plain": [
       "<IPython.core.display.HTML object>"
      ]
     },
     "metadata": {
      "tags": []
     },
     "output_type": "display_data"
    },
    {
     "data": {
      "text/html": [
       "<span style=\"color:#7E57C2\"><h2 style=\"font-size:16px\">Hyperparameters:</h2></span>"
      ],
      "text/plain": [
       "<IPython.core.display.HTML object>"
      ]
     },
     "metadata": {
      "tags": []
     },
     "output_type": "display_data"
    },
    {
     "data": {
      "text/html": [
       "<span style=\"color:cyan\"> |-Input_layer: 40</span>"
      ],
      "text/plain": [
       "<IPython.core.display.HTML object>"
      ]
     },
     "metadata": {
      "tags": []
     },
     "output_type": "display_data"
    },
    {
     "data": {
      "text/html": [
       "<span style=\"color:blue\"> |-hidden_layer0: 80</span>"
      ],
      "text/plain": [
       "<IPython.core.display.HTML object>"
      ]
     },
     "metadata": {
      "tags": []
     },
     "output_type": "display_data"
    },
    {
     "data": {
      "text/html": [
       "<span style=\"color:cyan\"> |-hidden_layer1: 10</span>"
      ],
      "text/plain": [
       "<IPython.core.display.HTML object>"
      ]
     },
     "metadata": {
      "tags": []
     },
     "output_type": "display_data"
    },
    {
     "data": {
      "text/html": [
       "<span style=\"color:blue\"> |-hidden_layer2: 10</span>"
      ],
      "text/plain": [
       "<IPython.core.display.HTML object>"
      ]
     },
     "metadata": {
      "tags": []
     },
     "output_type": "display_data"
    },
    {
     "data": {
      "text/html": [
       "<span style=\"color:cyan\"> |-n_layers: 3</span>"
      ],
      "text/plain": [
       "<IPython.core.display.HTML object>"
      ]
     },
     "metadata": {
      "tags": []
     },
     "output_type": "display_data"
    },
    {
     "name": "stdout",
     "output_type": "stream",
     "text": [
      "None\n"
     ]
    }
   ],
   "source": [
    "print(breed_tuner.results_summary())"
   ]
  },
  {
   "cell_type": "code",
   "execution_count": null,
   "metadata": {
    "colab": {
     "base_uri": "https://localhost:8080/",
     "height": 632
    },
    "colab_type": "code",
    "id": "VFtPXkzu-FAG",
    "outputId": "69e030b9-b7cd-4486-f17a-340985d1a85e"
   },
   "outputs": [
    {
     "name": "stdout",
     "output_type": "stream",
     "text": [
      "Model: \"sequential\"\n",
      "_________________________________________________________________\n",
      "Layer (type)                 Output Shape              Param #   \n",
      "=================================================================\n",
      "dense (Dense)                (None, 18834, 40)         200       \n",
      "_________________________________________________________________\n",
      "activation (Activation)      (None, 18834, 40)         0         \n",
      "_________________________________________________________________\n",
      "dense_1 (Dense)              (None, 18834, 80)         3280      \n",
      "_________________________________________________________________\n",
      "activation_1 (Activation)    (None, 18834, 80)         0         \n",
      "_________________________________________________________________\n",
      "dense_2 (Dense)              (None, 18834, 10)         810       \n",
      "_________________________________________________________________\n",
      "activation_2 (Activation)    (None, 18834, 10)         0         \n",
      "_________________________________________________________________\n",
      "dense_3 (Dense)              (None, 18834, 10)         110       \n",
      "_________________________________________________________________\n",
      "activation_3 (Activation)    (None, 18834, 10)         0         \n",
      "_________________________________________________________________\n",
      "dense_4 (Dense)              (None, 18834, 3)          33        \n",
      "_________________________________________________________________\n",
      "activation_4 (Activation)    (None, 18834, 3)          0         \n",
      "=================================================================\n",
      "Total params: 4,433\n",
      "Trainable params: 4,433\n",
      "Non-trainable params: 0\n",
      "_________________________________________________________________\n",
      "WARNING:tensorflow:Unresolved object in checkpoint: (root).optimizer.iter\n",
      "WARNING:tensorflow:Unresolved object in checkpoint: (root).optimizer.beta_1\n",
      "WARNING:tensorflow:Unresolved object in checkpoint: (root).optimizer.beta_2\n",
      "WARNING:tensorflow:Unresolved object in checkpoint: (root).optimizer.decay\n",
      "WARNING:tensorflow:Unresolved object in checkpoint: (root).optimizer.learning_rate\n",
      "WARNING:tensorflow:A checkpoint was restored (e.g. tf.train.Checkpoint.restore or tf.keras.Model.load_weights) but not all checkpointed values were used. See above for specific issues. Use expect_partial() on the load status object, e.g. tf.train.Checkpoint.restore(...).expect_partial(), to silence these warnings, or use assert_consumed() to make the check explicit. See https://www.tensorflow.org/guide/checkpoint#loading_mechanics for details.\n",
      "None\n"
     ]
    }
   ],
   "source": [
    "print(breed_tuner.get_best_models()[0].summary())"
   ]
  },
  {
   "cell_type": "code",
   "execution_count": null,
   "metadata": {
    "colab": {},
    "colab_type": "code",
    "id": "WgY50cBIrqFP"
   },
   "outputs": [],
   "source": [
    "import pickle\n",
    "with open(f\"breed_tuner{int(time.time())}.pkl\", \"wb\") as f:\n",
    "  pickle.dump(breed_tuner, f)"
   ]
  },
  {
   "cell_type": "markdown",
   "metadata": {
    "colab_type": "text",
    "id": "Q0DK-RkUnJ0c"
   },
   "source": []
  },
  {
   "cell_type": "markdown",
   "metadata": {
    "colab_type": "text",
    "id": "IZFOKAcI37Up"
   },
   "source": [
    "##DUMPING"
   ]
  },
  {
   "cell_type": "code",
   "execution_count": null,
   "metadata": {
    "colab": {},
    "colab_type": "code",
    "id": "ZQLFyGk7pSJN"
   },
   "outputs": [],
   "source": [
    "import pickle\n",
    "with open(f\"pet_tuner{int(time.time())}.pkl\", \"wb\") as f:\n",
    "  pickle.dump(pet_tuner, f)"
   ]
  },
  {
   "cell_type": "code",
   "execution_count": null,
   "metadata": {
    "colab": {
     "base_uri": "https://localhost:8080/",
     "height": 180
    },
    "colab_type": "code",
    "id": "ragsJvxM3JWh",
    "outputId": "464f063c-8be3-422f-da83-448ae1450638"
   },
   "outputs": [
    {
     "ename": "EOFError",
     "evalue": "ignored",
     "output_type": "error",
     "traceback": [
      "\u001b[0;31m---------------------------------------------------------------------------\u001b[0m",
      "\u001b[0;31mEOFError\u001b[0m                                  Traceback (most recent call last)",
      "\u001b[0;32m<ipython-input-32-ebf422355572>\u001b[0m in \u001b[0;36m<module>\u001b[0;34m()\u001b[0m\n\u001b[0;32m----> 1\u001b[0;31m \u001b[0mpet_tuned\u001b[0m \u001b[0;34m=\u001b[0m \u001b[0mpickle\u001b[0m\u001b[0;34m.\u001b[0m\u001b[0mload\u001b[0m\u001b[0;34m(\u001b[0m\u001b[0mopen\u001b[0m\u001b[0;34m(\u001b[0m\u001b[0;34m\"pet_tuner1597638912.pkl\"\u001b[0m\u001b[0;34m,\u001b[0m \u001b[0;34m\"rb\"\u001b[0m\u001b[0;34m)\u001b[0m\u001b[0;34m)\u001b[0m\u001b[0;34m\u001b[0m\u001b[0;34m\u001b[0m\u001b[0m\n\u001b[0m\u001b[1;32m      2\u001b[0m \u001b[0mprint\u001b[0m\u001b[0;34m(\u001b[0m\u001b[0mpet_tuned\u001b[0m\u001b[0;34m.\u001b[0m\u001b[0mresults_summary\u001b[0m\u001b[0;34m(\u001b[0m\u001b[0;34m)\u001b[0m\u001b[0;34m)\u001b[0m\u001b[0;34m\u001b[0m\u001b[0;34m\u001b[0m\u001b[0m\n",
      "\u001b[0;31mEOFError\u001b[0m: Ran out of input"
     ]
    }
   ],
   "source": [
    "pet_tuned = pickle.load(open(\"pet_tuner1597638912.pkl\", \"rb\"))\n",
    "print(pet_tuned.results_summary())"
   ]
  },
  {
   "cell_type": "code",
   "execution_count": null,
   "metadata": {
    "colab": {
     "base_uri": "https://localhost:8080/",
     "height": 333
    },
    "colab_type": "code",
    "id": "koiiIqwy3J1O",
    "outputId": "4ad1778b-f3e8-4e6e-cec9-0fcb4d90e114"
   },
   "outputs": [
    {
     "data": {
      "text/html": [
       "<span style=\"color:#4527A0\"><h1 style=\"font-size:18px\">Results summary</h1></span>"
      ],
      "text/plain": [
       "<IPython.core.display.HTML object>"
      ]
     },
     "metadata": {
      "tags": []
     },
     "output_type": "display_data"
    },
    {
     "data": {
      "text/html": [
       "<span style=\"color:cyan\"> |-Results in 1597638804/untitled_project</span>"
      ],
      "text/plain": [
       "<IPython.core.display.HTML object>"
      ]
     },
     "metadata": {
      "tags": []
     },
     "output_type": "display_data"
    },
    {
     "data": {
      "text/html": [
       "<span style=\"color:cyan\"> |-Showing 10 best trials</span>"
      ],
      "text/plain": [
       "<IPython.core.display.HTML object>"
      ]
     },
     "metadata": {
      "tags": []
     },
     "output_type": "display_data"
    },
    {
     "data": {
      "text/html": [
       "<span style=\"color:cyan\"> |-Objective(name='val_accuracy', direction='max')</span>"
      ],
      "text/plain": [
       "<IPython.core.display.HTML object>"
      ]
     },
     "metadata": {
      "tags": []
     },
     "output_type": "display_data"
    },
    {
     "data": {
      "text/html": [
       "<span style=\"color:#4527A0\"><h1 style=\"font-size:18px\">Trial summary</h1></span>"
      ],
      "text/plain": [
       "<IPython.core.display.HTML object>"
      ]
     },
     "metadata": {
      "tags": []
     },
     "output_type": "display_data"
    },
    {
     "data": {
      "text/html": [
       "<span style=\"color:cyan\"> |-Trial ID: 9ffc29215a4d058213a0e91bb63f9b8f</span>"
      ],
      "text/plain": [
       "<IPython.core.display.HTML object>"
      ]
     },
     "metadata": {
      "tags": []
     },
     "output_type": "display_data"
    },
    {
     "data": {
      "text/html": [
       "<span style=\"color:cyan\"> |-Score: 0.8964693546295166</span>"
      ],
      "text/plain": [
       "<IPython.core.display.HTML object>"
      ]
     },
     "metadata": {
      "tags": []
     },
     "output_type": "display_data"
    },
    {
     "data": {
      "text/html": [
       "<span style=\"color:cyan\"> |-Best step: 0</span>"
      ],
      "text/plain": [
       "<IPython.core.display.HTML object>"
      ]
     },
     "metadata": {
      "tags": []
     },
     "output_type": "display_data"
    },
    {
     "data": {
      "text/html": [
       "<span style=\"color:#7E57C2\"><h2 style=\"font-size:16px\">Hyperparameters:</h2></span>"
      ],
      "text/plain": [
       "<IPython.core.display.HTML object>"
      ]
     },
     "metadata": {
      "tags": []
     },
     "output_type": "display_data"
    },
    {
     "data": {
      "text/html": [
       "<span style=\"color:cyan\"> |-Input_layer: 40</span>"
      ],
      "text/plain": [
       "<IPython.core.display.HTML object>"
      ]
     },
     "metadata": {
      "tags": []
     },
     "output_type": "display_data"
    },
    {
     "data": {
      "text/html": [
       "<span style=\"color:blue\"> |-hidden_layer0: 80</span>"
      ],
      "text/plain": [
       "<IPython.core.display.HTML object>"
      ]
     },
     "metadata": {
      "tags": []
     },
     "output_type": "display_data"
    },
    {
     "data": {
      "text/html": [
       "<span style=\"color:cyan\"> |-hidden_layer1: 10</span>"
      ],
      "text/plain": [
       "<IPython.core.display.HTML object>"
      ]
     },
     "metadata": {
      "tags": []
     },
     "output_type": "display_data"
    },
    {
     "data": {
      "text/html": [
       "<span style=\"color:blue\"> |-hidden_layer2: 10</span>"
      ],
      "text/plain": [
       "<IPython.core.display.HTML object>"
      ]
     },
     "metadata": {
      "tags": []
     },
     "output_type": "display_data"
    },
    {
     "data": {
      "text/html": [
       "<span style=\"color:cyan\"> |-n_layers: 3</span>"
      ],
      "text/plain": [
       "<IPython.core.display.HTML object>"
      ]
     },
     "metadata": {
      "tags": []
     },
     "output_type": "display_data"
    },
    {
     "name": "stdout",
     "output_type": "stream",
     "text": [
      "None\n"
     ]
    }
   ],
   "source": [
    "breed_tuned = pickle.load(open(\"breed_tuner1597638931.pkl\", \"rb\"))\n",
    "print(breed_tuned.results_summary())"
   ]
  },
  {
   "cell_type": "markdown",
   "metadata": {
    "colab_type": "text",
    "id": "ob7cebxla9oK"
   },
   "source": [
    "##Model building"
   ]
  },
  {
   "cell_type": "code",
   "execution_count": null,
   "metadata": {
    "colab": {},
    "colab_type": "code",
    "id": "NYiHFIO33rxr"
   },
   "outputs": [],
   "source": [
    "pet_model = Sequential()\n",
    "pet_model.add(Dense(7, input_shape = (pet_x_train.shape)))\n",
    "pet_model.add(Activation(\"relu\"))\n",
    "\n",
    "pet_model.add(Dense(21))\n",
    "pet_model.add(Activation(\"relu\"))\n",
    "pet_model.add(Dense(21))\n",
    "\n",
    "pet_model.add(Dense(4))\n",
    "pet_model.add(Activation(\"softmax\"))\n",
    "\n",
    "pet_model.compile(optimizer = Adam(lr = 0.0039810717055349725), loss = \"mse\", metrics = \"accuracy\")\n",
    "lr_scheduler = LearningRateScheduler(lambda epoch: 1e-3*10**(epoch/20))\n",
    "pet_model.summary()"
   ]
  },
  {
   "cell_type": "markdown",
   "metadata": {
    "colab_type": "text",
    "id": "cI7h6wjWn8AH"
   },
   "source": [
    "##XGBOOST approach"
   ]
  },
  {
   "cell_type": "code",
   "execution_count": 20,
   "metadata": {
    "colab": {
     "base_uri": "https://localhost:8080/",
     "height": 85
    },
    "colab_type": "code",
    "id": "UtOofj-mn-vq",
    "outputId": "35d141d3-6664-416c-b7b5-cbc2a0340a86"
   },
   "outputs": [
    {
     "name": "stdout",
     "output_type": "stream",
     "text": [
      "Shape of breed_x_train : (15067, 4)\n",
      "Shape of breed_y_train : (15067,)\n",
      "Shape of breed_x_test : (3767, 4)\n",
      "Shape of breed_y_test : (3767,)\n"
     ]
    }
   ],
   "source": [
    "breed_x_train, breed_x_test, breed_y_train, breed_y_test = train_test_split(features, breed_label, random_state = 10, test_size = 0.2)\n",
    "print(f\"Shape of breed_x_train : {breed_x_train.shape}\")\n",
    "print(f\"Shape of breed_y_train : {breed_y_train.shape}\")\n",
    "print(f\"Shape of breed_x_test : {breed_x_test.shape}\")\n",
    "print(f\"Shape of breed_y_test : {breed_y_test.shape}\")"
   ]
  },
  {
   "cell_type": "code",
   "execution_count": 21,
   "metadata": {
    "colab": {
     "base_uri": "https://localhost:8080/",
     "height": 85
    },
    "colab_type": "code",
    "id": "RZkFvZbPoH2K",
    "outputId": "6f2aa742-1a56-4a89-8215-1fcdade64276"
   },
   "outputs": [
    {
     "name": "stdout",
     "output_type": "stream",
     "text": [
      "Shape of pet_x_train : (15067, 4)\n",
      "Shape of pet_y_train : (15067,)\n",
      "Shape of pet_x_test : (3767, 4)\n",
      "Shape of pet_y_test : (3767,)\n"
     ]
    }
   ],
   "source": [
    "pet_x_train, pet_x_test, pet_y_train, pet_y_test = train_test_split(features, pet_label, random_state = 10, test_size = 0.2)\n",
    "print(f\"Shape of pet_x_train : {pet_x_train.shape}\")\n",
    "print(f\"Shape of pet_y_train : {pet_y_train.shape}\")\n",
    "print(f\"Shape of pet_x_test : {pet_x_test.shape}\")\n",
    "print(f\"Shape of pet_y_test : {pet_y_test.shape}\")"
   ]
  },
  {
   "cell_type": "code",
   "execution_count": 22,
   "metadata": {
    "colab": {
     "base_uri": "https://localhost:8080/",
     "height": 136
    },
    "colab_type": "code",
    "id": "QoztOBLfnZyc",
    "outputId": "1b668de6-ed8f-4314-fcba-92e0395308ab"
   },
   "outputs": [
    {
     "data": {
      "text/plain": [
       "XGBClassifier(base_score=0.5, booster='gbtree', colsample_bylevel=1,\n",
       "              colsample_bynode=1, colsample_bytree=1, gamma=0,\n",
       "              learning_rate=0.1, max_delta_step=0, max_depth=3,\n",
       "              min_child_weight=1, missing=None, n_estimators=100, n_jobs=1,\n",
       "              nthread=None, objective='multi:softprob', random_state=0,\n",
       "              reg_alpha=0, reg_lambda=1, scale_pos_weight=1, seed=None,\n",
       "              silent=None, subsample=1, verbosity=1)"
      ]
     },
     "execution_count": 22,
     "metadata": {
      "tags": []
     },
     "output_type": "execute_result"
    }
   ],
   "source": [
    "from xgboost import XGBClassifier\n",
    "breed_classifier = XGBClassifier()\n",
    "breed_classifier.fit(breed_x_train, breed_y_train)"
   ]
  },
  {
   "cell_type": "code",
   "execution_count": 27,
   "metadata": {
    "colab": {
     "base_uri": "https://localhost:8080/",
     "height": 221
    },
    "colab_type": "code",
    "id": "XkCMN1jKoVyG",
    "outputId": "a1d4b35c-ae88-46aa-c9f4-8e1bcc083f05"
   },
   "outputs": [
    {
     "name": "stdout",
     "output_type": "stream",
     "text": [
      "accuracy for breed_classifer : 0.899389434563313\n",
      "Classification report : \n",
      "              precision    recall  f1-score   support\n",
      "\n",
      "         0.0       0.93      0.87      0.90      1901\n",
      "         1.0       0.85      0.92      0.88      1569\n",
      "         2.0       1.00      1.00      1.00       297\n",
      "\n",
      "    accuracy                           0.90      3767\n",
      "   macro avg       0.93      0.93      0.93      3767\n",
      "weighted avg       0.90      0.90      0.90      3767\n",
      "\n"
     ]
    }
   ],
   "source": [
    "from sklearn.metrics import classification_report, accuracy_score\n",
    "breed_y_pred = breed_classifier.predict(breed_x_test)\n",
    "cr_pet = classification_report(breed_y_pred, breed_y_test)\n",
    "print(f\"accuracy for breed_classifer : {accuracy_score(breed_y_pred, breed_y_test)}\")\n",
    "print(f\"Classification report : \\n{cr}\")"
   ]
  },
  {
   "cell_type": "code",
   "execution_count": 26,
   "metadata": {
    "colab": {
     "base_uri": "https://localhost:8080/",
     "height": 136
    },
    "colab_type": "code",
    "id": "1UnaI4lEpNXP",
    "outputId": "6ea49f42-76da-40a4-ad75-f56483f3187e"
   },
   "outputs": [
    {
     "data": {
      "text/plain": [
       "XGBClassifier(base_score=0.5, booster='gbtree', colsample_bylevel=1,\n",
       "              colsample_bynode=1, colsample_bytree=1, gamma=0,\n",
       "              learning_rate=0.1, max_delta_step=0, max_depth=3,\n",
       "              min_child_weight=1, missing=None, n_estimators=100, n_jobs=1,\n",
       "              nthread=None, objective='multi:softprob', random_state=0,\n",
       "              reg_alpha=0, reg_lambda=1, scale_pos_weight=1, seed=None,\n",
       "              silent=None, subsample=1, verbosity=1)"
      ]
     },
     "execution_count": 26,
     "metadata": {
      "tags": []
     },
     "output_type": "execute_result"
    }
   ],
   "source": [
    "pet_classifier = XGBClassifier()\n",
    "pet_classifier.fit(pet_x_train, pet_y_train)"
   ]
  },
  {
   "cell_type": "code",
   "execution_count": 28,
   "metadata": {
    "colab": {
     "base_uri": "https://localhost:8080/",
     "height": 275
    },
    "colab_type": "code",
    "id": "06OF8ZJEpaui",
    "outputId": "cbbc6e82-3f49-4d86-d300-a695d58a048b"
   },
   "outputs": [
    {
     "name": "stderr",
     "output_type": "stream",
     "text": [
      "/usr/local/lib/python3.6/dist-packages/sklearn/metrics/_classification.py:1272: UndefinedMetricWarning: Recall and F-score are ill-defined and being set to 0.0 in labels with no true samples. Use `zero_division` parameter to control this behavior.\n",
      "  _warn_prf(average, modifier, msg_start, len(result))\n"
     ]
    },
    {
     "name": "stdout",
     "output_type": "stream",
     "text": [
      "accuracy for pet_classifer : 0.8879745155295992\n",
      "Classification report : \n",
      "              precision    recall  f1-score   support\n",
      "\n",
      "         0.0       0.93      0.87      0.90      1901\n",
      "         1.0       0.85      0.92      0.88      1569\n",
      "         2.0       1.00      1.00      1.00       297\n",
      "\n",
      "    accuracy                           0.90      3767\n",
      "   macro avg       0.93      0.93      0.93      3767\n",
      "weighted avg       0.90      0.90      0.90      3767\n",
      "\n"
     ]
    }
   ],
   "source": [
    "from sklearn.metrics import classification_report, accuracy_score\n",
    "pet_y_pred = pet_classifier.predict(pet_x_test)\n",
    "cr_pet = classification_report(pet_y_pred, pet_y_test)\n",
    "print(f\"accuracy for pet_classifer : {accuracy_score(pet_y_pred, pet_y_test)}\")\n",
    "print(f\"Classification report : \\n{cr}\")"
   ]
  },
  {
   "cell_type": "markdown",
   "metadata": {
    "colab_type": "text",
    "id": "jV5PMGb5p1lE"
   },
   "source": [
    "##Cross validation of Breed_prediction and Pet_prediction"
   ]
  },
  {
   "cell_type": "code",
   "execution_count": 31,
   "metadata": {
    "colab": {
     "base_uri": "https://localhost:8080/",
     "height": 34
    },
    "colab_type": "code",
    "id": "RSuOg69epjbo",
    "outputId": "629cbc87-3e84-419a-e987-ae200a7e801b"
   },
   "outputs": [
    {
     "name": "stdout",
     "output_type": "stream",
     "text": [
      "mean accuracy : 90.5621574749443%\n"
     ]
    }
   ],
   "source": [
    "from sklearn.model_selection import cross_val_score\n",
    "accuracies = cross_val_score(estimator=breed_classifier, X = breed_x_train, y = breed_y_train, cv = 10)\n",
    "print(f\"mean accuracy : {accuracies.mean()*100}%\")"
   ]
  },
  {
   "cell_type": "code",
   "execution_count": 32,
   "metadata": {
    "colab": {
     "base_uri": "https://localhost:8080/",
     "height": 34
    },
    "colab_type": "code",
    "id": "U43ilg-NqBXx",
    "outputId": "00d2e254-370c-43bb-89c9-528d4d0ab4c8"
   },
   "outputs": [
    {
     "name": "stdout",
     "output_type": "stream",
     "text": [
      "mean accuracy : 88.61755808000028%\n"
     ]
    }
   ],
   "source": [
    "from sklearn.model_selection import cross_val_score\n",
    "accuracies_pet = cross_val_score(estimator=pet_classifier, X = pet_x_train, y = pet_y_train, cv = 10)\n",
    "print(f\"mean accuracy : {accuracies_pet.mean()*100}%\")"
   ]
  },
  {
   "cell_type": "markdown",
   "metadata": {
    "colab_type": "text",
    "id": "ciR7JMDqrNiv"
   },
   "source": [
    "##Testing"
   ]
  },
  {
   "cell_type": "code",
   "execution_count": 35,
   "metadata": {
    "colab": {
     "base_uri": "https://localhost:8080/",
     "height": 204
    },
    "colab_type": "code",
    "id": "_4Eg_bwbq0RS",
    "outputId": "a9ff2d37-9a0c-4ba0-9cb2-fa07d276578b"
   },
   "outputs": [
    {
     "data": {
      "text/html": [
       "<div>\n",
       "<style scoped>\n",
       "    .dataframe tbody tr th:only-of-type {\n",
       "        vertical-align: middle;\n",
       "    }\n",
       "\n",
       "    .dataframe tbody tr th {\n",
       "        vertical-align: top;\n",
       "    }\n",
       "\n",
       "    .dataframe thead th {\n",
       "        text-align: right;\n",
       "    }\n",
       "</style>\n",
       "<table border=\"1\" class=\"dataframe\">\n",
       "  <thead>\n",
       "    <tr style=\"text-align: right;\">\n",
       "      <th></th>\n",
       "      <th>pet_id</th>\n",
       "      <th>issue_date</th>\n",
       "      <th>listing_date</th>\n",
       "      <th>condition</th>\n",
       "      <th>color_type</th>\n",
       "      <th>length(m)</th>\n",
       "      <th>height(cm)</th>\n",
       "      <th>X1</th>\n",
       "      <th>X2</th>\n",
       "    </tr>\n",
       "  </thead>\n",
       "  <tbody>\n",
       "    <tr>\n",
       "      <th>0</th>\n",
       "      <td>ANSL_75005</td>\n",
       "      <td>2005-08-17 00:00:00</td>\n",
       "      <td>2017-09-07 15:35:00</td>\n",
       "      <td>0.0</td>\n",
       "      <td>Black</td>\n",
       "      <td>0.87</td>\n",
       "      <td>42.73</td>\n",
       "      <td>0</td>\n",
       "      <td>7</td>\n",
       "    </tr>\n",
       "    <tr>\n",
       "      <th>1</th>\n",
       "      <td>ANSL_76663</td>\n",
       "      <td>2018-11-15 00:00:00</td>\n",
       "      <td>2019-05-08 17:24:00</td>\n",
       "      <td>1.0</td>\n",
       "      <td>Orange Tabby</td>\n",
       "      <td>0.06</td>\n",
       "      <td>6.71</td>\n",
       "      <td>0</td>\n",
       "      <td>1</td>\n",
       "    </tr>\n",
       "    <tr>\n",
       "      <th>2</th>\n",
       "      <td>ANSL_58259</td>\n",
       "      <td>2012-10-11 00:00:00</td>\n",
       "      <td>2018-04-02 16:51:00</td>\n",
       "      <td>1.0</td>\n",
       "      <td>Black</td>\n",
       "      <td>0.24</td>\n",
       "      <td>41.21</td>\n",
       "      <td>0</td>\n",
       "      <td>7</td>\n",
       "    </tr>\n",
       "    <tr>\n",
       "      <th>3</th>\n",
       "      <td>ANSL_67171</td>\n",
       "      <td>2015-02-13 00:00:00</td>\n",
       "      <td>2018-04-06 07:25:00</td>\n",
       "      <td>1.0</td>\n",
       "      <td>Black</td>\n",
       "      <td>0.29</td>\n",
       "      <td>8.46</td>\n",
       "      <td>7</td>\n",
       "      <td>1</td>\n",
       "    </tr>\n",
       "    <tr>\n",
       "      <th>4</th>\n",
       "      <td>ANSL_72871</td>\n",
       "      <td>2017-01-18 00:00:00</td>\n",
       "      <td>2018-04-26 13:42:00</td>\n",
       "      <td>1.0</td>\n",
       "      <td>Brown</td>\n",
       "      <td>0.71</td>\n",
       "      <td>30.92</td>\n",
       "      <td>0</td>\n",
       "      <td>7</td>\n",
       "    </tr>\n",
       "  </tbody>\n",
       "</table>\n",
       "</div>"
      ],
      "text/plain": [
       "       pet_id           issue_date         listing_date  ...  height(cm) X1  X2\n",
       "0  ANSL_75005  2005-08-17 00:00:00  2017-09-07 15:35:00  ...       42.73  0   7\n",
       "1  ANSL_76663  2018-11-15 00:00:00  2019-05-08 17:24:00  ...        6.71  0   1\n",
       "2  ANSL_58259  2012-10-11 00:00:00  2018-04-02 16:51:00  ...       41.21  0   7\n",
       "3  ANSL_67171  2015-02-13 00:00:00  2018-04-06 07:25:00  ...        8.46  7   1\n",
       "4  ANSL_72871  2017-01-18 00:00:00  2018-04-26 13:42:00  ...       30.92  0   7\n",
       "\n",
       "[5 rows x 9 columns]"
      ]
     },
     "execution_count": 35,
     "metadata": {
      "tags": []
     },
     "output_type": "execute_result"
    }
   ],
   "source": [
    "test_data = pd.read_csv(\"Dataset/test.csv\")\n",
    "test_data.head()"
   ]
  },
  {
   "cell_type": "code",
   "execution_count": 36,
   "metadata": {
    "colab": {
     "base_uri": "https://localhost:8080/",
     "height": 289
    },
    "colab_type": "code",
    "id": "NN8mMTHtrJaq",
    "outputId": "fa997d56-845d-481c-90bd-fb22a72252d7"
   },
   "outputs": [
    {
     "name": "stdout",
     "output_type": "stream",
     "text": [
      "<class 'pandas.core.frame.DataFrame'>\n",
      "RangeIndex: 8072 entries, 0 to 8071\n",
      "Data columns (total 9 columns):\n",
      " #   Column        Non-Null Count  Dtype  \n",
      "---  ------        --------------  -----  \n",
      " 0   pet_id        8072 non-null   object \n",
      " 1   issue_date    8072 non-null   object \n",
      " 2   listing_date  8072 non-null   object \n",
      " 3   condition     7453 non-null   float64\n",
      " 4   color_type    8072 non-null   object \n",
      " 5   length(m)     8072 non-null   float64\n",
      " 6   height(cm)    8072 non-null   float64\n",
      " 7   X1            8072 non-null   int64  \n",
      " 8   X2            8072 non-null   int64  \n",
      "dtypes: float64(3), int64(2), object(4)\n",
      "memory usage: 567.7+ KB\n"
     ]
    }
   ],
   "source": [
    "test_data.info()"
   ]
  },
  {
   "cell_type": "code",
   "execution_count": 37,
   "metadata": {
    "colab": {
     "base_uri": "https://localhost:8080/",
     "height": 289
    },
    "colab_type": "code",
    "id": "82Q7NGR2rXNX",
    "outputId": "3f774c64-3437-4abb-ba23-2be2b0fa0254"
   },
   "outputs": [
    {
     "name": "stdout",
     "output_type": "stream",
     "text": [
      "<class 'pandas.core.frame.DataFrame'>\n",
      "RangeIndex: 8072 entries, 0 to 8071\n",
      "Data columns (total 9 columns):\n",
      " #   Column        Non-Null Count  Dtype  \n",
      "---  ------        --------------  -----  \n",
      " 0   pet_id        8072 non-null   object \n",
      " 1   issue_date    8072 non-null   object \n",
      " 2   listing_date  8072 non-null   object \n",
      " 3   condition     8072 non-null   float64\n",
      " 4   color_type    8072 non-null   object \n",
      " 5   length(m)     8072 non-null   float64\n",
      " 6   height(cm)    8072 non-null   float64\n",
      " 7   X1            8072 non-null   int64  \n",
      " 8   X2            8072 non-null   int64  \n",
      "dtypes: float64(3), int64(2), object(4)\n",
      "memory usage: 567.7+ KB\n"
     ]
    }
   ],
   "source": [
    "nan_miss = test_data.condition.mode()\n",
    "test_data.fillna(test_data.condition.mean(), inplace =True)\n",
    "test_data.info()"
   ]
  },
  {
   "cell_type": "code",
   "execution_count": 38,
   "metadata": {
    "colab": {
     "base_uri": "https://localhost:8080/",
     "height": 204
    },
    "colab_type": "code",
    "id": "oKFt6ukxrlNM",
    "outputId": "67392af6-a0ca-4e6c-a853-9c33fa1c00e3"
   },
   "outputs": [
    {
     "data": {
      "text/html": [
       "<div>\n",
       "<style scoped>\n",
       "    .dataframe tbody tr th:only-of-type {\n",
       "        vertical-align: middle;\n",
       "    }\n",
       "\n",
       "    .dataframe tbody tr th {\n",
       "        vertical-align: top;\n",
       "    }\n",
       "\n",
       "    .dataframe thead th {\n",
       "        text-align: right;\n",
       "    }\n",
       "</style>\n",
       "<table border=\"1\" class=\"dataframe\">\n",
       "  <thead>\n",
       "    <tr style=\"text-align: right;\">\n",
       "      <th></th>\n",
       "      <th>pet_id</th>\n",
       "      <th>issue_date</th>\n",
       "      <th>listing_date</th>\n",
       "      <th>condition</th>\n",
       "      <th>color_type</th>\n",
       "      <th>length(m)</th>\n",
       "      <th>height(cm)</th>\n",
       "      <th>X1</th>\n",
       "      <th>X2</th>\n",
       "      <th>days</th>\n",
       "    </tr>\n",
       "  </thead>\n",
       "  <tbody>\n",
       "    <tr>\n",
       "      <th>0</th>\n",
       "      <td>ANSL_75005</td>\n",
       "      <td>2005-08-17</td>\n",
       "      <td>2017-09-07 15:35:00</td>\n",
       "      <td>0.0</td>\n",
       "      <td>Black</td>\n",
       "      <td>0.87</td>\n",
       "      <td>42.73</td>\n",
       "      <td>0</td>\n",
       "      <td>7</td>\n",
       "      <td>4404</td>\n",
       "    </tr>\n",
       "    <tr>\n",
       "      <th>1</th>\n",
       "      <td>ANSL_76663</td>\n",
       "      <td>2018-11-15</td>\n",
       "      <td>2019-05-08 17:24:00</td>\n",
       "      <td>1.0</td>\n",
       "      <td>Orange Tabby</td>\n",
       "      <td>0.06</td>\n",
       "      <td>6.71</td>\n",
       "      <td>0</td>\n",
       "      <td>1</td>\n",
       "      <td>174</td>\n",
       "    </tr>\n",
       "    <tr>\n",
       "      <th>2</th>\n",
       "      <td>ANSL_58259</td>\n",
       "      <td>2012-10-11</td>\n",
       "      <td>2018-04-02 16:51:00</td>\n",
       "      <td>1.0</td>\n",
       "      <td>Black</td>\n",
       "      <td>0.24</td>\n",
       "      <td>41.21</td>\n",
       "      <td>0</td>\n",
       "      <td>7</td>\n",
       "      <td>1999</td>\n",
       "    </tr>\n",
       "    <tr>\n",
       "      <th>3</th>\n",
       "      <td>ANSL_67171</td>\n",
       "      <td>2015-02-13</td>\n",
       "      <td>2018-04-06 07:25:00</td>\n",
       "      <td>1.0</td>\n",
       "      <td>Black</td>\n",
       "      <td>0.29</td>\n",
       "      <td>8.46</td>\n",
       "      <td>7</td>\n",
       "      <td>1</td>\n",
       "      <td>1148</td>\n",
       "    </tr>\n",
       "    <tr>\n",
       "      <th>4</th>\n",
       "      <td>ANSL_72871</td>\n",
       "      <td>2017-01-18</td>\n",
       "      <td>2018-04-26 13:42:00</td>\n",
       "      <td>1.0</td>\n",
       "      <td>Brown</td>\n",
       "      <td>0.71</td>\n",
       "      <td>30.92</td>\n",
       "      <td>0</td>\n",
       "      <td>7</td>\n",
       "      <td>463</td>\n",
       "    </tr>\n",
       "  </tbody>\n",
       "</table>\n",
       "</div>"
      ],
      "text/plain": [
       "       pet_id issue_date        listing_date  ...  X1 X2  days\n",
       "0  ANSL_75005 2005-08-17 2017-09-07 15:35:00  ...   0  7  4404\n",
       "1  ANSL_76663 2018-11-15 2019-05-08 17:24:00  ...   0  1   174\n",
       "2  ANSL_58259 2012-10-11 2018-04-02 16:51:00  ...   0  7  1999\n",
       "3  ANSL_67171 2015-02-13 2018-04-06 07:25:00  ...   7  1  1148\n",
       "4  ANSL_72871 2017-01-18 2018-04-26 13:42:00  ...   0  7   463\n",
       "\n",
       "[5 rows x 10 columns]"
      ]
     },
     "execution_count": 38,
     "metadata": {
      "tags": []
     },
     "output_type": "execute_result"
    }
   ],
   "source": [
    "test_data[\"issue_date\"]=pd.to_datetime(test_data[\"issue_date\"],format='%Y-%m-%d')\n",
    "test_data[\"listing_date\"]=pd.to_datetime(test_data[\"listing_date\"],format='%Y-%m-%d')\n",
    "test_data[\"days\"] = (test_data[\"listing_date\"] - test_data[\"issue_date\"]).dt.days\n",
    "test_data.head()"
   ]
  },
  {
   "cell_type": "code",
   "execution_count": 39,
   "metadata": {
    "colab": {
     "base_uri": "https://localhost:8080/",
     "height": 204
    },
    "colab_type": "code",
    "id": "sfyFi4Q_rwBV",
    "outputId": "bf1d7661-1e2e-42e9-ab53-83b89ec1008d"
   },
   "outputs": [
    {
     "data": {
      "text/html": [
       "<div>\n",
       "<style scoped>\n",
       "    .dataframe tbody tr th:only-of-type {\n",
       "        vertical-align: middle;\n",
       "    }\n",
       "\n",
       "    .dataframe tbody tr th {\n",
       "        vertical-align: top;\n",
       "    }\n",
       "\n",
       "    .dataframe thead th {\n",
       "        text-align: right;\n",
       "    }\n",
       "</style>\n",
       "<table border=\"1\" class=\"dataframe\">\n",
       "  <thead>\n",
       "    <tr style=\"text-align: right;\">\n",
       "      <th></th>\n",
       "      <th>pet_id</th>\n",
       "      <th>issue_date</th>\n",
       "      <th>listing_date</th>\n",
       "      <th>condition</th>\n",
       "      <th>color_type</th>\n",
       "      <th>length(m)</th>\n",
       "      <th>height(cm)</th>\n",
       "      <th>X1</th>\n",
       "      <th>X2</th>\n",
       "      <th>days</th>\n",
       "    </tr>\n",
       "  </thead>\n",
       "  <tbody>\n",
       "    <tr>\n",
       "      <th>0</th>\n",
       "      <td>ANSL_75005</td>\n",
       "      <td>2005-08-17</td>\n",
       "      <td>2017-09-07 15:35:00</td>\n",
       "      <td>0.0</td>\n",
       "      <td>2</td>\n",
       "      <td>0.87</td>\n",
       "      <td>42.73</td>\n",
       "      <td>0</td>\n",
       "      <td>7</td>\n",
       "      <td>4404</td>\n",
       "    </tr>\n",
       "    <tr>\n",
       "      <th>1</th>\n",
       "      <td>ANSL_76663</td>\n",
       "      <td>2018-11-15</td>\n",
       "      <td>2019-05-08 17:24:00</td>\n",
       "      <td>1.0</td>\n",
       "      <td>38</td>\n",
       "      <td>0.06</td>\n",
       "      <td>6.71</td>\n",
       "      <td>0</td>\n",
       "      <td>1</td>\n",
       "      <td>174</td>\n",
       "    </tr>\n",
       "    <tr>\n",
       "      <th>2</th>\n",
       "      <td>ANSL_58259</td>\n",
       "      <td>2012-10-11</td>\n",
       "      <td>2018-04-02 16:51:00</td>\n",
       "      <td>1.0</td>\n",
       "      <td>2</td>\n",
       "      <td>0.24</td>\n",
       "      <td>41.21</td>\n",
       "      <td>0</td>\n",
       "      <td>7</td>\n",
       "      <td>1999</td>\n",
       "    </tr>\n",
       "    <tr>\n",
       "      <th>3</th>\n",
       "      <td>ANSL_67171</td>\n",
       "      <td>2015-02-13</td>\n",
       "      <td>2018-04-06 07:25:00</td>\n",
       "      <td>1.0</td>\n",
       "      <td>2</td>\n",
       "      <td>0.29</td>\n",
       "      <td>8.46</td>\n",
       "      <td>7</td>\n",
       "      <td>1</td>\n",
       "      <td>1148</td>\n",
       "    </tr>\n",
       "    <tr>\n",
       "      <th>4</th>\n",
       "      <td>ANSL_72871</td>\n",
       "      <td>2017-01-18</td>\n",
       "      <td>2018-04-26 13:42:00</td>\n",
       "      <td>1.0</td>\n",
       "      <td>15</td>\n",
       "      <td>0.71</td>\n",
       "      <td>30.92</td>\n",
       "      <td>0</td>\n",
       "      <td>7</td>\n",
       "      <td>463</td>\n",
       "    </tr>\n",
       "  </tbody>\n",
       "</table>\n",
       "</div>"
      ],
      "text/plain": [
       "       pet_id issue_date        listing_date  ...  X1  X2  days\n",
       "0  ANSL_75005 2005-08-17 2017-09-07 15:35:00  ...   0   7  4404\n",
       "1  ANSL_76663 2018-11-15 2019-05-08 17:24:00  ...   0   1   174\n",
       "2  ANSL_58259 2012-10-11 2018-04-02 16:51:00  ...   0   7  1999\n",
       "3  ANSL_67171 2015-02-13 2018-04-06 07:25:00  ...   7   1  1148\n",
       "4  ANSL_72871 2017-01-18 2018-04-26 13:42:00  ...   0   7   463\n",
       "\n",
       "[5 rows x 10 columns]"
      ]
     },
     "execution_count": 39,
     "metadata": {
      "tags": []
     },
     "output_type": "execute_result"
    }
   ],
   "source": [
    "test_data[\"color_type\"] = le.transform(test_data.color_type.to_list())\n",
    "test_data.head()"
   ]
  },
  {
   "cell_type": "code",
   "execution_count": 40,
   "metadata": {
    "colab": {
     "base_uri": "https://localhost:8080/",
     "height": 204
    },
    "colab_type": "code",
    "id": "LT-BwAIysAwX",
    "outputId": "e0e5a58f-cbf8-47d4-8e05-c2f15f1641cb"
   },
   "outputs": [
    {
     "data": {
      "text/html": [
       "<div>\n",
       "<style scoped>\n",
       "    .dataframe tbody tr th:only-of-type {\n",
       "        vertical-align: middle;\n",
       "    }\n",
       "\n",
       "    .dataframe tbody tr th {\n",
       "        vertical-align: top;\n",
       "    }\n",
       "\n",
       "    .dataframe thead th {\n",
       "        text-align: right;\n",
       "    }\n",
       "</style>\n",
       "<table border=\"1\" class=\"dataframe\">\n",
       "  <thead>\n",
       "    <tr style=\"text-align: right;\">\n",
       "      <th></th>\n",
       "      <th>condition</th>\n",
       "      <th>color_type</th>\n",
       "      <th>length(m)</th>\n",
       "      <th>height(cm)</th>\n",
       "      <th>X1</th>\n",
       "      <th>X2</th>\n",
       "      <th>days</th>\n",
       "    </tr>\n",
       "  </thead>\n",
       "  <tbody>\n",
       "    <tr>\n",
       "      <th>0</th>\n",
       "      <td>0.0</td>\n",
       "      <td>2.0</td>\n",
       "      <td>0.87</td>\n",
       "      <td>42.730000</td>\n",
       "      <td>0.0</td>\n",
       "      <td>7.0</td>\n",
       "      <td>4404.0</td>\n",
       "    </tr>\n",
       "    <tr>\n",
       "      <th>1</th>\n",
       "      <td>1.0</td>\n",
       "      <td>38.0</td>\n",
       "      <td>0.06</td>\n",
       "      <td>6.710000</td>\n",
       "      <td>0.0</td>\n",
       "      <td>1.0</td>\n",
       "      <td>174.0</td>\n",
       "    </tr>\n",
       "    <tr>\n",
       "      <th>2</th>\n",
       "      <td>1.0</td>\n",
       "      <td>2.0</td>\n",
       "      <td>0.24</td>\n",
       "      <td>41.209999</td>\n",
       "      <td>0.0</td>\n",
       "      <td>7.0</td>\n",
       "      <td>1999.0</td>\n",
       "    </tr>\n",
       "    <tr>\n",
       "      <th>3</th>\n",
       "      <td>1.0</td>\n",
       "      <td>2.0</td>\n",
       "      <td>0.29</td>\n",
       "      <td>8.460000</td>\n",
       "      <td>7.0</td>\n",
       "      <td>1.0</td>\n",
       "      <td>1148.0</td>\n",
       "    </tr>\n",
       "    <tr>\n",
       "      <th>4</th>\n",
       "      <td>1.0</td>\n",
       "      <td>15.0</td>\n",
       "      <td>0.71</td>\n",
       "      <td>30.920000</td>\n",
       "      <td>0.0</td>\n",
       "      <td>7.0</td>\n",
       "      <td>463.0</td>\n",
       "    </tr>\n",
       "  </tbody>\n",
       "</table>\n",
       "</div>"
      ],
      "text/plain": [
       "   condition  color_type  length(m)  height(cm)   X1   X2    days\n",
       "0        0.0         2.0       0.87   42.730000  0.0  7.0  4404.0\n",
       "1        1.0        38.0       0.06    6.710000  0.0  1.0   174.0\n",
       "2        1.0         2.0       0.24   41.209999  0.0  7.0  1999.0\n",
       "3        1.0         2.0       0.29    8.460000  7.0  1.0  1148.0\n",
       "4        1.0        15.0       0.71   30.920000  0.0  7.0   463.0"
      ]
     },
     "execution_count": 40,
     "metadata": {
      "tags": []
     },
     "output_type": "execute_result"
    }
   ],
   "source": [
    "features_test = test_data.drop(['pet_id',\"issue_date\", \"listing_date\"], axis = 1)\n",
    "for col in features_test.columns.tolist():\n",
    "  features_test[col] = pd.to_numeric(features_test[col], downcast = \"float\")\n",
    "features_test.head()"
   ]
  },
  {
   "cell_type": "code",
   "execution_count": 42,
   "metadata": {
    "colab": {
     "base_uri": "https://localhost:8080/",
     "height": 204
    },
    "colab_type": "code",
    "id": "rbGiBtSqsm_k",
    "outputId": "17729c57-844a-4de3-b41b-2fe1b7323e75"
   },
   "outputs": [
    {
     "data": {
      "text/html": [
       "<div>\n",
       "<style scoped>\n",
       "    .dataframe tbody tr th:only-of-type {\n",
       "        vertical-align: middle;\n",
       "    }\n",
       "\n",
       "    .dataframe tbody tr th {\n",
       "        vertical-align: top;\n",
       "    }\n",
       "\n",
       "    .dataframe thead th {\n",
       "        text-align: right;\n",
       "    }\n",
       "</style>\n",
       "<table border=\"1\" class=\"dataframe\">\n",
       "  <thead>\n",
       "    <tr style=\"text-align: right;\">\n",
       "      <th></th>\n",
       "      <th>condition</th>\n",
       "      <th>color_type</th>\n",
       "      <th>X1</th>\n",
       "      <th>days</th>\n",
       "    </tr>\n",
       "  </thead>\n",
       "  <tbody>\n",
       "    <tr>\n",
       "      <th>0</th>\n",
       "      <td>0.0</td>\n",
       "      <td>2.0</td>\n",
       "      <td>0.0</td>\n",
       "      <td>4404.0</td>\n",
       "    </tr>\n",
       "    <tr>\n",
       "      <th>1</th>\n",
       "      <td>1.0</td>\n",
       "      <td>38.0</td>\n",
       "      <td>0.0</td>\n",
       "      <td>174.0</td>\n",
       "    </tr>\n",
       "    <tr>\n",
       "      <th>2</th>\n",
       "      <td>1.0</td>\n",
       "      <td>2.0</td>\n",
       "      <td>0.0</td>\n",
       "      <td>1999.0</td>\n",
       "    </tr>\n",
       "    <tr>\n",
       "      <th>3</th>\n",
       "      <td>1.0</td>\n",
       "      <td>2.0</td>\n",
       "      <td>7.0</td>\n",
       "      <td>1148.0</td>\n",
       "    </tr>\n",
       "    <tr>\n",
       "      <th>4</th>\n",
       "      <td>1.0</td>\n",
       "      <td>15.0</td>\n",
       "      <td>0.0</td>\n",
       "      <td>463.0</td>\n",
       "    </tr>\n",
       "  </tbody>\n",
       "</table>\n",
       "</div>"
      ],
      "text/plain": [
       "   condition  color_type   X1    days\n",
       "0        0.0         2.0  0.0  4404.0\n",
       "1        1.0        38.0  0.0   174.0\n",
       "2        1.0         2.0  0.0  1999.0\n",
       "3        1.0         2.0  7.0  1148.0\n",
       "4        1.0        15.0  0.0   463.0"
      ]
     },
     "execution_count": 42,
     "metadata": {
      "tags": []
     },
     "output_type": "execute_result"
    }
   ],
   "source": [
    "features_test = features_test.drop([\"length(m)\",\"height(cm)\", \"X2\"], axis = 1)\n",
    "features_test.head()"
   ]
  },
  {
   "cell_type": "code",
   "execution_count": 43,
   "metadata": {
    "colab": {
     "base_uri": "https://localhost:8080/",
     "height": 153
    },
    "colab_type": "code",
    "id": "6wWfjM05sYYc",
    "outputId": "dc25cc58-477f-4ee1-9861-838215e7c7a9"
   },
   "outputs": [
    {
     "data": {
      "text/plain": [
       "array([[-1.1944374 , -1.1610291 , -0.8170178 ,  3.2359517 ],\n",
       "       [ 0.15766916,  0.69163346, -0.8170178 , -0.62126416],\n",
       "       [ 0.15766916, -1.1610291 , -0.8170178 ,  1.0429012 ],\n",
       "       ...,\n",
       "       [-1.1944374 , -1.1610291 , -0.8170178 , -0.42156434],\n",
       "       [ 0.00437117, -1.1610291 , -0.8170178 , -0.42703557],\n",
       "       [-1.1944374 , -1.1610291 , -0.8170178 , -0.4224762 ]],\n",
       "      dtype=float32)"
      ]
     },
     "execution_count": 43,
     "metadata": {
      "tags": []
     },
     "output_type": "execute_result"
    }
   ],
   "source": [
    "features_test = ss.transform(features_test)\n",
    "features_test"
   ]
  },
  {
   "cell_type": "code",
   "execution_count": 44,
   "metadata": {
    "colab": {},
    "colab_type": "code",
    "id": "TiD_0hxhshpw"
   },
   "outputs": [],
   "source": [
    "test_breed = breed_classifier.predict(features_test)\n",
    "test_pet = pet_classifier.predict(features_test)"
   ]
  },
  {
   "cell_type": "code",
   "execution_count": 45,
   "metadata": {
    "colab": {
     "base_uri": "https://localhost:8080/",
     "height": 309
    },
    "colab_type": "code",
    "id": "VrfH7QeItEJ4",
    "outputId": "cff0a331-a4c1-4dd4-ab47-4c125900c3e4"
   },
   "outputs": [
    {
     "data": {
      "text/html": [
       "<div>\n",
       "<style scoped>\n",
       "    .dataframe tbody tr th:only-of-type {\n",
       "        vertical-align: middle;\n",
       "    }\n",
       "\n",
       "    .dataframe tbody tr th {\n",
       "        vertical-align: top;\n",
       "    }\n",
       "\n",
       "    .dataframe thead th {\n",
       "        text-align: right;\n",
       "    }\n",
       "</style>\n",
       "<table border=\"1\" class=\"dataframe\">\n",
       "  <thead>\n",
       "    <tr style=\"text-align: right;\">\n",
       "      <th></th>\n",
       "      <th>pet_id</th>\n",
       "      <th>issue_date</th>\n",
       "      <th>listing_date</th>\n",
       "      <th>condition</th>\n",
       "      <th>color_type</th>\n",
       "      <th>length(m)</th>\n",
       "      <th>height(cm)</th>\n",
       "      <th>X1</th>\n",
       "      <th>X2</th>\n",
       "      <th>days</th>\n",
       "      <th>breed_category</th>\n",
       "      <th>pet_category</th>\n",
       "    </tr>\n",
       "  </thead>\n",
       "  <tbody>\n",
       "    <tr>\n",
       "      <th>0</th>\n",
       "      <td>ANSL_75005</td>\n",
       "      <td>2005-08-17</td>\n",
       "      <td>2017-09-07 15:35:00</td>\n",
       "      <td>0.0</td>\n",
       "      <td>2</td>\n",
       "      <td>0.87</td>\n",
       "      <td>42.73</td>\n",
       "      <td>0</td>\n",
       "      <td>7</td>\n",
       "      <td>4404</td>\n",
       "      <td>1.0</td>\n",
       "      <td>2.0</td>\n",
       "    </tr>\n",
       "    <tr>\n",
       "      <th>1</th>\n",
       "      <td>ANSL_76663</td>\n",
       "      <td>2018-11-15</td>\n",
       "      <td>2019-05-08 17:24:00</td>\n",
       "      <td>1.0</td>\n",
       "      <td>38</td>\n",
       "      <td>0.06</td>\n",
       "      <td>6.71</td>\n",
       "      <td>0</td>\n",
       "      <td>1</td>\n",
       "      <td>174</td>\n",
       "      <td>0.0</td>\n",
       "      <td>1.0</td>\n",
       "    </tr>\n",
       "    <tr>\n",
       "      <th>2</th>\n",
       "      <td>ANSL_58259</td>\n",
       "      <td>2012-10-11</td>\n",
       "      <td>2018-04-02 16:51:00</td>\n",
       "      <td>1.0</td>\n",
       "      <td>2</td>\n",
       "      <td>0.24</td>\n",
       "      <td>41.21</td>\n",
       "      <td>0</td>\n",
       "      <td>7</td>\n",
       "      <td>1999</td>\n",
       "      <td>0.0</td>\n",
       "      <td>2.0</td>\n",
       "    </tr>\n",
       "    <tr>\n",
       "      <th>3</th>\n",
       "      <td>ANSL_67171</td>\n",
       "      <td>2015-02-13</td>\n",
       "      <td>2018-04-06 07:25:00</td>\n",
       "      <td>1.0</td>\n",
       "      <td>2</td>\n",
       "      <td>0.29</td>\n",
       "      <td>8.46</td>\n",
       "      <td>7</td>\n",
       "      <td>1</td>\n",
       "      <td>1148</td>\n",
       "      <td>0.0</td>\n",
       "      <td>2.0</td>\n",
       "    </tr>\n",
       "    <tr>\n",
       "      <th>4</th>\n",
       "      <td>ANSL_72871</td>\n",
       "      <td>2017-01-18</td>\n",
       "      <td>2018-04-26 13:42:00</td>\n",
       "      <td>1.0</td>\n",
       "      <td>15</td>\n",
       "      <td>0.71</td>\n",
       "      <td>30.92</td>\n",
       "      <td>0</td>\n",
       "      <td>7</td>\n",
       "      <td>463</td>\n",
       "      <td>0.0</td>\n",
       "      <td>2.0</td>\n",
       "    </tr>\n",
       "  </tbody>\n",
       "</table>\n",
       "</div>"
      ],
      "text/plain": [
       "       pet_id issue_date  ... breed_category  pet_category\n",
       "0  ANSL_75005 2005-08-17  ...            1.0           2.0\n",
       "1  ANSL_76663 2018-11-15  ...            0.0           1.0\n",
       "2  ANSL_58259 2012-10-11  ...            0.0           2.0\n",
       "3  ANSL_67171 2015-02-13  ...            0.0           2.0\n",
       "4  ANSL_72871 2017-01-18  ...            0.0           2.0\n",
       "\n",
       "[5 rows x 12 columns]"
      ]
     },
     "execution_count": 45,
     "metadata": {
      "tags": []
     },
     "output_type": "execute_result"
    }
   ],
   "source": [
    "test_data[\"breed_category\"] = test_breed\n",
    "test_data[\"pet_category\"] = test_pet\n",
    "test_data.head()"
   ]
  },
  {
   "cell_type": "code",
   "execution_count": 47,
   "metadata": {
    "colab": {
     "base_uri": "https://localhost:8080/",
     "height": 204
    },
    "colab_type": "code",
    "id": "puwr6yFotPLv",
    "outputId": "fdd92e40-25be-4842-8594-d00b6664c211"
   },
   "outputs": [
    {
     "data": {
      "text/html": [
       "<div>\n",
       "<style scoped>\n",
       "    .dataframe tbody tr th:only-of-type {\n",
       "        vertical-align: middle;\n",
       "    }\n",
       "\n",
       "    .dataframe tbody tr th {\n",
       "        vertical-align: top;\n",
       "    }\n",
       "\n",
       "    .dataframe thead th {\n",
       "        text-align: right;\n",
       "    }\n",
       "</style>\n",
       "<table border=\"1\" class=\"dataframe\">\n",
       "  <thead>\n",
       "    <tr style=\"text-align: right;\">\n",
       "      <th></th>\n",
       "      <th>pet_id</th>\n",
       "      <th>breed_category</th>\n",
       "      <th>pet_category</th>\n",
       "    </tr>\n",
       "  </thead>\n",
       "  <tbody>\n",
       "    <tr>\n",
       "      <th>0</th>\n",
       "      <td>ANSL_75005</td>\n",
       "      <td>1.0</td>\n",
       "      <td>2.0</td>\n",
       "    </tr>\n",
       "    <tr>\n",
       "      <th>1</th>\n",
       "      <td>ANSL_76663</td>\n",
       "      <td>0.0</td>\n",
       "      <td>1.0</td>\n",
       "    </tr>\n",
       "    <tr>\n",
       "      <th>2</th>\n",
       "      <td>ANSL_58259</td>\n",
       "      <td>0.0</td>\n",
       "      <td>2.0</td>\n",
       "    </tr>\n",
       "    <tr>\n",
       "      <th>3</th>\n",
       "      <td>ANSL_67171</td>\n",
       "      <td>0.0</td>\n",
       "      <td>2.0</td>\n",
       "    </tr>\n",
       "    <tr>\n",
       "      <th>4</th>\n",
       "      <td>ANSL_72871</td>\n",
       "      <td>0.0</td>\n",
       "      <td>2.0</td>\n",
       "    </tr>\n",
       "  </tbody>\n",
       "</table>\n",
       "</div>"
      ],
      "text/plain": [
       "       pet_id  breed_category  pet_category\n",
       "0  ANSL_75005             1.0           2.0\n",
       "1  ANSL_76663             0.0           1.0\n",
       "2  ANSL_58259             0.0           2.0\n",
       "3  ANSL_67171             0.0           2.0\n",
       "4  ANSL_72871             0.0           2.0"
      ]
     },
     "execution_count": 47,
     "metadata": {
      "tags": []
     },
     "output_type": "execute_result"
    }
   ],
   "source": [
    "result = test_data[[\"pet_id\", \"breed_category\", \"pet_category\"]]\n",
    "result.head()"
   ]
  },
  {
   "cell_type": "code",
   "execution_count": 48,
   "metadata": {
    "colab": {},
    "colab_type": "code",
    "id": "Pwcx-POCtY01"
   },
   "outputs": [],
   "source": [
    "result.to_csv(\"Result_11.csv\")"
   ]
  },
  {
   "cell_type": "code",
   "execution_count": null,
   "metadata": {
    "colab": {},
    "colab_type": "code",
    "id": "Tmz-6zn3th6K"
   },
   "outputs": [],
   "source": []
  }
 ],
 "metadata": {
  "colab": {
   "name": "Pet_adoption2.0.ipynb",
   "provenance": []
  },
  "kernelspec": {
   "display_name": "Python 3",
   "language": "python",
   "name": "python3"
  },
  "language_info": {
   "codemirror_mode": {
    "name": "ipython",
    "version": 3
   },
   "file_extension": ".py",
   "mimetype": "text/x-python",
   "name": "python",
   "nbconvert_exporter": "python",
   "pygments_lexer": "ipython3",
   "version": "3.7.4"
  }
 },
 "nbformat": 4,
 "nbformat_minor": 1
}
